{
 "cells": [
  {
   "cell_type": "markdown",
   "id": "8ce7f95d",
   "metadata": {},
   "source": [
    "## LH_CD_VICTOR_TINTEL_MARTINS"
   ]
  },
  {
   "cell_type": "markdown",
   "id": "501c68be",
   "metadata": {},
   "source": [
    "### Objetivos:\n",
    "- 1 - <b>Fazer uma análise exploratória dos dados (EDA), demonstrando as principais características entre as variáveis e apresentando algumas hipóteses relacionadas</b>\n",
    "- 2 -\tResponda também às seguintes perguntas:\n",
    "\n",
    "  a.\t<b>Qual filme você recomendaria para uma pessoa que você não conhece?</b>\n",
    "\n",
    "  b.\t<b>Quais são os principais fatores que estão relacionados com alta expectativa de faturamento de um filme? </b>\n",
    "\n",
    "  c.\t<b>Quais insights podem ser tirados com a coluna Overview? É possível inferir o gênero do filme a partir dessa coluna?</b>\n",
    "\n",
    "- 3 - <b>Explique como você faria a previsão da nota do imdb a partir dos dados. Quais variáveis e/ou suas transformações você utilizou e por quê? Qual tipo de problema estamos resolvendo (regressão, classificação)? Qual modelo melhor se aproxima dos dados e quais seus prós e contras? Qual medida de performance do modelo foi escolhida e por quê?</b>\n",
    "- 4 -\tSupondo um filme com as seguintes características:\n",
    "\n",
    "{'Series_Title': 'The Shawshank Redemption',\n",
    " 'Released_Year': '1994',\n",
    " 'Certificate': 'A',\n",
    " 'Runtime': '142 min',\n",
    " 'Genre': 'Drama',\n",
    " 'Overview': 'Two imprisoned men bond over a number of years, finding solace and eventual redemption through acts of common decency.',\n",
    " 'Meta_score': 80.0,\n",
    " 'Director': 'Frank Darabont',\n",
    " 'Star1': 'Tim Robbins',\n",
    " 'Star2': 'Morgan Freeman',\n",
    " 'Star3': 'Bob Gunton',\n",
    " 'Star4': 'William Sadler',\n",
    " 'No_of_Votes': 2343110,\n",
    " 'Gross': '28,341,469'}\n",
    "\n",
    "\n",
    "<b>Qual seria a nota do IMDB?</b>\n",
    "\n",
    "- 5 - <b>Salvar o modelo desenvolvido no formato .pkl. </b>\n",
    "- 6 - A entrega deve ser feita através de um repositório de código público que contenha:\n",
    "\n",
    "<b> a.\tREADME explicando como instalar e executar o projeto</b>\n",
    "\n",
    "<b>b.\tArquivo de requisitos com todos os pacotes utilizados e suas versões</b>\n",
    "\n",
    "<b>c.\tRelatórios das análises estatísticas e EDA em PDF, Jupyter Notebook ou semelhante conforme passo 1 e 2.</b>\n",
    "\n",
    "<b> d.\tCódigos de modelagem utilizados no passo 3 (pode ser entregue no mesmo Jupyter Notebook).</b>\n",
    "\n",
    "<b>  e.\tArquivo .pkl conforme passo 5 acima.\n",
    " Todos os códigos produzidos devem seguir as boas práticas de codificação.</b>\n",
    "\n",
    "\n"
   ]
  },
  {
   "cell_type": "code",
   "execution_count": null,
   "id": "86ad1b39-8cc0-459b-b489-d793836bd5c4",
   "metadata": {},
   "outputs": [],
   "source": []
  },
  {
   "cell_type": "code",
   "execution_count": null,
   "id": "c9e340d7-73f1-49b8-95d7-5078c636ba9b",
   "metadata": {},
   "outputs": [],
   "source": []
  },
  {
   "cell_type": "markdown",
   "id": "bd071fc3-18d1-42ce-b65d-5d2dc7185283",
   "metadata": {},
   "source": [
    "### Dicionário de dados: Descrição a que se refere cada variável do conjunto de dados\n",
    "A base de dados de treinamento contém 15 colunas. Seus nomes são auto-explicativos, mas, caso haja alguma dúvida, a descrição das colunas é:\n",
    "\n",
    "- Series_Title – Nome do filme\n",
    "- Released_Year - Ano de lançamento\n",
    "- Certificate - Classificação etária\n",
    "- Runtime – Tempo de duração\n",
    "- Genre - Gênero\n",
    "- IMDB_Rating - Nota do IMDB\n",
    "- Overview - Overview do filme\n",
    "- Meta_score - Média ponderada de todas as críticas \n",
    "- Director – Diretor\n",
    "- Star1 - Ator/atriz #1\n",
    "- Star2 - Ator/atriz #2\n",
    "- Star3 - Ator/atriz #3\n",
    "- Star4 - Ator/atriz #4\n",
    "- No_of_Votes - Número de votos\n",
    "- Gross - Faturamento\n"
   ]
  },
  {
   "cell_type": "code",
   "execution_count": null,
   "id": "62ae24fb-edd5-4870-8421-e3e2fe1f31be",
   "metadata": {},
   "outputs": [],
   "source": []
  },
  {
   "cell_type": "code",
   "execution_count": null,
   "id": "485619a5-e32c-4875-8cdf-02206907362a",
   "metadata": {},
   "outputs": [],
   "source": []
  },
  {
   "cell_type": "markdown",
   "id": "8fe9ddcb-6993-4cbd-956a-9f25cef154a0",
   "metadata": {},
   "source": [
    "### Importação dos Pacotes"
   ]
  },
  {
   "cell_type": "code",
   "execution_count": 158,
   "id": "2eb33094",
   "metadata": {},
   "outputs": [],
   "source": [
    "# Carregando os pacotes que serão utilizados\n",
    "\n",
    "# Utilizado para analise e manipulação dos dados\n",
    "import pandas as pd\n",
    "import numpy as np\n",
    "\n",
    "# Utilizado para trabalharmos com datas\n",
    "import datetime\n",
    "\n",
    "# Utilizado para geração de gráficos\n",
    "import matplotlib.pyplot as plt\n",
    "import seaborn as sns\n",
    "\n",
    "# Tipo de algoritmo para criar o modelo preditivo\n",
    "from xgboost import XGBRegressor\n",
    "\n",
    "# Utilizado para separar os dados em treino e teste\n",
    "from sklearn.model_selection import train_test_split\n",
    "\n",
    "# Tipos de algoritmos para criar o modelo preditivo\n",
    "from sklearn.linear_model import LinearRegression\n",
    "from sklearn.ensemble import RandomForestRegressor\n",
    "from sklearn.ensemble import GradientBoostingRegressor\n",
    "\n",
    "\n",
    "from sklearn.metrics import mean_absolute_error\n",
    "from sklearn.metrics import mean_absolute_percentage_error\n",
    "\n",
    "\n",
    "# Utilizado para avaliar as métricas dos modelos\n",
    "from sklearn import metrics\n",
    "\n",
    "# Utilizado para fazer a normalização dos dados\n",
    "from sklearn.preprocessing import MinMaxScaler\n",
    "\n",
    "# Utilizado para fazer a padronização dos dados\n",
    "from sklearn.preprocessing import StandardScaler\n",
    "\n",
    "\n",
    "import joblib\n",
    "\n",
    "# Utilizado para não exibir infomrações de alertas, nesse caso não exibiremos apenas alertas de versões futuras\n",
    "import warnings\n",
    "warnings.filterwarnings(\"ignore\", category=DeprecationWarning)\n",
    "warnings.filterwarnings(\"ignore\", category=FutureWarning)\n",
    "\n",
    "# Comando para exibir todas colunas e linhas do arquivo\n",
    "pd.set_option('display.max_columns', None)\n",
    "pd.set_option('display.max_rows', None)"
   ]
  },
  {
   "cell_type": "code",
   "execution_count": 46,
   "id": "7f662039",
   "metadata": {},
   "outputs": [],
   "source": [
    "# Coletando os dados a serem utilizados\n",
    "df = pd.read_csv(\"C:/Users/Pichau/Desktop/CASE LIGHT/desafio_indicium_imdb.csv\", sep=\",\", encoding='ISO-8859-1')"
   ]
  },
  {
   "cell_type": "code",
   "execution_count": null,
   "id": "526a20ef",
   "metadata": {},
   "outputs": [],
   "source": []
  },
  {
   "cell_type": "code",
   "execution_count": null,
   "id": "93e92779-2cbb-4bd1-96bd-683c866dc756",
   "metadata": {},
   "outputs": [],
   "source": []
  },
  {
   "cell_type": "markdown",
   "id": "03e3485c",
   "metadata": {},
   "source": [
    "### Analise Exploratória / Analise de Dados"
   ]
  },
  {
   "cell_type": "code",
   "execution_count": 52,
   "id": "12454afc",
   "metadata": {},
   "outputs": [
    {
     "data": {
      "text/plain": [
       "(999, 16)"
      ]
     },
     "execution_count": 52,
     "metadata": {},
     "output_type": "execute_result"
    }
   ],
   "source": [
    "# Visualizar o tamanho do conjunto de dados, ou seja, o tamanho do DataFrame\n",
    "df.shape"
   ]
  },
  {
   "cell_type": "code",
   "execution_count": 54,
   "id": "8edf430e",
   "metadata": {},
   "outputs": [
    {
     "data": {
      "text/html": [
       "<div>\n",
       "<style scoped>\n",
       "    .dataframe tbody tr th:only-of-type {\n",
       "        vertical-align: middle;\n",
       "    }\n",
       "\n",
       "    .dataframe tbody tr th {\n",
       "        vertical-align: top;\n",
       "    }\n",
       "\n",
       "    .dataframe thead th {\n",
       "        text-align: right;\n",
       "    }\n",
       "</style>\n",
       "<table border=\"1\" class=\"dataframe\">\n",
       "  <thead>\n",
       "    <tr style=\"text-align: right;\">\n",
       "      <th></th>\n",
       "      <th>Unnamed: 0</th>\n",
       "      <th>Series_Title</th>\n",
       "      <th>Released_Year</th>\n",
       "      <th>Certificate</th>\n",
       "      <th>Runtime</th>\n",
       "      <th>Genre</th>\n",
       "      <th>IMDB_Rating</th>\n",
       "      <th>Overview</th>\n",
       "      <th>Meta_score</th>\n",
       "      <th>Director</th>\n",
       "      <th>Star1</th>\n",
       "      <th>Star2</th>\n",
       "      <th>Star3</th>\n",
       "      <th>Star4</th>\n",
       "      <th>No_of_Votes</th>\n",
       "      <th>Gross</th>\n",
       "    </tr>\n",
       "  </thead>\n",
       "  <tbody>\n",
       "    <tr>\n",
       "      <th>0</th>\n",
       "      <td>1</td>\n",
       "      <td>The Godfather</td>\n",
       "      <td>1972</td>\n",
       "      <td>A</td>\n",
       "      <td>175 min</td>\n",
       "      <td>Crime, Drama</td>\n",
       "      <td>9.2</td>\n",
       "      <td>An organized crime dynasty's aging patriarch t...</td>\n",
       "      <td>100.0</td>\n",
       "      <td>Francis Ford Coppola</td>\n",
       "      <td>Marlon Brando</td>\n",
       "      <td>Al Pacino</td>\n",
       "      <td>James Caan</td>\n",
       "      <td>Diane Keaton</td>\n",
       "      <td>1620367</td>\n",
       "      <td>134,966,411</td>\n",
       "    </tr>\n",
       "    <tr>\n",
       "      <th>1</th>\n",
       "      <td>2</td>\n",
       "      <td>The Dark Knight</td>\n",
       "      <td>2008</td>\n",
       "      <td>UA</td>\n",
       "      <td>152 min</td>\n",
       "      <td>Action, Crime, Drama</td>\n",
       "      <td>9.0</td>\n",
       "      <td>When the menace known as the Joker wreaks havo...</td>\n",
       "      <td>84.0</td>\n",
       "      <td>Christopher Nolan</td>\n",
       "      <td>Christian Bale</td>\n",
       "      <td>Heath Ledger</td>\n",
       "      <td>Aaron Eckhart</td>\n",
       "      <td>Michael Caine</td>\n",
       "      <td>2303232</td>\n",
       "      <td>534,858,444</td>\n",
       "    </tr>\n",
       "    <tr>\n",
       "      <th>2</th>\n",
       "      <td>3</td>\n",
       "      <td>The Godfather: Part II</td>\n",
       "      <td>1974</td>\n",
       "      <td>A</td>\n",
       "      <td>202 min</td>\n",
       "      <td>Crime, Drama</td>\n",
       "      <td>9.0</td>\n",
       "      <td>The early life and career of Vito Corleone in ...</td>\n",
       "      <td>90.0</td>\n",
       "      <td>Francis Ford Coppola</td>\n",
       "      <td>Al Pacino</td>\n",
       "      <td>Robert De Niro</td>\n",
       "      <td>Robert Duvall</td>\n",
       "      <td>Diane Keaton</td>\n",
       "      <td>1129952</td>\n",
       "      <td>57,300,000</td>\n",
       "    </tr>\n",
       "  </tbody>\n",
       "</table>\n",
       "</div>"
      ],
      "text/plain": [
       "   Unnamed: 0            Series_Title Released_Year Certificate  Runtime  \\\n",
       "0           1           The Godfather          1972           A  175 min   \n",
       "1           2         The Dark Knight          2008          UA  152 min   \n",
       "2           3  The Godfather: Part II          1974           A  202 min   \n",
       "\n",
       "                  Genre  IMDB_Rating  \\\n",
       "0          Crime, Drama          9.2   \n",
       "1  Action, Crime, Drama          9.0   \n",
       "2          Crime, Drama          9.0   \n",
       "\n",
       "                                            Overview  Meta_score  \\\n",
       "0  An organized crime dynasty's aging patriarch t...       100.0   \n",
       "1  When the menace known as the Joker wreaks havo...        84.0   \n",
       "2  The early life and career of Vito Corleone in ...        90.0   \n",
       "\n",
       "               Director           Star1           Star2          Star3  \\\n",
       "0  Francis Ford Coppola   Marlon Brando       Al Pacino     James Caan   \n",
       "1     Christopher Nolan  Christian Bale    Heath Ledger  Aaron Eckhart   \n",
       "2  Francis Ford Coppola       Al Pacino  Robert De Niro  Robert Duvall   \n",
       "\n",
       "           Star4  No_of_Votes        Gross  \n",
       "0   Diane Keaton      1620367  134,966,411  \n",
       "1  Michael Caine      2303232  534,858,444  \n",
       "2   Diane Keaton      1129952   57,300,000  "
      ]
     },
     "execution_count": 54,
     "metadata": {},
     "output_type": "execute_result"
    }
   ],
   "source": [
    "# Visualizando as primeiras linhas do arquivo\n",
    "df.head(3)"
   ]
  },
  {
   "cell_type": "code",
   "execution_count": 56,
   "id": "6741d272",
   "metadata": {},
   "outputs": [
    {
     "data": {
      "text/html": [
       "<div>\n",
       "<style scoped>\n",
       "    .dataframe tbody tr th:only-of-type {\n",
       "        vertical-align: middle;\n",
       "    }\n",
       "\n",
       "    .dataframe tbody tr th {\n",
       "        vertical-align: top;\n",
       "    }\n",
       "\n",
       "    .dataframe thead th {\n",
       "        text-align: right;\n",
       "    }\n",
       "</style>\n",
       "<table border=\"1\" class=\"dataframe\">\n",
       "  <thead>\n",
       "    <tr style=\"text-align: right;\">\n",
       "      <th></th>\n",
       "      <th>Unnamed: 0</th>\n",
       "      <th>Series_Title</th>\n",
       "      <th>Released_Year</th>\n",
       "      <th>Certificate</th>\n",
       "      <th>Runtime</th>\n",
       "      <th>Genre</th>\n",
       "      <th>IMDB_Rating</th>\n",
       "      <th>Overview</th>\n",
       "      <th>Meta_score</th>\n",
       "      <th>Director</th>\n",
       "      <th>Star1</th>\n",
       "      <th>Star2</th>\n",
       "      <th>Star3</th>\n",
       "      <th>Star4</th>\n",
       "      <th>No_of_Votes</th>\n",
       "      <th>Gross</th>\n",
       "    </tr>\n",
       "  </thead>\n",
       "  <tbody>\n",
       "    <tr>\n",
       "      <th>994</th>\n",
       "      <td>995</td>\n",
       "      <td>Breakfast at Tiffany's</td>\n",
       "      <td>1961</td>\n",
       "      <td>A</td>\n",
       "      <td>115 min</td>\n",
       "      <td>Comedy, Drama, Romance</td>\n",
       "      <td>7.6</td>\n",
       "      <td>A young New York socialite becomes interested ...</td>\n",
       "      <td>76.0</td>\n",
       "      <td>Blake Edwards</td>\n",
       "      <td>Audrey Hepburn</td>\n",
       "      <td>George Peppard</td>\n",
       "      <td>Patricia Neal</td>\n",
       "      <td>Buddy Ebsen</td>\n",
       "      <td>166544</td>\n",
       "      <td>NaN</td>\n",
       "    </tr>\n",
       "    <tr>\n",
       "      <th>995</th>\n",
       "      <td>996</td>\n",
       "      <td>Giant</td>\n",
       "      <td>1956</td>\n",
       "      <td>G</td>\n",
       "      <td>201 min</td>\n",
       "      <td>Drama, Western</td>\n",
       "      <td>7.6</td>\n",
       "      <td>Sprawling epic covering the life of a Texas ca...</td>\n",
       "      <td>84.0</td>\n",
       "      <td>George Stevens</td>\n",
       "      <td>Elizabeth Taylor</td>\n",
       "      <td>Rock Hudson</td>\n",
       "      <td>James Dean</td>\n",
       "      <td>Carroll Baker</td>\n",
       "      <td>34075</td>\n",
       "      <td>NaN</td>\n",
       "    </tr>\n",
       "    <tr>\n",
       "      <th>996</th>\n",
       "      <td>997</td>\n",
       "      <td>From Here to Eternity</td>\n",
       "      <td>1953</td>\n",
       "      <td>Passed</td>\n",
       "      <td>118 min</td>\n",
       "      <td>Drama, Romance, War</td>\n",
       "      <td>7.6</td>\n",
       "      <td>In Hawaii in 1941, a private is cruelly punish...</td>\n",
       "      <td>85.0</td>\n",
       "      <td>Fred Zinnemann</td>\n",
       "      <td>Burt Lancaster</td>\n",
       "      <td>Montgomery Clift</td>\n",
       "      <td>Deborah Kerr</td>\n",
       "      <td>Donna Reed</td>\n",
       "      <td>43374</td>\n",
       "      <td>30,500,000</td>\n",
       "    </tr>\n",
       "    <tr>\n",
       "      <th>997</th>\n",
       "      <td>998</td>\n",
       "      <td>Lifeboat</td>\n",
       "      <td>1944</td>\n",
       "      <td>NaN</td>\n",
       "      <td>97 min</td>\n",
       "      <td>Drama, War</td>\n",
       "      <td>7.6</td>\n",
       "      <td>Several survivors of a torpedoed merchant ship...</td>\n",
       "      <td>78.0</td>\n",
       "      <td>Alfred Hitchcock</td>\n",
       "      <td>Tallulah Bankhead</td>\n",
       "      <td>John Hodiak</td>\n",
       "      <td>Walter Slezak</td>\n",
       "      <td>William Bendix</td>\n",
       "      <td>26471</td>\n",
       "      <td>NaN</td>\n",
       "    </tr>\n",
       "    <tr>\n",
       "      <th>998</th>\n",
       "      <td>999</td>\n",
       "      <td>The 39 Steps</td>\n",
       "      <td>1935</td>\n",
       "      <td>NaN</td>\n",
       "      <td>86 min</td>\n",
       "      <td>Crime, Mystery, Thriller</td>\n",
       "      <td>7.6</td>\n",
       "      <td>A man in London tries to help a counter-espion...</td>\n",
       "      <td>93.0</td>\n",
       "      <td>Alfred Hitchcock</td>\n",
       "      <td>Robert Donat</td>\n",
       "      <td>Madeleine Carroll</td>\n",
       "      <td>Lucie Mannheim</td>\n",
       "      <td>Godfrey Tearle</td>\n",
       "      <td>51853</td>\n",
       "      <td>NaN</td>\n",
       "    </tr>\n",
       "  </tbody>\n",
       "</table>\n",
       "</div>"
      ],
      "text/plain": [
       "     Unnamed: 0            Series_Title Released_Year Certificate  Runtime  \\\n",
       "994         995  Breakfast at Tiffany's          1961           A  115 min   \n",
       "995         996                   Giant          1956           G  201 min   \n",
       "996         997   From Here to Eternity          1953      Passed  118 min   \n",
       "997         998                Lifeboat          1944         NaN   97 min   \n",
       "998         999            The 39 Steps          1935         NaN   86 min   \n",
       "\n",
       "                        Genre  IMDB_Rating  \\\n",
       "994    Comedy, Drama, Romance          7.6   \n",
       "995            Drama, Western          7.6   \n",
       "996       Drama, Romance, War          7.6   \n",
       "997                Drama, War          7.6   \n",
       "998  Crime, Mystery, Thriller          7.6   \n",
       "\n",
       "                                              Overview  Meta_score  \\\n",
       "994  A young New York socialite becomes interested ...        76.0   \n",
       "995  Sprawling epic covering the life of a Texas ca...        84.0   \n",
       "996  In Hawaii in 1941, a private is cruelly punish...        85.0   \n",
       "997  Several survivors of a torpedoed merchant ship...        78.0   \n",
       "998  A man in London tries to help a counter-espion...        93.0   \n",
       "\n",
       "             Director              Star1              Star2           Star3  \\\n",
       "994     Blake Edwards     Audrey Hepburn     George Peppard   Patricia Neal   \n",
       "995    George Stevens   Elizabeth Taylor        Rock Hudson      James Dean   \n",
       "996    Fred Zinnemann     Burt Lancaster   Montgomery Clift    Deborah Kerr   \n",
       "997  Alfred Hitchcock  Tallulah Bankhead        John Hodiak   Walter Slezak   \n",
       "998  Alfred Hitchcock       Robert Donat  Madeleine Carroll  Lucie Mannheim   \n",
       "\n",
       "              Star4  No_of_Votes       Gross  \n",
       "994     Buddy Ebsen       166544         NaN  \n",
       "995   Carroll Baker        34075         NaN  \n",
       "996      Donna Reed        43374  30,500,000  \n",
       "997  William Bendix        26471         NaN  \n",
       "998  Godfrey Tearle        51853         NaN  "
      ]
     },
     "execution_count": 56,
     "metadata": {},
     "output_type": "execute_result"
    }
   ],
   "source": [
    "# Visualizando as ultimas linhas do arquivo\n",
    "# é bom sempre ver as últimas linhas do arquivo, porque as vezes, sendo principalmente um arquivo em excel, no final pode ter linhas se subtotal\n",
    "# e com isso, vamos ter que tratar.\n",
    "df.tail()"
   ]
  },
  {
   "cell_type": "code",
   "execution_count": 58,
   "id": "cf327cfe-f90b-4ef6-9388-850f36c96d26",
   "metadata": {},
   "outputs": [],
   "source": [
    "# Parece que essa coluna Unnamed: 0 aparece porque provavelmente o CSV foi salvo/exportado com o índice junto. Portanto vou excluir.\n",
    "# remover a coluna Unnamed: 0\n",
    "df = df.drop(columns=[\"Unnamed: 0\"])"
   ]
  },
  {
   "cell_type": "code",
   "execution_count": 60,
   "id": "73c7a323-82ea-419a-a86b-95ccba215b0f",
   "metadata": {},
   "outputs": [
    {
     "data": {
      "text/html": [
       "<div>\n",
       "<style scoped>\n",
       "    .dataframe tbody tr th:only-of-type {\n",
       "        vertical-align: middle;\n",
       "    }\n",
       "\n",
       "    .dataframe tbody tr th {\n",
       "        vertical-align: top;\n",
       "    }\n",
       "\n",
       "    .dataframe thead th {\n",
       "        text-align: right;\n",
       "    }\n",
       "</style>\n",
       "<table border=\"1\" class=\"dataframe\">\n",
       "  <thead>\n",
       "    <tr style=\"text-align: right;\">\n",
       "      <th></th>\n",
       "      <th>Series_Title</th>\n",
       "      <th>Released_Year</th>\n",
       "      <th>Certificate</th>\n",
       "      <th>Runtime</th>\n",
       "      <th>Genre</th>\n",
       "      <th>IMDB_Rating</th>\n",
       "      <th>Overview</th>\n",
       "      <th>Meta_score</th>\n",
       "      <th>Director</th>\n",
       "      <th>Star1</th>\n",
       "      <th>Star2</th>\n",
       "      <th>Star3</th>\n",
       "      <th>Star4</th>\n",
       "      <th>No_of_Votes</th>\n",
       "      <th>Gross</th>\n",
       "    </tr>\n",
       "  </thead>\n",
       "  <tbody>\n",
       "    <tr>\n",
       "      <th>0</th>\n",
       "      <td>The Godfather</td>\n",
       "      <td>1972</td>\n",
       "      <td>A</td>\n",
       "      <td>175 min</td>\n",
       "      <td>Crime, Drama</td>\n",
       "      <td>9.2</td>\n",
       "      <td>An organized crime dynasty's aging patriarch t...</td>\n",
       "      <td>100.0</td>\n",
       "      <td>Francis Ford Coppola</td>\n",
       "      <td>Marlon Brando</td>\n",
       "      <td>Al Pacino</td>\n",
       "      <td>James Caan</td>\n",
       "      <td>Diane Keaton</td>\n",
       "      <td>1620367</td>\n",
       "      <td>134,966,411</td>\n",
       "    </tr>\n",
       "  </tbody>\n",
       "</table>\n",
       "</div>"
      ],
      "text/plain": [
       "    Series_Title Released_Year Certificate  Runtime         Genre  \\\n",
       "0  The Godfather          1972           A  175 min  Crime, Drama   \n",
       "\n",
       "   IMDB_Rating                                           Overview  Meta_score  \\\n",
       "0          9.2  An organized crime dynasty's aging patriarch t...       100.0   \n",
       "\n",
       "               Director          Star1      Star2       Star3         Star4  \\\n",
       "0  Francis Ford Coppola  Marlon Brando  Al Pacino  James Caan  Diane Keaton   \n",
       "\n",
       "   No_of_Votes        Gross  \n",
       "0      1620367  134,966,411  "
      ]
     },
     "execution_count": 60,
     "metadata": {},
     "output_type": "execute_result"
    }
   ],
   "source": [
    "# Visualizando o dataset já sem a coluna Unnamed:0\n",
    "df.head(1)"
   ]
  },
  {
   "cell_type": "code",
   "execution_count": 62,
   "id": "703d3407-2e8a-4483-ae8a-1ce5850d176c",
   "metadata": {},
   "outputs": [],
   "source": [
    "# Vou renomear a coluna do  arquivo para deixar a nomenclatura mais amigável(Em Português), de acordo com o nome traduzido passado no desafio.\n",
    "df.columns = ['Nome do filme', \n",
    "              'Ano de lançamento', \n",
    "              'Classificação etária', \n",
    "              'Tempo de duração', \n",
    "              'Gênero', \n",
    "              'Nota do IMDB',\n",
    "              'Overview do filme',\n",
    "              'Média ponderada de todas as críticas ',\n",
    "              'Diretor',\n",
    "              'Ator/atriz #1',\n",
    "              'Ator/atriz #2',\n",
    "              'Ator/atriz #3',\n",
    "              'Ator/atriz #4',\n",
    "              'Número de votos',\n",
    "              'Faturamento']         "
   ]
  },
  {
   "cell_type": "code",
   "execution_count": 64,
   "id": "85381b5c-4b39-428a-937d-8e2e093e351e",
   "metadata": {},
   "outputs": [
    {
     "data": {
      "text/html": [
       "<div>\n",
       "<style scoped>\n",
       "    .dataframe tbody tr th:only-of-type {\n",
       "        vertical-align: middle;\n",
       "    }\n",
       "\n",
       "    .dataframe tbody tr th {\n",
       "        vertical-align: top;\n",
       "    }\n",
       "\n",
       "    .dataframe thead th {\n",
       "        text-align: right;\n",
       "    }\n",
       "</style>\n",
       "<table border=\"1\" class=\"dataframe\">\n",
       "  <thead>\n",
       "    <tr style=\"text-align: right;\">\n",
       "      <th></th>\n",
       "      <th>Nome do filme</th>\n",
       "      <th>Ano de lançamento</th>\n",
       "      <th>Classificação etária</th>\n",
       "      <th>Tempo de duração</th>\n",
       "      <th>Gênero</th>\n",
       "      <th>Nota do IMDB</th>\n",
       "      <th>Overview do filme</th>\n",
       "      <th>Média ponderada de todas as críticas</th>\n",
       "      <th>Diretor</th>\n",
       "      <th>Ator/atriz #1</th>\n",
       "      <th>Ator/atriz #2</th>\n",
       "      <th>Ator/atriz #3</th>\n",
       "      <th>Ator/atriz #4</th>\n",
       "      <th>Número de votos</th>\n",
       "      <th>Faturamento</th>\n",
       "    </tr>\n",
       "  </thead>\n",
       "  <tbody>\n",
       "    <tr>\n",
       "      <th>0</th>\n",
       "      <td>The Godfather</td>\n",
       "      <td>1972</td>\n",
       "      <td>A</td>\n",
       "      <td>175 min</td>\n",
       "      <td>Crime, Drama</td>\n",
       "      <td>9.2</td>\n",
       "      <td>An organized crime dynasty's aging patriarch t...</td>\n",
       "      <td>100.0</td>\n",
       "      <td>Francis Ford Coppola</td>\n",
       "      <td>Marlon Brando</td>\n",
       "      <td>Al Pacino</td>\n",
       "      <td>James Caan</td>\n",
       "      <td>Diane Keaton</td>\n",
       "      <td>1620367</td>\n",
       "      <td>134,966,411</td>\n",
       "    </tr>\n",
       "    <tr>\n",
       "      <th>1</th>\n",
       "      <td>The Dark Knight</td>\n",
       "      <td>2008</td>\n",
       "      <td>UA</td>\n",
       "      <td>152 min</td>\n",
       "      <td>Action, Crime, Drama</td>\n",
       "      <td>9.0</td>\n",
       "      <td>When the menace known as the Joker wreaks havo...</td>\n",
       "      <td>84.0</td>\n",
       "      <td>Christopher Nolan</td>\n",
       "      <td>Christian Bale</td>\n",
       "      <td>Heath Ledger</td>\n",
       "      <td>Aaron Eckhart</td>\n",
       "      <td>Michael Caine</td>\n",
       "      <td>2303232</td>\n",
       "      <td>534,858,444</td>\n",
       "    </tr>\n",
       "    <tr>\n",
       "      <th>2</th>\n",
       "      <td>The Godfather: Part II</td>\n",
       "      <td>1974</td>\n",
       "      <td>A</td>\n",
       "      <td>202 min</td>\n",
       "      <td>Crime, Drama</td>\n",
       "      <td>9.0</td>\n",
       "      <td>The early life and career of Vito Corleone in ...</td>\n",
       "      <td>90.0</td>\n",
       "      <td>Francis Ford Coppola</td>\n",
       "      <td>Al Pacino</td>\n",
       "      <td>Robert De Niro</td>\n",
       "      <td>Robert Duvall</td>\n",
       "      <td>Diane Keaton</td>\n",
       "      <td>1129952</td>\n",
       "      <td>57,300,000</td>\n",
       "    </tr>\n",
       "    <tr>\n",
       "      <th>3</th>\n",
       "      <td>12 Angry Men</td>\n",
       "      <td>1957</td>\n",
       "      <td>U</td>\n",
       "      <td>96 min</td>\n",
       "      <td>Crime, Drama</td>\n",
       "      <td>9.0</td>\n",
       "      <td>A jury holdout attempts to prevent a miscarria...</td>\n",
       "      <td>96.0</td>\n",
       "      <td>Sidney Lumet</td>\n",
       "      <td>Henry Fonda</td>\n",
       "      <td>Lee J. Cobb</td>\n",
       "      <td>Martin Balsam</td>\n",
       "      <td>John Fiedler</td>\n",
       "      <td>689845</td>\n",
       "      <td>4,360,000</td>\n",
       "    </tr>\n",
       "    <tr>\n",
       "      <th>4</th>\n",
       "      <td>The Lord of the Rings: The Return of the King</td>\n",
       "      <td>2003</td>\n",
       "      <td>U</td>\n",
       "      <td>201 min</td>\n",
       "      <td>Action, Adventure, Drama</td>\n",
       "      <td>8.9</td>\n",
       "      <td>Gandalf and Aragorn lead the World of Men agai...</td>\n",
       "      <td>94.0</td>\n",
       "      <td>Peter Jackson</td>\n",
       "      <td>Elijah Wood</td>\n",
       "      <td>Viggo Mortensen</td>\n",
       "      <td>Ian McKellen</td>\n",
       "      <td>Orlando Bloom</td>\n",
       "      <td>1642758</td>\n",
       "      <td>377,845,905</td>\n",
       "    </tr>\n",
       "  </tbody>\n",
       "</table>\n",
       "</div>"
      ],
      "text/plain": [
       "                                   Nome do filme Ano de lançamento  \\\n",
       "0                                  The Godfather              1972   \n",
       "1                                The Dark Knight              2008   \n",
       "2                         The Godfather: Part II              1974   \n",
       "3                                   12 Angry Men              1957   \n",
       "4  The Lord of the Rings: The Return of the King              2003   \n",
       "\n",
       "  Classificação etária Tempo de duração                    Gênero  \\\n",
       "0                    A          175 min              Crime, Drama   \n",
       "1                   UA          152 min      Action, Crime, Drama   \n",
       "2                    A          202 min              Crime, Drama   \n",
       "3                    U           96 min              Crime, Drama   \n",
       "4                    U          201 min  Action, Adventure, Drama   \n",
       "\n",
       "   Nota do IMDB                                  Overview do filme  \\\n",
       "0           9.2  An organized crime dynasty's aging patriarch t...   \n",
       "1           9.0  When the menace known as the Joker wreaks havo...   \n",
       "2           9.0  The early life and career of Vito Corleone in ...   \n",
       "3           9.0  A jury holdout attempts to prevent a miscarria...   \n",
       "4           8.9  Gandalf and Aragorn lead the World of Men agai...   \n",
       "\n",
       "   Média ponderada de todas as críticas                Diretor  \\\n",
       "0                                  100.0  Francis Ford Coppola   \n",
       "1                                   84.0     Christopher Nolan   \n",
       "2                                   90.0  Francis Ford Coppola   \n",
       "3                                   96.0          Sidney Lumet   \n",
       "4                                   94.0         Peter Jackson   \n",
       "\n",
       "    Ator/atriz #1    Ator/atriz #2  Ator/atriz #3  Ator/atriz #4  \\\n",
       "0   Marlon Brando        Al Pacino     James Caan   Diane Keaton   \n",
       "1  Christian Bale     Heath Ledger  Aaron Eckhart  Michael Caine   \n",
       "2       Al Pacino   Robert De Niro  Robert Duvall   Diane Keaton   \n",
       "3     Henry Fonda      Lee J. Cobb  Martin Balsam   John Fiedler   \n",
       "4     Elijah Wood  Viggo Mortensen   Ian McKellen  Orlando Bloom   \n",
       "\n",
       "   Número de votos  Faturamento  \n",
       "0          1620367  134,966,411  \n",
       "1          2303232  534,858,444  \n",
       "2          1129952   57,300,000  \n",
       "3           689845    4,360,000  \n",
       "4          1642758  377,845,905  "
      ]
     },
     "execution_count": 64,
     "metadata": {},
     "output_type": "execute_result"
    }
   ],
   "source": [
    "# Visualizando o dataset já com a tradução das colunas\n",
    "df.head()"
   ]
  },
  {
   "cell_type": "code",
   "execution_count": 66,
   "id": "bf1079fe",
   "metadata": {},
   "outputs": [
    {
     "data": {
      "text/html": [
       "<div>\n",
       "<style scoped>\n",
       "    .dataframe tbody tr th:only-of-type {\n",
       "        vertical-align: middle;\n",
       "    }\n",
       "\n",
       "    .dataframe tbody tr th {\n",
       "        vertical-align: top;\n",
       "    }\n",
       "\n",
       "    .dataframe thead th {\n",
       "        text-align: right;\n",
       "    }\n",
       "</style>\n",
       "<table border=\"1\" class=\"dataframe\">\n",
       "  <thead>\n",
       "    <tr style=\"text-align: right;\">\n",
       "      <th></th>\n",
       "      <th>Nota do IMDB</th>\n",
       "      <th>Média ponderada de todas as críticas</th>\n",
       "      <th>Número de votos</th>\n",
       "    </tr>\n",
       "  </thead>\n",
       "  <tbody>\n",
       "    <tr>\n",
       "      <th>count</th>\n",
       "      <td>999.000000</td>\n",
       "      <td>842.000000</td>\n",
       "      <td>9.990000e+02</td>\n",
       "    </tr>\n",
       "    <tr>\n",
       "      <th>mean</th>\n",
       "      <td>7.947948</td>\n",
       "      <td>77.969121</td>\n",
       "      <td>2.716214e+05</td>\n",
       "    </tr>\n",
       "    <tr>\n",
       "      <th>std</th>\n",
       "      <td>0.272290</td>\n",
       "      <td>12.383257</td>\n",
       "      <td>3.209126e+05</td>\n",
       "    </tr>\n",
       "    <tr>\n",
       "      <th>min</th>\n",
       "      <td>7.600000</td>\n",
       "      <td>28.000000</td>\n",
       "      <td>2.508800e+04</td>\n",
       "    </tr>\n",
       "    <tr>\n",
       "      <th>25%</th>\n",
       "      <td>7.700000</td>\n",
       "      <td>70.000000</td>\n",
       "      <td>5.547150e+04</td>\n",
       "    </tr>\n",
       "    <tr>\n",
       "      <th>50%</th>\n",
       "      <td>7.900000</td>\n",
       "      <td>79.000000</td>\n",
       "      <td>1.383560e+05</td>\n",
       "    </tr>\n",
       "    <tr>\n",
       "      <th>75%</th>\n",
       "      <td>8.100000</td>\n",
       "      <td>87.000000</td>\n",
       "      <td>3.731675e+05</td>\n",
       "    </tr>\n",
       "    <tr>\n",
       "      <th>max</th>\n",
       "      <td>9.200000</td>\n",
       "      <td>100.000000</td>\n",
       "      <td>2.303232e+06</td>\n",
       "    </tr>\n",
       "  </tbody>\n",
       "</table>\n",
       "</div>"
      ],
      "text/plain": [
       "       Nota do IMDB  Média ponderada de todas as críticas   Número de votos\n",
       "count    999.000000                             842.000000     9.990000e+02\n",
       "mean       7.947948                              77.969121     2.716214e+05\n",
       "std        0.272290                              12.383257     3.209126e+05\n",
       "min        7.600000                              28.000000     2.508800e+04\n",
       "25%        7.700000                              70.000000     5.547150e+04\n",
       "50%        7.900000                              79.000000     1.383560e+05\n",
       "75%        8.100000                              87.000000     3.731675e+05\n",
       "max        9.200000                             100.000000     2.303232e+06"
      ]
     },
     "execution_count": 66,
     "metadata": {},
     "output_type": "execute_result"
    }
   ],
   "source": [
    "# Visualizando medidas estatísticas para variáveis numéricas\n",
    "df.describe()"
   ]
  },
  {
   "cell_type": "code",
   "execution_count": 74,
   "id": "d463e3fa",
   "metadata": {},
   "outputs": [
    {
     "name": "stdout",
     "output_type": "stream",
     "text": [
      "<class 'pandas.core.frame.DataFrame'>\n",
      "RangeIndex: 999 entries, 0 to 998\n",
      "Data columns (total 15 columns):\n",
      " #   Column                                 Non-Null Count  Dtype  \n",
      "---  ------                                 --------------  -----  \n",
      " 0   Nome do filme                          999 non-null    object \n",
      " 1   Ano de lançamento                      999 non-null    object \n",
      " 2   Classificação etária                   898 non-null    object \n",
      " 3   Tempo de duração                       999 non-null    object \n",
      " 4   Gênero                                 999 non-null    object \n",
      " 5   Nota do IMDB                           999 non-null    float64\n",
      " 6   Overview do filme                      999 non-null    object \n",
      " 7   Média ponderada de todas as críticas   842 non-null    float64\n",
      " 8   Diretor                                999 non-null    object \n",
      " 9   Ator/atriz #1                          999 non-null    object \n",
      " 10  Ator/atriz #2                          999 non-null    object \n",
      " 11  Ator/atriz #3                          999 non-null    object \n",
      " 12  Ator/atriz #4                          999 non-null    object \n",
      " 13  Número de votos                        999 non-null    int64  \n",
      " 14  Faturamento                            830 non-null    object \n",
      "dtypes: float64(2), int64(1), object(12)\n",
      "memory usage: 117.2+ KB\n"
     ]
    }
   ],
   "source": [
    "# Visualizando informações sobre os tipos das variáveis e conjunto de dados\n",
    "# No DESCRIBE já vi que tem um total de 999 dados, entao no INFO conseguimos já visualizar se por acaso tem algum número nulo.\n",
    "# Posso verificar que na coluna Média ponderada de todas as críticas, Classificação etária e Faturamento, apresentam valores nulos.\n",
    "df.info()"
   ]
  },
  {
   "cell_type": "code",
   "execution_count": 76,
   "id": "13c1af34",
   "metadata": {},
   "outputs": [
    {
     "data": {
      "text/plain": [
       "Nome do filme                              0\n",
       "Ano de lançamento                          0\n",
       "Classificação etária                     101\n",
       "Tempo de duração                           0\n",
       "Gênero                                     0\n",
       "Nota do IMDB                               0\n",
       "Overview do filme                          0\n",
       "Média ponderada de todas as críticas     157\n",
       "Diretor                                    0\n",
       "Ator/atriz #1                              0\n",
       "Ator/atriz #2                              0\n",
       "Ator/atriz #3                              0\n",
       "Ator/atriz #4                              0\n",
       "Número de votos                            0\n",
       "Faturamento                              169\n",
       "dtype: int64"
      ]
     },
     "execution_count": 76,
     "metadata": {},
     "output_type": "execute_result"
    }
   ],
   "source": [
    "# Verificando se há algum valor nulo\n",
    "df.isnull().sum()"
   ]
  },
  {
   "cell_type": "code",
   "execution_count": 80,
   "id": "1ca769cc",
   "metadata": {},
   "outputs": [
    {
     "data": {
      "text/plain": [
       "Nome do filme                            998\n",
       "Ano de lançamento                        100\n",
       "Classificação etária                      16\n",
       "Tempo de duração                         140\n",
       "Gênero                                   202\n",
       "Nota do IMDB                              16\n",
       "Overview do filme                        999\n",
       "Média ponderada de todas as críticas      63\n",
       "Diretor                                  548\n",
       "Ator/atriz #1                            659\n",
       "Ator/atriz #2                            840\n",
       "Ator/atriz #3                            890\n",
       "Ator/atriz #4                            938\n",
       "Número de votos                          998\n",
       "Faturamento                              822\n",
       "dtype: int64"
      ]
     },
     "execution_count": 80,
     "metadata": {},
     "output_type": "execute_result"
    }
   ],
   "source": [
    "# Verificando Valores Únicos\n",
    "# Isso é importante no nosso processo de analise exploratória para identificarmos as colunas que iremos tratar como categoricas\n",
    "df.nunique()"
   ]
  },
  {
   "cell_type": "code",
   "execution_count": null,
   "id": "a2758f2c-6caa-401c-a6ca-3be721fc0829",
   "metadata": {},
   "outputs": [],
   "source": []
  },
  {
   "cell_type": "code",
   "execution_count": null,
   "id": "0a2446f0-2f96-4e76-8f34-a51a3c565b21",
   "metadata": {},
   "outputs": [],
   "source": []
  },
  {
   "cell_type": "code",
   "execution_count": 84,
   "id": "59fe68c0",
   "metadata": {},
   "outputs": [
    {
     "data": {
      "text/plain": [
       "Classificação etária\n",
       "16            1\n",
       "A           196\n",
       "Approved     11\n",
       "G            12\n",
       "GP            2\n",
       "PG           37\n",
       "PG-13        43\n",
       "Passed       34\n",
       "R           146\n",
       "TV-14         1\n",
       "TV-MA         1\n",
       "TV-PG         3\n",
       "U           234\n",
       "U/A           1\n",
       "UA          175\n",
       "Unrated       1\n",
       "dtype: int64"
      ]
     },
     "execution_count": 84,
     "metadata": {},
     "output_type": "execute_result"
    }
   ],
   "source": [
    "# Fazer um agrupamento para verificar quantas observações temos para cada tipo da variável Classificação etária\n",
    "df.groupby(['Classificação etária']).size()"
   ]
  },
  {
   "cell_type": "code",
   "execution_count": 86,
   "id": "a346d157",
   "metadata": {},
   "outputs": [
    {
     "data": {
      "text/plain": [
       "Nota do IMDB\n",
       "7.6    123\n",
       "7.7    157\n",
       "7.8    151\n",
       "7.9    106\n",
       "8.0    141\n",
       "8.1    127\n",
       "8.2     67\n",
       "8.3     44\n",
       "8.4     31\n",
       "8.5     20\n",
       "8.6     15\n",
       "8.7      5\n",
       "8.8      5\n",
       "8.9      3\n",
       "9.0      3\n",
       "9.2      1\n",
       "dtype: int64"
      ]
     },
     "execution_count": 86,
     "metadata": {},
     "output_type": "execute_result"
    }
   ],
   "source": [
    "# Fazer um agrupamento para verificar quantas observações temos para cada tipo da variável Nota do IMDB\n",
    "df.groupby(['Nota do IMDB']).size()"
   ]
  },
  {
   "cell_type": "code",
   "execution_count": 90,
   "id": "514965cf",
   "metadata": {},
   "outputs": [
    {
     "name": "stdout",
     "output_type": "stream",
     "text": [
      "Menor nota: 7.6\n",
      "Maior nota: 9.2\n"
     ]
    }
   ],
   "source": [
    "# visualizando a quantidade mínima e máxima da variavel Nota do IMDB\n",
    "print('Menor nota:', df['Nota do IMDB'].min())\n",
    "print('Maior nota:', df['Nota do IMDB'].max())"
   ]
  },
  {
   "cell_type": "code",
   "execution_count": 112,
   "id": "f484346b-4913-4bda-a63a-f5ca3a22634d",
   "metadata": {},
   "outputs": [],
   "source": [
    "# Como o nome ficou muito grande, vou renomar a coluna Média ponderada de todas as críticas para Media_Ponderada_Criticas\n",
    "df = df.rename(columns={\"Média ponderada de todas as críticas \": \"Media_Ponderada_Criticas\"})"
   ]
  },
  {
   "cell_type": "code",
   "execution_count": 114,
   "id": "1aa70641-3a7e-4771-abff-c74d737f1153",
   "metadata": {},
   "outputs": [
    {
     "data": {
      "text/html": [
       "<div>\n",
       "<style scoped>\n",
       "    .dataframe tbody tr th:only-of-type {\n",
       "        vertical-align: middle;\n",
       "    }\n",
       "\n",
       "    .dataframe tbody tr th {\n",
       "        vertical-align: top;\n",
       "    }\n",
       "\n",
       "    .dataframe thead th {\n",
       "        text-align: right;\n",
       "    }\n",
       "</style>\n",
       "<table border=\"1\" class=\"dataframe\">\n",
       "  <thead>\n",
       "    <tr style=\"text-align: right;\">\n",
       "      <th></th>\n",
       "      <th>Nome do filme</th>\n",
       "      <th>Ano de lançamento</th>\n",
       "      <th>Classificação etária</th>\n",
       "      <th>Tempo de duração</th>\n",
       "      <th>Gênero</th>\n",
       "      <th>Nota do IMDB</th>\n",
       "      <th>Overview do filme</th>\n",
       "      <th>Media_Ponderada_Criticas</th>\n",
       "      <th>Diretor</th>\n",
       "      <th>Ator/atriz #1</th>\n",
       "      <th>Ator/atriz #2</th>\n",
       "      <th>Ator/atriz #3</th>\n",
       "      <th>Ator/atriz #4</th>\n",
       "      <th>Número de votos</th>\n",
       "      <th>Faturamento</th>\n",
       "    </tr>\n",
       "  </thead>\n",
       "  <tbody>\n",
       "    <tr>\n",
       "      <th>0</th>\n",
       "      <td>The Godfather</td>\n",
       "      <td>1972</td>\n",
       "      <td>A</td>\n",
       "      <td>175 min</td>\n",
       "      <td>Crime, Drama</td>\n",
       "      <td>9.2</td>\n",
       "      <td>An organized crime dynasty's aging patriarch t...</td>\n",
       "      <td>100.0</td>\n",
       "      <td>Francis Ford Coppola</td>\n",
       "      <td>Marlon Brando</td>\n",
       "      <td>Al Pacino</td>\n",
       "      <td>James Caan</td>\n",
       "      <td>Diane Keaton</td>\n",
       "      <td>1620367</td>\n",
       "      <td>134,966,411</td>\n",
       "    </tr>\n",
       "  </tbody>\n",
       "</table>\n",
       "</div>"
      ],
      "text/plain": [
       "   Nome do filme Ano de lançamento Classificação etária Tempo de duração  \\\n",
       "0  The Godfather              1972                    A          175 min   \n",
       "\n",
       "         Gênero  Nota do IMDB  \\\n",
       "0  Crime, Drama           9.2   \n",
       "\n",
       "                                   Overview do filme  \\\n",
       "0  An organized crime dynasty's aging patriarch t...   \n",
       "\n",
       "   Media_Ponderada_Criticas               Diretor  Ator/atriz #1  \\\n",
       "0                     100.0  Francis Ford Coppola  Marlon Brando   \n",
       "\n",
       "  Ator/atriz #2 Ator/atriz #3 Ator/atriz #4  Número de votos  Faturamento  \n",
       "0     Al Pacino    James Caan  Diane Keaton          1620367  134,966,411  "
      ]
     },
     "execution_count": 114,
     "metadata": {},
     "output_type": "execute_result"
    }
   ],
   "source": [
    "df.head(1)"
   ]
  },
  {
   "cell_type": "code",
   "execution_count": 116,
   "id": "8fa22600-9d66-410d-85d5-53124a6c96ea",
   "metadata": {},
   "outputs": [
    {
     "name": "stdout",
     "output_type": "stream",
     "text": [
      "Menor média: 28.0\n",
      "Maior média: 100.0\n"
     ]
    }
   ],
   "source": [
    "# visualizando a quantidade mínima e máxima da variavel Média ponderada de todas as críticas\n",
    "print('Menor média:', df['Media_Ponderada_Criticas'].min())\n",
    "print('Maior média:', df['Media_Ponderada_Criticas'].max())"
   ]
  },
  {
   "cell_type": "code",
   "execution_count": 122,
   "id": "ad12303f-1a24-47ba-bf04-9c0b6bd5c03c",
   "metadata": {},
   "outputs": [
    {
     "name": "stdout",
     "output_type": "stream",
     "text": [
      "Menor número de votos: 25088\n",
      "Maior número de votos: 2303232\n"
     ]
    }
   ],
   "source": [
    "# visualizando a quantidade mínima e máxima da variavel Número de votos\n",
    "print('Menor número de votos:', df['Número de votos'].min())\n",
    "print('Maior número de votos:', df['Número de votos'].max())"
   ]
  },
  {
   "cell_type": "code",
   "execution_count": 118,
   "id": "54b92e87-a293-4f6c-b1ae-7d4a14b2119e",
   "metadata": {},
   "outputs": [
    {
     "name": "stdout",
     "output_type": "stream",
     "text": [
      "['Nome do filme', 'Ano de lançamento', 'Classificação etária', 'Tempo de duração', 'Gênero', 'Nota do IMDB', 'Overview do filme', 'Media_Ponderada_Criticas', 'Diretor', 'Ator/atriz #1', 'Ator/atriz #2', 'Ator/atriz #3', 'Ator/atriz #4', 'Número de votos', 'Faturamento']\n"
     ]
    }
   ],
   "source": [
    "# Quero ver o nome de todas as colunas\n",
    "print(df.columns.tolist())"
   ]
  },
  {
   "cell_type": "code",
   "execution_count": 120,
   "id": "58fd8959-818a-4b57-9687-269219b8242f",
   "metadata": {},
   "outputs": [
    {
     "data": {
      "text/plain": [
       "Media_Ponderada_Criticas\n",
       "28.0      1\n",
       "30.0      1\n",
       "33.0      1\n",
       "36.0      1\n",
       "40.0      1\n",
       "41.0      1\n",
       "44.0      1\n",
       "45.0      3\n",
       "46.0      1\n",
       "47.0      4\n",
       "48.0      1\n",
       "49.0      3\n",
       "50.0      3\n",
       "51.0      3\n",
       "52.0      6\n",
       "53.0      4\n",
       "54.0      2\n",
       "55.0      5\n",
       "56.0      4\n",
       "57.0      4\n",
       "58.0      8\n",
       "59.0      6\n",
       "60.0      7\n",
       "61.0      9\n",
       "62.0     11\n",
       "63.0      8\n",
       "64.0     13\n",
       "65.0     16\n",
       "66.0     17\n",
       "67.0     14\n",
       "68.0     21\n",
       "69.0     16\n",
       "70.0     16\n",
       "71.0     18\n",
       "72.0     27\n",
       "73.0     27\n",
       "74.0     23\n",
       "75.0     22\n",
       "76.0     32\n",
       "77.0     26\n",
       "78.0     24\n",
       "79.0     23\n",
       "80.0     26\n",
       "81.0     26\n",
       "82.0     25\n",
       "83.0     25\n",
       "84.0     29\n",
       "85.0     27\n",
       "86.0     27\n",
       "87.0     21\n",
       "88.0     25\n",
       "89.0     16\n",
       "90.0     29\n",
       "91.0     19\n",
       "92.0     13\n",
       "93.0     14\n",
       "94.0     20\n",
       "95.0     11\n",
       "96.0     18\n",
       "97.0     12\n",
       "98.0      9\n",
       "99.0      4\n",
       "100.0    12\n",
       "dtype: int64"
      ]
     },
     "execution_count": 120,
     "metadata": {},
     "output_type": "execute_result"
    }
   ],
   "source": [
    "# Fazer um agrupamento para verificar quantas observações temos para cada tipo da variável Media_Ponderada_Criticas\n",
    "df.groupby(['Media_Ponderada_Criticas']).size()"
   ]
  },
  {
   "cell_type": "code",
   "execution_count": 148,
   "id": "a9f2b9e1-6756-47ad-beab-634c98bd1bfb",
   "metadata": {},
   "outputs": [
    {
     "data": {
      "text/html": [
       "<div>\n",
       "<style scoped>\n",
       "    .dataframe tbody tr th:only-of-type {\n",
       "        vertical-align: middle;\n",
       "    }\n",
       "\n",
       "    .dataframe tbody tr th {\n",
       "        vertical-align: top;\n",
       "    }\n",
       "\n",
       "    .dataframe thead th {\n",
       "        text-align: right;\n",
       "    }\n",
       "</style>\n",
       "<table border=\"1\" class=\"dataframe\">\n",
       "  <thead>\n",
       "    <tr style=\"text-align: right;\">\n",
       "      <th></th>\n",
       "      <th>Número de votos</th>\n",
       "      <th>Nome do filme</th>\n",
       "    </tr>\n",
       "  </thead>\n",
       "  <tbody>\n",
       "    <tr>\n",
       "      <th>0</th>\n",
       "      <td>25088</td>\n",
       "      <td>[Ba wang bie ji]</td>\n",
       "    </tr>\n",
       "    <tr>\n",
       "      <th>1</th>\n",
       "      <td>25198</td>\n",
       "      <td>[God's Own Country]</td>\n",
       "    </tr>\n",
       "    <tr>\n",
       "      <th>2</th>\n",
       "      <td>25229</td>\n",
       "      <td>[La planÃ¨te sauvage]</td>\n",
       "    </tr>\n",
       "    <tr>\n",
       "      <th>3</th>\n",
       "      <td>25312</td>\n",
       "      <td>[Scarface: The Shame of the Nation]</td>\n",
       "    </tr>\n",
       "    <tr>\n",
       "      <th>4</th>\n",
       "      <td>25344</td>\n",
       "      <td>[Raazi]</td>\n",
       "    </tr>\n",
       "  </tbody>\n",
       "</table>\n",
       "</div>"
      ],
      "text/plain": [
       "   Número de votos                        Nome do filme\n",
       "0            25088                     [Ba wang bie ji]\n",
       "1            25198                  [God's Own Country]\n",
       "2            25229                [La planÃ¨te sauvage]\n",
       "3            25312  [Scarface: The Shame of the Nation]\n",
       "4            25344                              [Raazi]"
      ]
     },
     "execution_count": 148,
     "metadata": {},
     "output_type": "execute_result"
    }
   ],
   "source": [
    "# agrupando por número de votos e listando os filmes\n",
    "agrupamento_numero_votos_nome_filme = df.groupby(\"Número de votos\")[\"Nome do filme\"].apply(list).reset_index()\n",
    "agrupamento_numero_votos_nome_filme.head()"
   ]
  },
  {
   "cell_type": "code",
   "execution_count": null,
   "id": "dfdf04c1-66a2-4403-b475-bb35961889a4",
   "metadata": {},
   "outputs": [],
   "source": []
  },
  {
   "cell_type": "code",
   "execution_count": null,
   "id": "eb8b3dd8-6bce-4ba7-9908-c20b0171b422",
   "metadata": {},
   "outputs": [],
   "source": []
  },
  {
   "cell_type": "code",
   "execution_count": 140,
   "id": "f0657242-2148-43aa-863c-d928a3f05c2e",
   "metadata": {},
   "outputs": [
    {
     "data": {
      "text/html": [
       "<div>\n",
       "<style scoped>\n",
       "    .dataframe tbody tr th:only-of-type {\n",
       "        vertical-align: middle;\n",
       "    }\n",
       "\n",
       "    .dataframe tbody tr th {\n",
       "        vertical-align: top;\n",
       "    }\n",
       "\n",
       "    .dataframe thead th {\n",
       "        text-align: right;\n",
       "    }\n",
       "</style>\n",
       "<table border=\"1\" class=\"dataframe\">\n",
       "  <thead>\n",
       "    <tr style=\"text-align: right;\">\n",
       "      <th></th>\n",
       "      <th>Nome do filme</th>\n",
       "      <th>Número de votos</th>\n",
       "      <th>Nota do IMDB</th>\n",
       "    </tr>\n",
       "  </thead>\n",
       "  <tbody>\n",
       "    <tr>\n",
       "      <th>0</th>\n",
       "      <td>The Dark Knight</td>\n",
       "      <td>2303232</td>\n",
       "      <td>9.0</td>\n",
       "    </tr>\n",
       "    <tr>\n",
       "      <th>1</th>\n",
       "      <td>Inception</td>\n",
       "      <td>2067042</td>\n",
       "      <td>8.8</td>\n",
       "    </tr>\n",
       "    <tr>\n",
       "      <th>2</th>\n",
       "      <td>Fight Club</td>\n",
       "      <td>1854740</td>\n",
       "      <td>8.8</td>\n",
       "    </tr>\n",
       "    <tr>\n",
       "      <th>3</th>\n",
       "      <td>Pulp Fiction</td>\n",
       "      <td>1826188</td>\n",
       "      <td>8.9</td>\n",
       "    </tr>\n",
       "    <tr>\n",
       "      <th>4</th>\n",
       "      <td>Forrest Gump</td>\n",
       "      <td>1809221</td>\n",
       "      <td>8.8</td>\n",
       "    </tr>\n",
       "    <tr>\n",
       "      <th>5</th>\n",
       "      <td>The Matrix</td>\n",
       "      <td>1676426</td>\n",
       "      <td>8.7</td>\n",
       "    </tr>\n",
       "    <tr>\n",
       "      <th>6</th>\n",
       "      <td>The Lord of the Rings: The Fellowship of the Ring</td>\n",
       "      <td>1661481</td>\n",
       "      <td>8.8</td>\n",
       "    </tr>\n",
       "    <tr>\n",
       "      <th>7</th>\n",
       "      <td>The Lord of the Rings: The Return of the King</td>\n",
       "      <td>1642758</td>\n",
       "      <td>8.9</td>\n",
       "    </tr>\n",
       "    <tr>\n",
       "      <th>8</th>\n",
       "      <td>The Godfather</td>\n",
       "      <td>1620367</td>\n",
       "      <td>9.2</td>\n",
       "    </tr>\n",
       "    <tr>\n",
       "      <th>9</th>\n",
       "      <td>The Dark Knight Rises</td>\n",
       "      <td>1516346</td>\n",
       "      <td>8.4</td>\n",
       "    </tr>\n",
       "  </tbody>\n",
       "</table>\n",
       "</div>"
      ],
      "text/plain": [
       "                                       Nome do filme  Número de votos  \\\n",
       "0                                    The Dark Knight          2303232   \n",
       "1                                          Inception          2067042   \n",
       "2                                         Fight Club          1854740   \n",
       "3                                       Pulp Fiction          1826188   \n",
       "4                                       Forrest Gump          1809221   \n",
       "5                                         The Matrix          1676426   \n",
       "6  The Lord of the Rings: The Fellowship of the Ring          1661481   \n",
       "7      The Lord of the Rings: The Return of the King          1642758   \n",
       "8                                      The Godfather          1620367   \n",
       "9                              The Dark Knight Rises          1516346   \n",
       "\n",
       "   Nota do IMDB  \n",
       "0           9.0  \n",
       "1           8.8  \n",
       "2           8.8  \n",
       "3           8.9  \n",
       "4           8.8  \n",
       "5           8.7  \n",
       "6           8.8  \n",
       "7           8.9  \n",
       "8           9.2  \n",
       "9           8.4  "
      ]
     },
     "execution_count": 140,
     "metadata": {},
     "output_type": "execute_result"
    }
   ],
   "source": [
    "# Depois mais para frente vou colocar na ordem certinha para responder as perguntas, porém aqui já posso responder a primeira pergunta.\n",
    "# ordenar por votos (e desempatar pela nota)\n",
    "top10_por_votos = (\n",
    "    df.sort_values(by=[\"Número de votos\", \"Nota do IMDB\"], ascending=[False, False])\n",
    "      [[\"Nome do filme\", \"Número de votos\", \"Nota do IMDB\"]]\n",
    "      .head(10)\n",
    "      .reset_index(drop=True)\n",
    ")\n",
    "top10_por_votos"
   ]
  },
  {
   "cell_type": "code",
   "execution_count": 142,
   "id": "eb8b9cdf-c24c-4c89-b505-e31da09e3180",
   "metadata": {},
   "outputs": [
    {
     "data": {
      "text/html": [
       "<div>\n",
       "<style scoped>\n",
       "    .dataframe tbody tr th:only-of-type {\n",
       "        vertical-align: middle;\n",
       "    }\n",
       "\n",
       "    .dataframe tbody tr th {\n",
       "        vertical-align: top;\n",
       "    }\n",
       "\n",
       "    .dataframe thead th {\n",
       "        text-align: right;\n",
       "    }\n",
       "</style>\n",
       "<table border=\"1\" class=\"dataframe\">\n",
       "  <thead>\n",
       "    <tr style=\"text-align: right;\">\n",
       "      <th></th>\n",
       "      <th>Nome do filme</th>\n",
       "      <th>Nota do IMDB</th>\n",
       "      <th>Número de votos</th>\n",
       "    </tr>\n",
       "  </thead>\n",
       "  <tbody>\n",
       "    <tr>\n",
       "      <th>0</th>\n",
       "      <td>The Godfather</td>\n",
       "      <td>9.2</td>\n",
       "      <td>1620367</td>\n",
       "    </tr>\n",
       "    <tr>\n",
       "      <th>1</th>\n",
       "      <td>The Dark Knight</td>\n",
       "      <td>9.0</td>\n",
       "      <td>2303232</td>\n",
       "    </tr>\n",
       "    <tr>\n",
       "      <th>2</th>\n",
       "      <td>The Godfather: Part II</td>\n",
       "      <td>9.0</td>\n",
       "      <td>1129952</td>\n",
       "    </tr>\n",
       "    <tr>\n",
       "      <th>3</th>\n",
       "      <td>12 Angry Men</td>\n",
       "      <td>9.0</td>\n",
       "      <td>689845</td>\n",
       "    </tr>\n",
       "    <tr>\n",
       "      <th>4</th>\n",
       "      <td>Pulp Fiction</td>\n",
       "      <td>8.9</td>\n",
       "      <td>1826188</td>\n",
       "    </tr>\n",
       "    <tr>\n",
       "      <th>5</th>\n",
       "      <td>The Lord of the Rings: The Return of the King</td>\n",
       "      <td>8.9</td>\n",
       "      <td>1642758</td>\n",
       "    </tr>\n",
       "    <tr>\n",
       "      <th>6</th>\n",
       "      <td>Schindler's List</td>\n",
       "      <td>8.9</td>\n",
       "      <td>1213505</td>\n",
       "    </tr>\n",
       "    <tr>\n",
       "      <th>7</th>\n",
       "      <td>Inception</td>\n",
       "      <td>8.8</td>\n",
       "      <td>2067042</td>\n",
       "    </tr>\n",
       "    <tr>\n",
       "      <th>8</th>\n",
       "      <td>Fight Club</td>\n",
       "      <td>8.8</td>\n",
       "      <td>1854740</td>\n",
       "    </tr>\n",
       "    <tr>\n",
       "      <th>9</th>\n",
       "      <td>Forrest Gump</td>\n",
       "      <td>8.8</td>\n",
       "      <td>1809221</td>\n",
       "    </tr>\n",
       "  </tbody>\n",
       "</table>\n",
       "</div>"
      ],
      "text/plain": [
       "                                   Nome do filme  Nota do IMDB  \\\n",
       "0                                  The Godfather           9.2   \n",
       "1                                The Dark Knight           9.0   \n",
       "2                         The Godfather: Part II           9.0   \n",
       "3                                   12 Angry Men           9.0   \n",
       "4                                   Pulp Fiction           8.9   \n",
       "5  The Lord of the Rings: The Return of the King           8.9   \n",
       "6                               Schindler's List           8.9   \n",
       "7                                      Inception           8.8   \n",
       "8                                     Fight Club           8.8   \n",
       "9                                   Forrest Gump           8.8   \n",
       "\n",
       "   Número de votos  \n",
       "0          1620367  \n",
       "1          2303232  \n",
       "2          1129952  \n",
       "3           689845  \n",
       "4          1826188  \n",
       "5          1642758  \n",
       "6          1213505  \n",
       "7          2067042  \n",
       "8          1854740  \n",
       "9          1809221  "
      ]
     },
     "execution_count": 142,
     "metadata": {},
     "output_type": "execute_result"
    }
   ],
   "source": [
    "# ordenar por nota (e desempatar por votos)\n",
    "top10_por_imdb = (\n",
    "    df.sort_values(by=[\"Nota do IMDB\", \"Número de votos\"], ascending=[False, False])\n",
    "      [[\"Nome do filme\", \"Nota do IMDB\", \"Número de votos\"]]\n",
    "      .head(10)\n",
    "      .reset_index(drop=True)\n",
    ")\n",
    "top10_por_imdb"
   ]
  },
  {
   "cell_type": "markdown",
   "id": "9cdcd2dd-bc9a-4eb3-a9b6-bea303fbd990",
   "metadata": {},
   "source": [
    "- Abaixo vou colocar um código para uma opção de escolha caso a pessoa queira o filme que aparece nos 2, entre os filmes mais votados e com as maiores notas."
   ]
  },
  {
   "cell_type": "code",
   "execution_count": 168,
   "id": "1bb7d9da-588d-498d-b796-c1eb1c703a5c",
   "metadata": {},
   "outputs": [
    {
     "data": {
      "text/html": [
       "<div>\n",
       "<style scoped>\n",
       "    .dataframe tbody tr th:only-of-type {\n",
       "        vertical-align: middle;\n",
       "    }\n",
       "\n",
       "    .dataframe tbody tr th {\n",
       "        vertical-align: top;\n",
       "    }\n",
       "\n",
       "    .dataframe thead th {\n",
       "        text-align: right;\n",
       "    }\n",
       "</style>\n",
       "<table border=\"1\" class=\"dataframe\">\n",
       "  <thead>\n",
       "    <tr style=\"text-align: right;\">\n",
       "      <th></th>\n",
       "      <th>Nome do filme</th>\n",
       "      <th>Número de votos</th>\n",
       "      <th>Nota do IMDB</th>\n",
       "      <th>rank_votos</th>\n",
       "      <th>rank_imdb</th>\n",
       "      <th>score</th>\n",
       "    </tr>\n",
       "  </thead>\n",
       "  <tbody>\n",
       "    <tr>\n",
       "      <th>0</th>\n",
       "      <td>The Dark Knight</td>\n",
       "      <td>2303232</td>\n",
       "      <td>9.0</td>\n",
       "      <td>1</td>\n",
       "      <td>2</td>\n",
       "      <td>3</td>\n",
       "    </tr>\n",
       "    <tr>\n",
       "      <th>1</th>\n",
       "      <td>Pulp Fiction</td>\n",
       "      <td>1826188</td>\n",
       "      <td>8.9</td>\n",
       "      <td>4</td>\n",
       "      <td>5</td>\n",
       "      <td>9</td>\n",
       "    </tr>\n",
       "    <tr>\n",
       "      <th>2</th>\n",
       "      <td>Inception</td>\n",
       "      <td>2067042</td>\n",
       "      <td>8.8</td>\n",
       "      <td>2</td>\n",
       "      <td>8</td>\n",
       "      <td>10</td>\n",
       "    </tr>\n",
       "    <tr>\n",
       "      <th>3</th>\n",
       "      <td>The Godfather</td>\n",
       "      <td>1620367</td>\n",
       "      <td>9.2</td>\n",
       "      <td>9</td>\n",
       "      <td>1</td>\n",
       "      <td>10</td>\n",
       "    </tr>\n",
       "    <tr>\n",
       "      <th>4</th>\n",
       "      <td>Fight Club</td>\n",
       "      <td>1854740</td>\n",
       "      <td>8.8</td>\n",
       "      <td>3</td>\n",
       "      <td>9</td>\n",
       "      <td>12</td>\n",
       "    </tr>\n",
       "    <tr>\n",
       "      <th>5</th>\n",
       "      <td>The Lord of the Rings: The Return of the King</td>\n",
       "      <td>1642758</td>\n",
       "      <td>8.9</td>\n",
       "      <td>8</td>\n",
       "      <td>6</td>\n",
       "      <td>14</td>\n",
       "    </tr>\n",
       "    <tr>\n",
       "      <th>6</th>\n",
       "      <td>Forrest Gump</td>\n",
       "      <td>1809221</td>\n",
       "      <td>8.8</td>\n",
       "      <td>5</td>\n",
       "      <td>10</td>\n",
       "      <td>15</td>\n",
       "    </tr>\n",
       "  </tbody>\n",
       "</table>\n",
       "</div>"
      ],
      "text/plain": [
       "                                   Nome do filme  Número de votos  \\\n",
       "0                                The Dark Knight          2303232   \n",
       "1                                   Pulp Fiction          1826188   \n",
       "2                                      Inception          2067042   \n",
       "3                                  The Godfather          1620367   \n",
       "4                                     Fight Club          1854740   \n",
       "5  The Lord of the Rings: The Return of the King          1642758   \n",
       "6                                   Forrest Gump          1809221   \n",
       "\n",
       "   Nota do IMDB  rank_votos  rank_imdb  score  \n",
       "0           9.0           1          2      3  \n",
       "1           8.9           4          5      9  \n",
       "2           8.8           2          8     10  \n",
       "3           9.2           9          1     10  \n",
       "4           8.8           3          9     12  \n",
       "5           8.9           8          6     14  \n",
       "6           8.8           5         10     15  "
      ]
     },
     "execution_count": 168,
     "metadata": {},
     "output_type": "execute_result"
    }
   ],
   "source": [
    "K = 10  # top-k\n",
    "\n",
    "# TOP K por votos (desempata pela nota)\n",
    "top_votos = (\n",
    "    df.sort_values(by=[\"Número de votos\", \"Nota do IMDB\"], ascending=[False, False])\n",
    "      .loc[:, [\"Nome do filme\", \"Número de votos\", \"Nota do IMDB\"]]\n",
    "      .head(K)\n",
    "      .reset_index(drop=True)\n",
    ")\n",
    "top_votos[\"rank_votos\"] = np.arange(1, len(top_votos)+1)\n",
    "\n",
    "# TOP K por IMDB (desempata por votos)\n",
    "top_imdb = (\n",
    "    df.sort_values(by=[\"Nota do IMDB\", \"Número de votos\"], ascending=[False, False])\n",
    "      .loc[:, [\"Nome do filme\", \"Nota do IMDB\", \"Número de votos\"]]\n",
    "      .head(K)\n",
    "      .reset_index(drop=True)\n",
    ")\n",
    "top_imdb[\"rank_imdb\"] = np.arange(1, len(top_imdb)+1)\n",
    "\n",
    "# INTERSEÇÃO: filmes presentes nas duas listas\n",
    "ambos = (\n",
    "    top_votos[[\"Nome do filme\", \"Número de votos\", \"Nota do IMDB\", \"rank_votos\"]]\n",
    "    .merge(\n",
    "        top_imdb[[\"Nome do filme\", \"Nota do IMDB\", \"Número de votos\", \"rank_imdb\"]],\n",
    "        on=\"Nome do filme\",\n",
    "        suffixes=(\"_v\", \"_i\"),\n",
    "        how=\"inner\"\n",
    "    )\n",
    ")\n",
    "\n",
    "# escolhe colunas “limpas” e calcula um score (quanto menor, melhor)\n",
    "ambos = (\n",
    "    ambos.assign(score=lambda x: x[\"rank_votos\"] + x[\"rank_imdb\"])\n",
    "         .loc[:, [\"Nome do filme\", \"Número de votos_v\", \"Nota do IMDB_v\", \"rank_votos\", \"rank_imdb\", \"score\"]]\n",
    "         .rename(columns={\"Número de votos_v\":\"Número de votos\", \"Nota do IMDB_v\":\"Nota do IMDB\"})\n",
    "         .sort_values([\"score\", \"rank_votos\", \"rank_imdb\"], ascending=[True, True, True])\n",
    "         .reset_index(drop=True)\n",
    ")\n",
    "\n",
    "ambos"
   ]
  },
  {
   "cell_type": "code",
   "execution_count": null,
   "id": "7717be32-271a-49ca-8727-17d99ffa48e6",
   "metadata": {},
   "outputs": [],
   "source": []
  },
  {
   "cell_type": "code",
   "execution_count": null,
   "id": "4fbe73eb-dd97-4960-a0ba-c032fbcae30a",
   "metadata": {},
   "outputs": [],
   "source": []
  },
  {
   "cell_type": "markdown",
   "id": "7852c494-6d8c-408d-9c0e-479495ebf4c3",
   "metadata": {},
   "source": [
    "## Respondendo a primeira pergunta:\n",
    "- <b>Qual filme você recomendaria para uma pessoa que você não conhece?</b>\n",
    "  \n",
    "Eu deixaria a pessoa escolher entre 3 opções, número de votos que o filme recebeu, maior nota do IMDB ou filme que aparece em ambos entre os 10 primeiros.\n",
    "\n",
    "- Se fosse pelo número de votos, faria uma lista com 10 filmes mais votados: <b>The Dark Knight, Inception, Fight Club, Pulp Fiction, Forrest Gump, The Matrix, The Lord of the Rings: The Fellowship of the Ring, The Lord of the Rings: The Return of the King, The Godfather e The Dark Knight Rises.</b>\n",
    "\n",
    "- Se fosse pela nota mais alta do IMBD, eu colocaria uma lista com 10 filmes com maiores notas: <b>The Godfather, The Dark Knight, The Godfather: Part II, 12 Angry Men, Pulp Fiction, The Lord of the Rings: The Return of the King, Schindler's List, Inception, Fight Club e Forrest Gump.</b>\n",
    "\n",
    "- Se a pessoa quisesse escolher os filmes que dentro do TOP 10, aparecem nas duas listas, teriam 6 filmes: <b>The Dark Knight, Pulp Fiction, Inception, The Godfather, Fight Club, The Lord of the Rings: The Return of the King e Forrest Gump.</b>"
   ]
  },
  {
   "cell_type": "code",
   "execution_count": null,
   "id": "75534a1d-6099-465d-a95b-542006b8866c",
   "metadata": {},
   "outputs": [],
   "source": []
  },
  {
   "cell_type": "code",
   "execution_count": null,
   "id": "546e554b-6626-438c-96ae-3e8309b1b142",
   "metadata": {},
   "outputs": [],
   "source": []
  },
  {
   "cell_type": "code",
   "execution_count": 170,
   "id": "8e937694-4598-446a-bea4-c59777ce8820",
   "metadata": {},
   "outputs": [
    {
     "data": {
      "text/plain": [
       "Nome do filme                 0\n",
       "Ano de lançamento             0\n",
       "Classificação etária        101\n",
       "Tempo de duração              0\n",
       "Gênero                        0\n",
       "Nota do IMDB                  0\n",
       "Overview do filme             0\n",
       "Media_Ponderada_Criticas    157\n",
       "Diretor                       0\n",
       "Ator/atriz #1                 0\n",
       "Ator/atriz #2                 0\n",
       "Ator/atriz #3                 0\n",
       "Ator/atriz #4                 0\n",
       "Número de votos               0\n",
       "Faturamento                 169\n",
       "dtype: int64"
      ]
     },
     "execution_count": 170,
     "metadata": {},
     "output_type": "execute_result"
    }
   ],
   "source": [
    "# Verificando novamente os valores nulos \n",
    "df.isnull().sum()"
   ]
  },
  {
   "cell_type": "code",
   "execution_count": 172,
   "id": "0011a289-d350-4605-9690-44a8efc691ca",
   "metadata": {},
   "outputs": [
    {
     "data": {
      "text/plain": [
       "(999, 15)"
      ]
     },
     "execution_count": 172,
     "metadata": {},
     "output_type": "execute_result"
    }
   ],
   "source": [
    "# Visualizar o tamanho do conjunto de dados, ou seja, o tamanho do DataFrame\n",
    "df.shape"
   ]
  },
  {
   "cell_type": "code",
   "execution_count": 174,
   "id": "b3acad42-1a14-4292-b386-20c2767472e3",
   "metadata": {},
   "outputs": [],
   "source": [
    "# Tratamento dos valores nulos da variável Classificação etária\n",
    "df[\"Classificação etária\"] = df[\"Classificação etária\"].fillna(\"NR\") "
   ]
  },
  {
   "cell_type": "code",
   "execution_count": 178,
   "id": "576d3f90-f90c-433b-a1fb-e60448ade4de",
   "metadata": {},
   "outputs": [],
   "source": [
    "# Tratamento dos valores nulos da variável Media_Ponderada_Criticas\n",
    "# Substituir os valors nulos pela mediana\n",
    "df[\"Media_Ponderada_Criticas\"] = df[\"Media_Ponderada_Criticas\"].fillna(\n",
    "    df[\"Media_Ponderada_Criticas\"].median()\n",
    ")"
   ]
  },
  {
   "cell_type": "code",
   "execution_count": 180,
   "id": "5f2372b8-ed04-4559-b15b-aa3d5ad77d4c",
   "metadata": {},
   "outputs": [],
   "source": [
    "# converter 'Faturamento' (string com vírgulas) para numérico\n",
    "df[\"Faturamento_num\"] = pd.to_numeric(\n",
    "    df[\"Faturamento\"].str.replace(\",\", \"\", regex=False),  # remove vírgulas\n",
    "    errors=\"coerce\"\n",
    ")"
   ]
  },
  {
   "cell_type": "code",
   "execution_count": 182,
   "id": "7dba5f24-54c0-430c-b201-419e279f7384",
   "metadata": {},
   "outputs": [],
   "source": [
    "# flag de nulos (útil pro modelo/EDA)\n",
    "df[\"miss_faturamento\"] = df[\"Faturamento_num\"].isna().astype(int)"
   ]
  },
  {
   "cell_type": "code",
   "execution_count": 184,
   "id": "d77de4cd-4ecf-49fe-8cf0-f9a0ca611e5f",
   "metadata": {},
   "outputs": [],
   "source": [
    "# imputar pela MEDIANA (global)\n",
    "mediana_faturamento = df[\"Faturamento_num\"].median()\n",
    "df[\"Faturamento_num\"] = df[\"Faturamento_num\"].fillna(mediana_faturamento)"
   ]
  },
  {
   "cell_type": "code",
   "execution_count": 190,
   "id": "2397b5f8-27d8-44da-ad83-5a23ba0961f1",
   "metadata": {},
   "outputs": [],
   "source": [
    "# Removendo as colunas Faturamento e miss_faturamento \n",
    "df.drop(columns=[\"Faturamento\", \"miss_faturamento\"], inplace=True)"
   ]
  },
  {
   "cell_type": "code",
   "execution_count": 192,
   "id": "94d5e50b-ddac-4f4d-8524-3e8750afedae",
   "metadata": {},
   "outputs": [
    {
     "data": {
      "text/plain": [
       "Nome do filme               0\n",
       "Ano de lançamento           0\n",
       "Classificação etária        0\n",
       "Tempo de duração            0\n",
       "Gênero                      0\n",
       "Nota do IMDB                0\n",
       "Overview do filme           0\n",
       "Media_Ponderada_Criticas    0\n",
       "Diretor                     0\n",
       "Ator/atriz #1               0\n",
       "Ator/atriz #2               0\n",
       "Ator/atriz #3               0\n",
       "Ator/atriz #4               0\n",
       "Número de votos             0\n",
       "Faturamento_num             0\n",
       "dtype: int64"
      ]
     },
     "execution_count": 192,
     "metadata": {},
     "output_type": "execute_result"
    }
   ],
   "source": [
    "# Verificando novamente os valores nulos \n",
    "df.isnull().sum()"
   ]
  },
  {
   "cell_type": "code",
   "execution_count": 194,
   "id": "e88effc4-226b-49bc-a66b-beea410472d6",
   "metadata": {},
   "outputs": [
    {
     "name": "stdout",
     "output_type": "stream",
     "text": [
      "<class 'pandas.core.frame.DataFrame'>\n",
      "RangeIndex: 999 entries, 0 to 998\n",
      "Data columns (total 15 columns):\n",
      " #   Column                    Non-Null Count  Dtype  \n",
      "---  ------                    --------------  -----  \n",
      " 0   Nome do filme             999 non-null    object \n",
      " 1   Ano de lançamento         999 non-null    object \n",
      " 2   Classificação etária      999 non-null    object \n",
      " 3   Tempo de duração          999 non-null    object \n",
      " 4   Gênero                    999 non-null    object \n",
      " 5   Nota do IMDB              999 non-null    float64\n",
      " 6   Overview do filme         999 non-null    object \n",
      " 7   Media_Ponderada_Criticas  999 non-null    float64\n",
      " 8   Diretor                   999 non-null    object \n",
      " 9   Ator/atriz #1             999 non-null    object \n",
      " 10  Ator/atriz #2             999 non-null    object \n",
      " 11  Ator/atriz #3             999 non-null    object \n",
      " 12  Ator/atriz #4             999 non-null    object \n",
      " 13  Número de votos           999 non-null    int64  \n",
      " 14  Faturamento_num           999 non-null    float64\n",
      "dtypes: float64(3), int64(1), object(11)\n",
      "memory usage: 117.2+ KB\n"
     ]
    }
   ],
   "source": [
    "df.info()"
   ]
  },
  {
   "cell_type": "code",
   "execution_count": 200,
   "id": "3659f627-d385-4a15-8583-db3f562d4b59",
   "metadata": {},
   "outputs": [],
   "source": [
    "# extrai um ano de 4 dígitos e converte para inteiro \"nullable\"\n",
    "df[\"Ano_de_Lancamento\"] = (\n",
    "    df[\"Ano de lançamento\"].astype(str).str.extract(r\"(\\d{4})\")[0].astype(\"Int64\")\n",
    ")"
   ]
  },
  {
   "cell_type": "code",
   "execution_count": 204,
   "id": "a47cc415-dc72-40aa-9aac-44d34a9f748c",
   "metadata": {},
   "outputs": [],
   "source": [
    "df.drop(columns=[\"Ano de lançamento\",\"ANO\"], inplace=True)"
   ]
  },
  {
   "cell_type": "code",
   "execution_count": 206,
   "id": "7a60246a-3ca2-4eea-9e7b-93954b0a6d1d",
   "metadata": {},
   "outputs": [
    {
     "name": "stdout",
     "output_type": "stream",
     "text": [
      "<class 'pandas.core.frame.DataFrame'>\n",
      "RangeIndex: 999 entries, 0 to 998\n",
      "Data columns (total 15 columns):\n",
      " #   Column                    Non-Null Count  Dtype  \n",
      "---  ------                    --------------  -----  \n",
      " 0   Nome do filme             999 non-null    object \n",
      " 1   Classificação etária      999 non-null    object \n",
      " 2   Tempo de duração          999 non-null    object \n",
      " 3   Gênero                    999 non-null    object \n",
      " 4   Nota do IMDB              999 non-null    float64\n",
      " 5   Overview do filme         999 non-null    object \n",
      " 6   Media_Ponderada_Criticas  999 non-null    float64\n",
      " 7   Diretor                   999 non-null    object \n",
      " 8   Ator/atriz #1             999 non-null    object \n",
      " 9   Ator/atriz #2             999 non-null    object \n",
      " 10  Ator/atriz #3             999 non-null    object \n",
      " 11  Ator/atriz #4             999 non-null    object \n",
      " 12  Número de votos           999 non-null    int64  \n",
      " 13  Faturamento_num           999 non-null    float64\n",
      " 14  Ano_de_Lancamento         998 non-null    Int64  \n",
      "dtypes: Int64(1), float64(3), int64(1), object(10)\n",
      "memory usage: 118.2+ KB\n"
     ]
    }
   ],
   "source": [
    "df.info()"
   ]
  },
  {
   "cell_type": "code",
   "execution_count": 208,
   "id": "44167bad-762d-4416-9941-31b4c4df52db",
   "metadata": {},
   "outputs": [
    {
     "data": {
      "text/html": [
       "<div>\n",
       "<style scoped>\n",
       "    .dataframe tbody tr th:only-of-type {\n",
       "        vertical-align: middle;\n",
       "    }\n",
       "\n",
       "    .dataframe tbody tr th {\n",
       "        vertical-align: top;\n",
       "    }\n",
       "\n",
       "    .dataframe thead th {\n",
       "        text-align: right;\n",
       "    }\n",
       "</style>\n",
       "<table border=\"1\" class=\"dataframe\">\n",
       "  <thead>\n",
       "    <tr style=\"text-align: right;\">\n",
       "      <th></th>\n",
       "      <th>Nome do filme</th>\n",
       "      <th>Classificação etária</th>\n",
       "      <th>Tempo de duração</th>\n",
       "      <th>Gênero</th>\n",
       "      <th>Nota do IMDB</th>\n",
       "      <th>Overview do filme</th>\n",
       "      <th>Media_Ponderada_Criticas</th>\n",
       "      <th>Diretor</th>\n",
       "      <th>Ator/atriz #1</th>\n",
       "      <th>Ator/atriz #2</th>\n",
       "      <th>Ator/atriz #3</th>\n",
       "      <th>Ator/atriz #4</th>\n",
       "      <th>Número de votos</th>\n",
       "      <th>Faturamento_num</th>\n",
       "      <th>Ano_de_Lancamento</th>\n",
       "    </tr>\n",
       "  </thead>\n",
       "  <tbody>\n",
       "    <tr>\n",
       "      <th>0</th>\n",
       "      <td>The Godfather</td>\n",
       "      <td>A</td>\n",
       "      <td>175 min</td>\n",
       "      <td>Crime, Drama</td>\n",
       "      <td>9.2</td>\n",
       "      <td>An organized crime dynasty's aging patriarch t...</td>\n",
       "      <td>100.0</td>\n",
       "      <td>Francis Ford Coppola</td>\n",
       "      <td>Marlon Brando</td>\n",
       "      <td>Al Pacino</td>\n",
       "      <td>James Caan</td>\n",
       "      <td>Diane Keaton</td>\n",
       "      <td>1620367</td>\n",
       "      <td>134966411.0</td>\n",
       "      <td>1972</td>\n",
       "    </tr>\n",
       "    <tr>\n",
       "      <th>1</th>\n",
       "      <td>The Dark Knight</td>\n",
       "      <td>UA</td>\n",
       "      <td>152 min</td>\n",
       "      <td>Action, Crime, Drama</td>\n",
       "      <td>9.0</td>\n",
       "      <td>When the menace known as the Joker wreaks havo...</td>\n",
       "      <td>84.0</td>\n",
       "      <td>Christopher Nolan</td>\n",
       "      <td>Christian Bale</td>\n",
       "      <td>Heath Ledger</td>\n",
       "      <td>Aaron Eckhart</td>\n",
       "      <td>Michael Caine</td>\n",
       "      <td>2303232</td>\n",
       "      <td>534858444.0</td>\n",
       "      <td>2008</td>\n",
       "    </tr>\n",
       "    <tr>\n",
       "      <th>2</th>\n",
       "      <td>The Godfather: Part II</td>\n",
       "      <td>A</td>\n",
       "      <td>202 min</td>\n",
       "      <td>Crime, Drama</td>\n",
       "      <td>9.0</td>\n",
       "      <td>The early life and career of Vito Corleone in ...</td>\n",
       "      <td>90.0</td>\n",
       "      <td>Francis Ford Coppola</td>\n",
       "      <td>Al Pacino</td>\n",
       "      <td>Robert De Niro</td>\n",
       "      <td>Robert Duvall</td>\n",
       "      <td>Diane Keaton</td>\n",
       "      <td>1129952</td>\n",
       "      <td>57300000.0</td>\n",
       "      <td>1974</td>\n",
       "    </tr>\n",
       "    <tr>\n",
       "      <th>3</th>\n",
       "      <td>12 Angry Men</td>\n",
       "      <td>U</td>\n",
       "      <td>96 min</td>\n",
       "      <td>Crime, Drama</td>\n",
       "      <td>9.0</td>\n",
       "      <td>A jury holdout attempts to prevent a miscarria...</td>\n",
       "      <td>96.0</td>\n",
       "      <td>Sidney Lumet</td>\n",
       "      <td>Henry Fonda</td>\n",
       "      <td>Lee J. Cobb</td>\n",
       "      <td>Martin Balsam</td>\n",
       "      <td>John Fiedler</td>\n",
       "      <td>689845</td>\n",
       "      <td>4360000.0</td>\n",
       "      <td>1957</td>\n",
       "    </tr>\n",
       "    <tr>\n",
       "      <th>4</th>\n",
       "      <td>The Lord of the Rings: The Return of the King</td>\n",
       "      <td>U</td>\n",
       "      <td>201 min</td>\n",
       "      <td>Action, Adventure, Drama</td>\n",
       "      <td>8.9</td>\n",
       "      <td>Gandalf and Aragorn lead the World of Men agai...</td>\n",
       "      <td>94.0</td>\n",
       "      <td>Peter Jackson</td>\n",
       "      <td>Elijah Wood</td>\n",
       "      <td>Viggo Mortensen</td>\n",
       "      <td>Ian McKellen</td>\n",
       "      <td>Orlando Bloom</td>\n",
       "      <td>1642758</td>\n",
       "      <td>377845905.0</td>\n",
       "      <td>2003</td>\n",
       "    </tr>\n",
       "  </tbody>\n",
       "</table>\n",
       "</div>"
      ],
      "text/plain": [
       "                                   Nome do filme Classificação etária  \\\n",
       "0                                  The Godfather                    A   \n",
       "1                                The Dark Knight                   UA   \n",
       "2                         The Godfather: Part II                    A   \n",
       "3                                   12 Angry Men                    U   \n",
       "4  The Lord of the Rings: The Return of the King                    U   \n",
       "\n",
       "  Tempo de duração                    Gênero  Nota do IMDB  \\\n",
       "0          175 min              Crime, Drama           9.2   \n",
       "1          152 min      Action, Crime, Drama           9.0   \n",
       "2          202 min              Crime, Drama           9.0   \n",
       "3           96 min              Crime, Drama           9.0   \n",
       "4          201 min  Action, Adventure, Drama           8.9   \n",
       "\n",
       "                                   Overview do filme  \\\n",
       "0  An organized crime dynasty's aging patriarch t...   \n",
       "1  When the menace known as the Joker wreaks havo...   \n",
       "2  The early life and career of Vito Corleone in ...   \n",
       "3  A jury holdout attempts to prevent a miscarria...   \n",
       "4  Gandalf and Aragorn lead the World of Men agai...   \n",
       "\n",
       "   Media_Ponderada_Criticas               Diretor   Ator/atriz #1  \\\n",
       "0                     100.0  Francis Ford Coppola   Marlon Brando   \n",
       "1                      84.0     Christopher Nolan  Christian Bale   \n",
       "2                      90.0  Francis Ford Coppola       Al Pacino   \n",
       "3                      96.0          Sidney Lumet     Henry Fonda   \n",
       "4                      94.0         Peter Jackson     Elijah Wood   \n",
       "\n",
       "     Ator/atriz #2  Ator/atriz #3  Ator/atriz #4  Número de votos  \\\n",
       "0        Al Pacino     James Caan   Diane Keaton          1620367   \n",
       "1     Heath Ledger  Aaron Eckhart  Michael Caine          2303232   \n",
       "2   Robert De Niro  Robert Duvall   Diane Keaton          1129952   \n",
       "3      Lee J. Cobb  Martin Balsam   John Fiedler           689845   \n",
       "4  Viggo Mortensen   Ian McKellen  Orlando Bloom          1642758   \n",
       "\n",
       "   Faturamento_num  Ano_de_Lancamento  \n",
       "0      134966411.0               1972  \n",
       "1      534858444.0               2008  \n",
       "2       57300000.0               1974  \n",
       "3        4360000.0               1957  \n",
       "4      377845905.0               2003  "
      ]
     },
     "execution_count": 208,
     "metadata": {},
     "output_type": "execute_result"
    }
   ],
   "source": [
    "df.head()"
   ]
  },
  {
   "cell_type": "code",
   "execution_count": 213,
   "id": "d8f22876-7e2b-4e1b-8857-7ca6cf0bd056",
   "metadata": {},
   "outputs": [
    {
     "data": {
      "image/png": "[encoded data removed]",
      "text/plain": [
       "<Figure size 640x480 with 1 Axes>"
      ]
     },
     "metadata": {},
     "output_type": "display_data"
    }
   ],
   "source": [
    "# Analisar possíveis Outliers com boxblot para a variavel Nota do IMDB\n",
    "sns.boxplot(df['Nota do IMDB'])\n",
    "plt.title('Nota do IMDB')\n",
    "plt.show()"
   ]
  },
  {
   "cell_type": "markdown",
   "id": "0fb33ffc-4d52-4983-b002-5ad797a518ae",
   "metadata": {},
   "source": [
    "- Já podemos perceber que mesmo que no gráfico as notas 8.8 até 9.2 podem ser possíveis outliers, já conseguimos notar que não é. "
   ]
  },
  {
   "cell_type": "code",
   "execution_count": 227,
   "id": "f7a61359-1658-4ffa-b161-39f976b7539f",
   "metadata": {},
   "outputs": [
    {
     "data": {
      "image/png": "[encoded data removed]",
      "text/plain": [
       "<Figure size 640x480 with 1 Axes>"
      ]
     },
     "metadata": {},
     "output_type": "display_data"
    }
   ],
   "source": [
    "# Analisar possíveis Outliers com boxblot para a variavel Número de votos\n",
    "sns.boxplot(df['Número de votos'])\n",
    "plt.title('Número de votos')\n",
    "plt.show()"
   ]
  },
  {
   "cell_type": "code",
   "execution_count": 219,
   "id": "67bcb8a0-ddf3-4089-b80b-99a2bf9ef865",
   "metadata": {},
   "outputs": [],
   "source": [
    "# Vou converter a variável Tempo de duração para número\n",
    "# extrai os dígitos e converte para número\n",
    "df[\"Duracao_min\"] = pd.to_numeric(\n",
    "    df[\"Tempo de duração\"].str.extract(r\"(\\d+)\")[0],\n",
    "    errors=\"coerce\"\n",
    ").astype(\"Int64\")  # inteiro 'nullable'"
   ]
  },
  {
   "cell_type": "markdown",
   "id": "f3237c79-d567-4f33-b983-a01a3e06c4dd",
   "metadata": {},
   "source": [
    "- Eu mudei para número, porque de acordo com nosso INFO, essa variável estava como object."
   ]
  },
  {
   "cell_type": "code",
   "execution_count": 223,
   "id": "4a52148e-8588-4a2b-b3a3-885418aab49c",
   "metadata": {},
   "outputs": [],
   "source": [
    "# Agora vou excluir a variável Tempo de duração e deixar apenas a nova variável Duracao_min\n",
    "df.drop(columns=[\"Tempo de duração\"], inplace=True)"
   ]
  },
  {
   "cell_type": "code",
   "execution_count": 225,
   "id": "a26d88e7-6f6e-4df8-b744-cadea48836e7",
   "metadata": {},
   "outputs": [
    {
     "name": "stdout",
     "output_type": "stream",
     "text": [
      "<class 'pandas.core.frame.DataFrame'>\n",
      "RangeIndex: 999 entries, 0 to 998\n",
      "Data columns (total 15 columns):\n",
      " #   Column                    Non-Null Count  Dtype  \n",
      "---  ------                    --------------  -----  \n",
      " 0   Nome do filme             999 non-null    object \n",
      " 1   Classificação etária      999 non-null    object \n",
      " 2   Gênero                    999 non-null    object \n",
      " 3   Nota do IMDB              999 non-null    float64\n",
      " 4   Overview do filme         999 non-null    object \n",
      " 5   Media_Ponderada_Criticas  999 non-null    float64\n",
      " 6   Diretor                   999 non-null    object \n",
      " 7   Ator/atriz #1             999 non-null    object \n",
      " 8   Ator/atriz #2             999 non-null    object \n",
      " 9   Ator/atriz #3             999 non-null    object \n",
      " 10  Ator/atriz #4             999 non-null    object \n",
      " 11  Número de votos           999 non-null    int64  \n",
      " 12  Faturamento_num           999 non-null    float64\n",
      " 13  Ano_de_Lancamento         998 non-null    Int64  \n",
      " 14  Duracao_min               999 non-null    Int64  \n",
      "dtypes: Int64(2), float64(3), int64(1), object(9)\n",
      "memory usage: 119.2+ KB\n"
     ]
    }
   ],
   "source": [
    "df.info()"
   ]
  },
  {
   "cell_type": "code",
   "execution_count": 229,
   "id": "6a22328a-95b7-4f8f-ba57-4fa5e6b2aef1",
   "metadata": {},
   "outputs": [
    {
     "data": {
      "image/png": "[encoded data removed]",
      "text/plain": [
       "<Figure size 640x480 with 1 Axes>"
      ]
     },
     "metadata": {},
     "output_type": "display_data"
    }
   ],
   "source": [
    "# Analisar possíveis Outliers com boxblot para a variavel Duracao_min\n",
    "sns.boxplot(df['Duracao_min'])\n",
    "plt.title('Duração em minutos')\n",
    "plt.show()"
   ]
  },
  {
   "cell_type": "code",
   "execution_count": 233,
   "id": "011c3112-403f-4c26-9cc8-fb06a21ec2b4",
   "metadata": {},
   "outputs": [
    {
     "name": "stdout",
     "output_type": "stream",
     "text": [
      "Qtd de filmes > 280 min: 1\n"
     ]
    },
    {
     "data": {
      "text/html": [
       "<div>\n",
       "<style scoped>\n",
       "    .dataframe tbody tr th:only-of-type {\n",
       "        vertical-align: middle;\n",
       "    }\n",
       "\n",
       "    .dataframe tbody tr th {\n",
       "        vertical-align: top;\n",
       "    }\n",
       "\n",
       "    .dataframe thead th {\n",
       "        text-align: right;\n",
       "    }\n",
       "</style>\n",
       "<table border=\"1\" class=\"dataframe\">\n",
       "  <thead>\n",
       "    <tr style=\"text-align: right;\">\n",
       "      <th></th>\n",
       "      <th>Nome do filme</th>\n",
       "      <th>Duracao_min</th>\n",
       "    </tr>\n",
       "  </thead>\n",
       "  <tbody>\n",
       "    <tr>\n",
       "      <th>139</th>\n",
       "      <td>Gangs of Wasseypur</td>\n",
       "      <td>321</td>\n",
       "    </tr>\n",
       "  </tbody>\n",
       "</table>\n",
       "</div>"
      ],
      "text/plain": [
       "          Nome do filme  Duracao_min\n",
       "139  Gangs of Wasseypur          321"
      ]
     },
     "execution_count": 233,
     "metadata": {},
     "output_type": "execute_result"
    }
   ],
   "source": [
    "# filmes com mais de 280 minutos\n",
    "filme_longo = df[\"Duracao_min\"] > 280\n",
    "df_280 = df.loc[filme_longo, [\"Nome do filme\", \"Duracao_min\"]].sort_values(\"Duracao_min\", ascending=False)\n",
    "\n",
    "print(f\"Qtd de filmes > 280 min: {filme_longo.sum()}\")\n",
    "df_280.head(20)"
   ]
  },
  {
   "cell_type": "markdown",
   "id": "d5945a58-9fae-4106-bdc4-1def4d917e4e",
   "metadata": {},
   "source": [
    "- Acima eu peguei apenas os filmes com duração acima de 280 minutos que nesse caso, só tinhamos apenas uma opção. Fui verificar externamente e na verdade esse filme não tem 321 min de duração e sim 240 min."
   ]
  },
  {
   "cell_type": "code",
   "execution_count": 235,
   "id": "d4705284-7d37-4483-9ea4-cc9e6ab4e782",
   "metadata": {},
   "outputs": [
    {
     "data": {
      "text/html": [
       "<div>\n",
       "<style scoped>\n",
       "    .dataframe tbody tr th:only-of-type {\n",
       "        vertical-align: middle;\n",
       "    }\n",
       "\n",
       "    .dataframe tbody tr th {\n",
       "        vertical-align: top;\n",
       "    }\n",
       "\n",
       "    .dataframe thead th {\n",
       "        text-align: right;\n",
       "    }\n",
       "</style>\n",
       "<table border=\"1\" class=\"dataframe\">\n",
       "  <thead>\n",
       "    <tr style=\"text-align: right;\">\n",
       "      <th></th>\n",
       "      <th>Nome do filme</th>\n",
       "      <th>Duracao_min</th>\n",
       "    </tr>\n",
       "  </thead>\n",
       "  <tbody>\n",
       "    <tr>\n",
       "      <th>139</th>\n",
       "      <td>Gangs of Wasseypur</td>\n",
       "      <td>240</td>\n",
       "    </tr>\n",
       "  </tbody>\n",
       "</table>\n",
       "</div>"
      ],
      "text/plain": [
       "          Nome do filme  Duracao_min\n",
       "139  Gangs of Wasseypur          240"
      ]
     },
     "execution_count": 235,
     "metadata": {},
     "output_type": "execute_result"
    }
   ],
   "source": [
    "# Dando uma olhada no google, vi que esse filme tem dureção de 240 minutos.\n",
    "# corrigir duração de \"Gangs of Wasseypur\" para 240 min\n",
    "mask = df[\"Nome do filme\"].str.strip().str.lower().eq(\"gangs of wasseypur\") & (df[\"Duracao_min\"] > 280)\n",
    "df.loc[mask, \"Duracao_min\"] = 240\n",
    "\n",
    "# conferir\n",
    "df.loc[df[\"Nome do filme\"].str.contains(r\"^Gangs of Wasseypur$\", case=False, na=False),\n",
    "       [\"Nome do filme\", \"Duracao_min\"]]"
   ]
  },
  {
   "cell_type": "code",
   "execution_count": 243,
   "id": "4edf0fdd-087f-454d-bfeb-9917925f5670",
   "metadata": {},
   "outputs": [
    {
     "data": {
      "image/png": "[encoded data removed]",
      "text/plain": [
       "<Figure size 640x480 with 1 Axes>"
      ]
     },
     "metadata": {},
     "output_type": "display_data"
    }
   ],
   "source": [
    "# Analisar possíveis Outliers com boxblot para a variavel Duracao_min\n",
    "sns.boxplot(df['Duracao_min'])\n",
    "plt.title('Duração em minutos, gráfico ajustado')\n",
    "plt.show()"
   ]
  },
  {
   "cell_type": "code",
   "execution_count": null,
   "id": "87be2acc-3d20-4019-b31a-7a3ea3f32fda",
   "metadata": {},
   "outputs": [],
   "source": []
  },
  {
   "cell_type": "code",
   "execution_count": null,
   "id": "76d0aa0a-61ac-47dd-a5b4-de4a88140354",
   "metadata": {},
   "outputs": [],
   "source": []
  },
  {
   "cell_type": "code",
   "execution_count": 278,
   "id": "ed884f6c-b44a-4eae-8fa0-b2b4764dfedc",
   "metadata": {},
   "outputs": [
    {
     "name": "stdout",
     "output_type": "stream",
     "text": [
      "<class 'pandas.core.frame.DataFrame'>\n",
      "RangeIndex: 999 entries, 0 to 998\n",
      "Data columns (total 18 columns):\n",
      " #   Column                    Non-Null Count  Dtype  \n",
      "---  ------                    --------------  -----  \n",
      " 0   Nome do filme             999 non-null    object \n",
      " 1   Classificação etária      999 non-null    object \n",
      " 2   Gênero                    999 non-null    object \n",
      " 3   Nota do IMDB              999 non-null    float64\n",
      " 4   Overview do filme         999 non-null    object \n",
      " 5   Media_Ponderada_Criticas  999 non-null    float64\n",
      " 6   Diretor                   999 non-null    object \n",
      " 7   Ator/atriz #1             999 non-null    object \n",
      " 8   Ator/atriz #2             999 non-null    object \n",
      " 9   Ator/atriz #3             999 non-null    object \n",
      " 10  Ator/atriz #4             999 non-null    object \n",
      " 11  Número de votos           999 non-null    int64  \n",
      " 12  Faturamento_num           999 non-null    float64\n",
      " 13  Ano_de_Lancamento         998 non-null    Int64  \n",
      " 14  Duracao_min               999 non-null    Int64  \n",
      " 15  log_votos                 999 non-null    float64\n",
      " 16  log_fat                   999 non-null    float64\n",
      " 17  genero_prim               999 non-null    object \n",
      "dtypes: Int64(2), float64(5), int64(1), object(10)\n",
      "memory usage: 142.6+ KB\n"
     ]
    }
   ],
   "source": [
    "df.info()"
   ]
  },
  {
   "cell_type": "code",
   "execution_count": 282,
   "id": "4a866a04-2594-4676-85b0-049dd12da9da",
   "metadata": {},
   "outputs": [],
   "source": [
    "df.drop(columns=[\"log_votos\", \"log_fat\",\"genero_prim\"], inplace=True)"
   ]
  },
  {
   "cell_type": "code",
   "execution_count": 284,
   "id": "438c133f",
   "metadata": {},
   "outputs": [
    {
     "name": "stdout",
     "output_type": "stream",
     "text": [
      "<class 'pandas.core.frame.DataFrame'>\n",
      "RangeIndex: 999 entries, 0 to 998\n",
      "Data columns (total 15 columns):\n",
      " #   Column                    Non-Null Count  Dtype  \n",
      "---  ------                    --------------  -----  \n",
      " 0   Nome do filme             999 non-null    object \n",
      " 1   Classificação etária      999 non-null    object \n",
      " 2   Gênero                    999 non-null    object \n",
      " 3   Nota do IMDB              999 non-null    float64\n",
      " 4   Overview do filme         999 non-null    object \n",
      " 5   Media_Ponderada_Criticas  999 non-null    float64\n",
      " 6   Diretor                   999 non-null    object \n",
      " 7   Ator/atriz #1             999 non-null    object \n",
      " 8   Ator/atriz #2             999 non-null    object \n",
      " 9   Ator/atriz #3             999 non-null    object \n",
      " 10  Ator/atriz #4             999 non-null    object \n",
      " 11  Número de votos           999 non-null    int64  \n",
      " 12  Faturamento_num           999 non-null    float64\n",
      " 13  Ano_de_Lancamento         998 non-null    Int64  \n",
      " 14  Duracao_min               999 non-null    Int64  \n",
      "dtypes: Int64(2), float64(3), int64(1), object(9)\n",
      "memory usage: 119.2+ KB\n"
     ]
    }
   ],
   "source": [
    "df.info()"
   ]
  },
  {
   "cell_type": "code",
   "execution_count": 286,
   "id": "97834e9b",
   "metadata": {},
   "outputs": [],
   "source": [
    "# mover para a 2ª coluna (índice 1)\n",
    "df.insert(1, \"Ano_de_Lancamento\", df.pop(\"Ano_de_Lancamento\"))\n",
    "\n",
    "# mover para a 3ª coluna (índice 2) – já considerando a mudança acima\n",
    "df.insert(2, \"Duracao_min\", df.pop(\"Duracao_min\"))"
   ]
  },
  {
   "cell_type": "markdown",
   "id": "28cce6c8-0b43-42a4-a210-4c57c96db1a4",
   "metadata": {},
   "source": [
    "- Aqui eu fiz um ajuste, eu deixei como o DF original onde as categorias ano de lançamento e duração do filme estavam no começo."
   ]
  },
  {
   "cell_type": "code",
   "execution_count": null,
   "id": "33e23ba3-0d89-4615-b81c-29360a30cb64",
   "metadata": {},
   "outputs": [],
   "source": []
  },
  {
   "cell_type": "code",
   "execution_count": null,
   "id": "238b5679-0a30-47b3-b5be-c5fbd712b93c",
   "metadata": {},
   "outputs": [],
   "source": []
  },
  {
   "cell_type": "code",
   "execution_count": 288,
   "id": "f115a273",
   "metadata": {},
   "outputs": [
    {
     "name": "stdout",
     "output_type": "stream",
     "text": [
      "<class 'pandas.core.frame.DataFrame'>\n",
      "RangeIndex: 999 entries, 0 to 998\n",
      "Data columns (total 15 columns):\n",
      " #   Column                    Non-Null Count  Dtype  \n",
      "---  ------                    --------------  -----  \n",
      " 0   Nome do filme             999 non-null    object \n",
      " 1   Ano_de_Lancamento         998 non-null    Int64  \n",
      " 2   Duracao_min               999 non-null    Int64  \n",
      " 3   Classificação etária      999 non-null    object \n",
      " 4   Gênero                    999 non-null    object \n",
      " 5   Nota do IMDB              999 non-null    float64\n",
      " 6   Overview do filme         999 non-null    object \n",
      " 7   Media_Ponderada_Criticas  999 non-null    float64\n",
      " 8   Diretor                   999 non-null    object \n",
      " 9   Ator/atriz #1             999 non-null    object \n",
      " 10  Ator/atriz #2             999 non-null    object \n",
      " 11  Ator/atriz #3             999 non-null    object \n",
      " 12  Ator/atriz #4             999 non-null    object \n",
      " 13  Número de votos           999 non-null    int64  \n",
      " 14  Faturamento_num           999 non-null    float64\n",
      "dtypes: Int64(2), float64(3), int64(1), object(9)\n",
      "memory usage: 119.2+ KB\n"
     ]
    }
   ],
   "source": [
    "df.info()"
   ]
  },
  {
   "cell_type": "code",
   "execution_count": 290,
   "id": "ba0eba6f",
   "metadata": {},
   "outputs": [
    {
     "data": {
      "text/html": [
       "<div>\n",
       "<style scoped>\n",
       "    .dataframe tbody tr th:only-of-type {\n",
       "        vertical-align: middle;\n",
       "    }\n",
       "\n",
       "    .dataframe tbody tr th {\n",
       "        vertical-align: top;\n",
       "    }\n",
       "\n",
       "    .dataframe thead th {\n",
       "        text-align: right;\n",
       "    }\n",
       "</style>\n",
       "<table border=\"1\" class=\"dataframe\">\n",
       "  <thead>\n",
       "    <tr style=\"text-align: right;\">\n",
       "      <th></th>\n",
       "      <th>Nome do filme</th>\n",
       "      <th>Ano_de_Lancamento</th>\n",
       "      <th>Duracao_min</th>\n",
       "      <th>Classificação etária</th>\n",
       "      <th>Gênero</th>\n",
       "      <th>Nota do IMDB</th>\n",
       "      <th>Overview do filme</th>\n",
       "      <th>Media_Ponderada_Criticas</th>\n",
       "      <th>Diretor</th>\n",
       "      <th>Ator/atriz #1</th>\n",
       "      <th>Ator/atriz #2</th>\n",
       "      <th>Ator/atriz #3</th>\n",
       "      <th>Ator/atriz #4</th>\n",
       "      <th>Número de votos</th>\n",
       "      <th>Faturamento_num</th>\n",
       "    </tr>\n",
       "  </thead>\n",
       "  <tbody>\n",
       "    <tr>\n",
       "      <th>0</th>\n",
       "      <td>The Godfather</td>\n",
       "      <td>1972</td>\n",
       "      <td>175</td>\n",
       "      <td>A</td>\n",
       "      <td>Crime, Drama</td>\n",
       "      <td>9.2</td>\n",
       "      <td>An organized crime dynasty's aging patriarch t...</td>\n",
       "      <td>100.0</td>\n",
       "      <td>Francis Ford Coppola</td>\n",
       "      <td>Marlon Brando</td>\n",
       "      <td>Al Pacino</td>\n",
       "      <td>James Caan</td>\n",
       "      <td>Diane Keaton</td>\n",
       "      <td>1620367</td>\n",
       "      <td>134966411.0</td>\n",
       "    </tr>\n",
       "    <tr>\n",
       "      <th>1</th>\n",
       "      <td>The Dark Knight</td>\n",
       "      <td>2008</td>\n",
       "      <td>152</td>\n",
       "      <td>UA</td>\n",
       "      <td>Action, Crime, Drama</td>\n",
       "      <td>9.0</td>\n",
       "      <td>When the menace known as the Joker wreaks havo...</td>\n",
       "      <td>84.0</td>\n",
       "      <td>Christopher Nolan</td>\n",
       "      <td>Christian Bale</td>\n",
       "      <td>Heath Ledger</td>\n",
       "      <td>Aaron Eckhart</td>\n",
       "      <td>Michael Caine</td>\n",
       "      <td>2303232</td>\n",
       "      <td>534858444.0</td>\n",
       "    </tr>\n",
       "  </tbody>\n",
       "</table>\n",
       "</div>"
      ],
      "text/plain": [
       "     Nome do filme  Ano_de_Lancamento  Duracao_min Classificação etária  \\\n",
       "0    The Godfather               1972          175                    A   \n",
       "1  The Dark Knight               2008          152                   UA   \n",
       "\n",
       "                 Gênero  Nota do IMDB  \\\n",
       "0          Crime, Drama           9.2   \n",
       "1  Action, Crime, Drama           9.0   \n",
       "\n",
       "                                   Overview do filme  \\\n",
       "0  An organized crime dynasty's aging patriarch t...   \n",
       "1  When the menace known as the Joker wreaks havo...   \n",
       "\n",
       "   Media_Ponderada_Criticas               Diretor   Ator/atriz #1  \\\n",
       "0                     100.0  Francis Ford Coppola   Marlon Brando   \n",
       "1                      84.0     Christopher Nolan  Christian Bale   \n",
       "\n",
       "  Ator/atriz #2  Ator/atriz #3  Ator/atriz #4  Número de votos  \\\n",
       "0     Al Pacino     James Caan   Diane Keaton          1620367   \n",
       "1  Heath Ledger  Aaron Eckhart  Michael Caine          2303232   \n",
       "\n",
       "   Faturamento_num  \n",
       "0      134966411.0  \n",
       "1      534858444.0  "
      ]
     },
     "execution_count": 290,
     "metadata": {},
     "output_type": "execute_result"
    }
   ],
   "source": [
    "df.head(2)"
   ]
  },
  {
   "cell_type": "code",
   "execution_count": 292,
   "id": "7fb2687c",
   "metadata": {},
   "outputs": [
    {
     "data": {
      "text/plain": [
       "Index(['Nome do filme', 'Ano_de_Lancamento', 'Duracao_min',\n",
       "       'Classificação etária', 'Gênero', 'Nota do IMDB', 'Overview do filme',\n",
       "       'Media_Ponderada_Criticas', 'Diretor', 'Ator/atriz #1', 'Ator/atriz #2',\n",
       "       'Ator/atriz #3', 'Ator/atriz #4', 'Número de votos', 'Faturamento_num'],\n",
       "      dtype='object')"
      ]
     },
     "execution_count": 292,
     "metadata": {},
     "output_type": "execute_result"
    }
   ],
   "source": [
    "df.columns"
   ]
  },
  {
   "cell_type": "code",
   "execution_count": null,
   "id": "a6f744cd",
   "metadata": {},
   "outputs": [],
   "source": []
  },
  {
   "cell_type": "code",
   "execution_count": null,
   "id": "f0be1fb9-d5b1-4301-874d-b6b6c3596414",
   "metadata": {},
   "outputs": [],
   "source": []
  },
  {
   "cell_type": "markdown",
   "id": "9f571f85-73f0-46e2-872f-8a9b79e784d3",
   "metadata": {},
   "source": [
    "### Respondendo a segunda pergunta letra b:\n",
    "- Quais são os principais fatores que estão relacionados com alta expectativa de faturamento de um filme? "
   ]
  },
  {
   "cell_type": "markdown",
   "id": "1c95d20f-fd07-4cbe-8a0d-0986b3f6591b",
   "metadata": {},
   "source": [
    "#### Preparar o alvo (log)"
   ]
  },
  {
   "cell_type": "code",
   "execution_count": 297,
   "id": "90a89eab-ba82-41ca-bb08-91a3f7ff9c6e",
   "metadata": {},
   "outputs": [],
   "source": [
    "# alvo em log (melhora correlação e modelos por causa da cauda longa)\n",
    "df[\"log_fat\"] = np.log1p(df[\"Faturamento_num\"])"
   ]
  },
  {
   "cell_type": "code",
   "execution_count": 301,
   "id": "36a49452-f2bc-4f60-a348-26402078d0a6",
   "metadata": {},
   "outputs": [],
   "source": [
    "# gênero primário (1ª palavra)\n",
    "df[\"genero_prim\"] = df[\"Gênero\"].astype(str).str.split(\",\").str[0].str.strip()"
   ]
  },
  {
   "cell_type": "markdown",
   "id": "8bd6425a-11d5-46be-85d1-e8fc86682a84",
   "metadata": {},
   "source": [
    "#### Correlações numéricas (Spearman)"
   ]
  },
  {
   "cell_type": "markdown",
   "id": "6c21b104-3bef-4b7c-9dc3-e99082175508",
   "metadata": {},
   "source": [
    "num_feats = [\"Duracao_min\", \"Ano_de_Lancamento\", \"Media_Ponderada_Criticas\"]\n",
    "corr = df[num_feats + [\"log_fat\"]].corr(method=\"spearman\")[\"log_fat\"].sort_values(ascending=False)\n",
    "corr"
   ]
  },
  {
   "cell_type": "markdown",
   "id": "86249ef8-4ad7-4325-9b3b-875456a59074",
   "metadata": {},
   "source": [
    "- <b>Duracao_min</b> ≈ 0.16 → relação fraca e positiva: filmes um pouco mais longos tendem a faturar um pouco mais, mas o efeito isolado é pequeno.\n",
    "\n",
    "- <b>Ano_de_Lancamento</b> ≈ 0.15 → fraca e positiva: lançamentos mais recentes tendem a faturar um pouco mais (provável efeito de mercado/inflação/escala).\n",
    "\n",
    "- <b>Media_Ponderada_Criticas</b> ≈ -0.09 → fraca e levemente negativa: notas de crítica, sozinhas, não “andam” com faturamento neste conjunto (muito possivelmente efeito de mistura: blockbusters vs. filmes de crítica). Não é causalidade.\n",
    "\n",
    "- <b>Conclusão</b>: pelas variáveis numéricas analisadas, nenhuma isoladamente explica bem o faturamento."
   ]
  },
  {
   "cell_type": "code",
   "execution_count": null,
   "id": "cab7fcbd-1052-4f76-abfe-fe2c5f0c5bee",
   "metadata": {},
   "outputs": [],
   "source": []
  },
  {
   "cell_type": "code",
   "execution_count": null,
   "id": "11466fdd-219a-41e5-8889-52e14ebcdfb8",
   "metadata": {},
   "outputs": [],
   "source": []
  },
  {
   "cell_type": "markdown",
   "id": "0a98b9ef-e7e8-4975-8c13-c5d6c040bfed",
   "metadata": {},
   "source": [
    "### Efeito das categóricas (grupos)"
   ]
  },
  {
   "cell_type": "code",
   "execution_count": 312,
   "id": "0fc4eff1-f718-478d-b92d-08420915d6f4",
   "metadata": {},
   "outputs": [
    {
     "data": {
      "text/plain": [
       "genero_prim\n",
       "Family       219555277.0\n",
       "Horror        47000000.0\n",
       "Action        44150000.0\n",
       "Biography     36800628.0\n",
       "Adventure     31696332.0\n",
       "Animation     23457439.5\n",
       "Fantasy       23457439.5\n",
       "Mystery       23457439.5\n",
       "Drama         22119735.0\n",
       "Comedy        20045115.0\n",
       "Name: Faturamento_num, dtype: float64"
      ]
     },
     "execution_count": 312,
     "metadata": {},
     "output_type": "execute_result"
    }
   ],
   "source": [
    "# Mediana de faturamento por gênero primário\n",
    "med_gen = (df.groupby(\"genero_prim\")[\"Faturamento_num\"].median()\n",
    "             .sort_values(ascending=False))\n",
    "med_gen.head(10)"
   ]
  },
  {
   "cell_type": "code",
   "execution_count": 314,
   "id": "94e22ec1-c25f-42ac-a1d2-2b01b0536671",
   "metadata": {},
   "outputs": [
    {
     "data": {
      "text/plain": [
       "Classificação etária\n",
       "UA          49100000.00\n",
       "A           42389449.00\n",
       "U/A         26020957.00\n",
       "G           25369473.25\n",
       "16          23457439.50\n",
       "U           23457439.50\n",
       "Approved    23457439.50\n",
       "NR          23457439.50\n",
       "PG          23457439.50\n",
       "TV-14       23457439.50\n",
       "TV-MA       23457439.50\n",
       "TV-PG       23457439.50\n",
       "PG-13       18254702.00\n",
       "Passed       8000000.00\n",
       "R            7488686.50\n",
       "GP            708958.00\n",
       "Unrated       300000.00\n",
       "Name: Faturamento_num, dtype: float64"
      ]
     },
     "execution_count": 314,
     "metadata": {},
     "output_type": "execute_result"
    }
   ],
   "source": [
    "# Mediana por classificação etária\n",
    "med_cert = (df.groupby(\"Classificação etária\")[\"Faturamento_num\"].median()\n",
    "              .sort_values(ascending=False))\n",
    "med_cert"
   ]
  },
  {
   "cell_type": "code",
   "execution_count": 316,
   "id": "13677b68-4f59-4f24-8418-286249b5dd8e",
   "metadata": {},
   "outputs": [
    {
     "data": {
      "image/png": "[encoded data removed]",
      "text/plain": [
       "<Figure size 800x400 with 1 Axes>"
      ]
     },
     "metadata": {},
     "output_type": "display_data"
    }
   ],
   "source": [
    "plt.figure(figsize=(8,4))\n",
    "sns.barplot(x=med_gen.head(10).values, y=med_gen.head(10).index)\n",
    "plt.xlabel(\"Mediana de faturamento\"); plt.ylabel(\"Gênero (primário)\")\n",
    "plt.title(\"Top-10 gêneros por mediana de faturamento\")\n",
    "plt.tight_layout(); plt.show()"
   ]
  },
  {
   "cell_type": "code",
   "execution_count": 318,
   "id": "a25e20dc-403a-4521-9cd3-9b47b7aab67b",
   "metadata": {},
   "outputs": [
    {
     "data": {
      "image/png": "[encoded data removed]",
      "text/plain": [
       "<Figure size 600x400 with 1 Axes>"
      ]
     },
     "metadata": {},
     "output_type": "display_data"
    }
   ],
   "source": [
    "plt.figure(figsize=(6,4))\n",
    "sns.barplot(x=med_cert.values, y=med_cert.index)\n",
    "plt.xlabel(\"Mediana de faturamento\"); plt.ylabel(\"Classificação etária\")\n",
    "plt.title(\"Faturamento mediano por classificação etária\")\n",
    "plt.tight_layout(); plt.show()"
   ]
  },
  {
   "cell_type": "code",
   "execution_count": 337,
   "id": "141bccec-6c92-463b-8755-5ff7ef6756f5",
   "metadata": {},
   "outputs": [
    {
     "data": {
      "text/html": [
       "<div>\n",
       "<style scoped>\n",
       "    .dataframe tbody tr th:only-of-type {\n",
       "        vertical-align: middle;\n",
       "    }\n",
       "\n",
       "    .dataframe tbody tr th {\n",
       "        vertical-align: top;\n",
       "    }\n",
       "\n",
       "    .dataframe thead th {\n",
       "        text-align: right;\n",
       "    }\n",
       "</style>\n",
       "<table border=\"1\" class=\"dataframe\">\n",
       "  <thead>\n",
       "    <tr style=\"text-align: right;\">\n",
       "      <th></th>\n",
       "      <th>mediana</th>\n",
       "      <th>n</th>\n",
       "    </tr>\n",
       "    <tr>\n",
       "      <th>genero_prim</th>\n",
       "      <th></th>\n",
       "      <th></th>\n",
       "    </tr>\n",
       "  </thead>\n",
       "  <tbody>\n",
       "    <tr>\n",
       "      <th>Horror</th>\n",
       "      <td>47000000.0</td>\n",
       "      <td>11</td>\n",
       "    </tr>\n",
       "    <tr>\n",
       "      <th>Action</th>\n",
       "      <td>44150000.0</td>\n",
       "      <td>172</td>\n",
       "    </tr>\n",
       "    <tr>\n",
       "      <th>Biography</th>\n",
       "      <td>36800628.0</td>\n",
       "      <td>88</td>\n",
       "    </tr>\n",
       "    <tr>\n",
       "      <th>Adventure</th>\n",
       "      <td>31696332.0</td>\n",
       "      <td>72</td>\n",
       "    </tr>\n",
       "    <tr>\n",
       "      <th>Animation</th>\n",
       "      <td>23457439.5</td>\n",
       "      <td>82</td>\n",
       "    </tr>\n",
       "    <tr>\n",
       "      <th>Mystery</th>\n",
       "      <td>23457439.5</td>\n",
       "      <td>12</td>\n",
       "    </tr>\n",
       "    <tr>\n",
       "      <th>Drama</th>\n",
       "      <td>22119735.0</td>\n",
       "      <td>288</td>\n",
       "    </tr>\n",
       "    <tr>\n",
       "      <th>Comedy</th>\n",
       "      <td>20045115.0</td>\n",
       "      <td>155</td>\n",
       "    </tr>\n",
       "    <tr>\n",
       "      <th>Crime</th>\n",
       "      <td>17266971.0</td>\n",
       "      <td>107</td>\n",
       "    </tr>\n",
       "  </tbody>\n",
       "</table>\n",
       "</div>"
      ],
      "text/plain": [
       "                mediana    n\n",
       "genero_prim                 \n",
       "Horror       47000000.0   11\n",
       "Action       44150000.0  172\n",
       "Biography    36800628.0   88\n",
       "Adventure    31696332.0   72\n",
       "Animation    23457439.5   82\n",
       "Mystery      23457439.5   12\n",
       "Drama        22119735.0  288\n",
       "Comedy       20045115.0  155\n",
       "Crime        17266971.0  107"
      ]
     },
     "execution_count": 337,
     "metadata": {},
     "output_type": "execute_result"
    }
   ],
   "source": [
    "# Gênero: mediana + n\n",
    "med_gen_n = (df.groupby(\"genero_prim\")[\"Faturamento_num\"]\n",
    "               .agg(mediana=\"median\", n=\"size\")\n",
    "               .sort_values(\"mediana\", ascending=False))\n",
    "med_gen_n.head(15)\n",
    "\n",
    "# Filtrar conclusões só para gêneros com amostra razoável (ex.: n >= 10)\n",
    "med_gen_robusto = med_gen_n.query(\"n >= 10\")\n",
    "med_gen_robusto.head(15)"
   ]
  },
  {
   "cell_type": "code",
   "execution_count": 339,
   "id": "88e370f5-2487-4dbc-bb61-5d3b8758b534",
   "metadata": {},
   "outputs": [
    {
     "data": {
      "text/html": [
       "<div>\n",
       "<style scoped>\n",
       "    .dataframe tbody tr th:only-of-type {\n",
       "        vertical-align: middle;\n",
       "    }\n",
       "\n",
       "    .dataframe tbody tr th {\n",
       "        vertical-align: top;\n",
       "    }\n",
       "\n",
       "    .dataframe thead th {\n",
       "        text-align: right;\n",
       "    }\n",
       "</style>\n",
       "<table border=\"1\" class=\"dataframe\">\n",
       "  <thead>\n",
       "    <tr style=\"text-align: right;\">\n",
       "      <th></th>\n",
       "      <th>mediana</th>\n",
       "      <th>n</th>\n",
       "    </tr>\n",
       "    <tr>\n",
       "      <th>class_std</th>\n",
       "      <th></th>\n",
       "      <th></th>\n",
       "    </tr>\n",
       "  </thead>\n",
       "  <tbody>\n",
       "    <tr>\n",
       "      <th>G</th>\n",
       "      <td>23457439.5</td>\n",
       "      <td>246</td>\n",
       "    </tr>\n",
       "    <tr>\n",
       "      <th>NR</th>\n",
       "      <td>23457439.5</td>\n",
       "      <td>102</td>\n",
       "    </tr>\n",
       "    <tr>\n",
       "      <th>PG</th>\n",
       "      <td>23457439.5</td>\n",
       "      <td>263</td>\n",
       "    </tr>\n",
       "    <tr>\n",
       "      <th>PG-13</th>\n",
       "      <td>23457439.5</td>\n",
       "      <td>45</td>\n",
       "    </tr>\n",
       "    <tr>\n",
       "      <th>R</th>\n",
       "      <td>23457439.5</td>\n",
       "      <td>343</td>\n",
       "    </tr>\n",
       "  </tbody>\n",
       "</table>\n",
       "</div>"
      ],
      "text/plain": [
       "              mediana    n\n",
       "class_std                 \n",
       "G          23457439.5  246\n",
       "NR         23457439.5  102\n",
       "PG         23457439.5  263\n",
       "PG-13      23457439.5   45\n",
       "R          23457439.5  343"
      ]
     },
     "execution_count": 339,
     "metadata": {},
     "output_type": "execute_result"
    }
   ],
   "source": [
    "# Padronizar as classificações etárias\n",
    "# Há rótulos diferentes para coisas parecidas (ex.: U, UA, U/A, Approved, etc.). Padronize para um conjunto curto (G/PG/PG-13/R/NR)\n",
    "mapa = {\n",
    "    \"U\":\"G\",\"G\":\"G\",\n",
    "    \"UA\":\"PG\",\"U/A\":\"PG\",\"PG\":\"PG\",\"TV-PG\":\"PG\",\"Passed\":\"PG\",\n",
    "    \"PG-13\":\"PG-13\",\"TV-14\":\"PG-13\",\"16\":\"PG-13\",\n",
    "    \"R\":\"R\",\"TV-MA\":\"R\",\"A\":\"R\",\n",
    "    \"Approved\":\"PG\",\"NR\":\"NR\",\"Unrated\":\"NR\",\"GP\":\"PG\"\n",
    "}\n",
    "df[\"class_std\"] = df[\"Classificação etária\"].astype(str).map(mapa).fillna(\"NR\")\n",
    "\n",
    "med_cert_std = (df.groupby(\"class_std\")[\"Faturamento_num\"]\n",
    "                  .agg(mediana=\"median\", n=\"size\")\n",
    "                  .sort_values(\"mediana\", ascending=False))\n",
    "med_cert_std"
   ]
  },
  {
   "cell_type": "code",
   "execution_count": 343,
   "id": "6e57b7d7-885f-43b5-9825-31a0b5293a00",
   "metadata": {},
   "outputs": [
    {
     "data": {
      "image/png": "[encoded data removed]",
      "text/plain": [
       "<Figure size 800x450 with 1 Axes>"
      ]
     },
     "metadata": {},
     "output_type": "display_data"
    }
   ],
   "source": [
    "top10 = med_gen_n.sort_values(\"mediana\", ascending=False).query(\"n>=10\").head(10).reset_index()\n",
    "plt.figure(figsize=(8,4.5))\n",
    "sns.barplot(data=top10, x=\"mediana\", y=\"genero_prim\")\n",
    "plt.xlabel(\"Mediana de faturamento (observado)\")\n",
    "plt.ylabel(\"Gênero (primário)\")\n",
    "plt.title(\"Top-10 gêneros por mediana de faturamento (n ≥ 10)\")\n",
    "plt.tight_layout(); plt.show()"
   ]
  },
  {
   "cell_type": "code",
   "execution_count": null,
   "id": "4d6b42ac-9476-4ec8-8d4f-10b60a807f3f",
   "metadata": {},
   "outputs": [],
   "source": []
  },
  {
   "cell_type": "code",
   "execution_count": null,
   "id": "7cde4022-74d6-49fa-b953-18cd25ce456d",
   "metadata": {},
   "outputs": [],
   "source": []
  },
  {
   "cell_type": "markdown",
   "id": "abbbc8fd-7f4e-4eaa-a02d-cc98cda607d6",
   "metadata": {},
   "source": [
    "### b.\tQuais são os principais fatores que estão relacionados com alta expectativa de faturamento de um filme? \n",
    "##### Gênero (primário): \n",
    "- Pela mediana de faturamento por gênero (boa métrica para cauda longa), os gêneros com melhor desempenho típico — considerando apenas amostras razoáveis (n ≥ 10) — foram:\n",
    "Horror (47M, n=11), Action (44M, n=172), Biography (36.8M, n=88), Adventure (31.7M, n=72), Animation (23.5M, n=82), seguidos de Mystery, Drama, Comedy, Crime.\n",
    "- Observação: “Family” apareceu altíssimo na primeira tabela (219M) mas com n baixo; foi então tratado como outlier da amostra (não usarei para generalizar).\n",
    "##### Classificação etária:\n",
    "- O gráfico de medianas por classificação mostra UA/A no topo (49M e 42M), seguidos por U/A, G, 16, U; categorias mais restritivas (PG-13, R) ficam abaixo (ex.: PG-13 18M; R 7.5M).\n",
    "##### Variáveis numéricas isoladas:\n",
    "- Duração (ρ≈0.16) e Ano de lançamento (ρ≈0.15): efeitos fracos e positivos — filmes um pouco mais longos/mais recentes tendem a faturar um pouco mais, mas não são drivers fortes.\n",
    "- Meta de críticas (ρ≈-0.09): associação nula/levemente negativa no seu conjunto; não use como sinal principal de expectativa de bilheteria.\n",
    "\n",
    "#### Conclusão:\n",
    "- Os principais fatores relacionados à alta expectativa de faturamento são “o que o filme é” e “para quem ele é”:\n",
    "(a) o Gênero (especialmente Action, Adventure, Animation, Biography; Horror também aparece alto, mas com amostra menor), e (b) a Classificação etária, onde público amplo (G/PG/UA) supera PG-13/R de forma estatisticamente significativa.\n",
    "Duração e Ano ajudam um pouco, mas são secundários; nota de críticas não se mostra um bom preditor ex-ante neste dataset.\n",
    "\n",
    "#### Como transformar isso em recomendações de negócio\n",
    "\n",
    "- Se o objetivo é maximizar receita esperada, temos que priorizar projetos em gêneros de grande demanda (Action/Adventure/Animation/Biography) e planejados para classificação ampla (G/PG/UA).\n",
    "\n",
    "- Vamos evitar conclusões em gêneros com amostra muito pequena."
   ]
  },
  {
   "cell_type": "code",
   "execution_count": null,
   "id": "380c8895-8a5d-447a-a967-54a57be3ec5e",
   "metadata": {},
   "outputs": [],
   "source": []
  },
  {
   "cell_type": "code",
   "execution_count": null,
   "id": "913601a4-e329-4036-8989-e896250749ae",
   "metadata": {},
   "outputs": [],
   "source": []
  },
  {
   "cell_type": "markdown",
   "id": "a639d18a-8e3a-448e-a2ce-55a8313e04ac",
   "metadata": {},
   "source": [
    "### Respondendo a segunda pergunta letra c:\n",
    "- O que dá para aprender com a coluna “Overview do filme” (a sinopse).\n",
    "- Se é possível inferir o gênero do filme só a partir dessa sinopse.\n",
    "\n",
    "A ideia é olhar a sinopse como texto. Primeiro vou fazer uma EDA simples (tamanho, termos característicos). Depois vou tentar um classificador de texto bem direto."
   ]
  },
  {
   "cell_type": "code",
   "execution_count": 371,
   "id": "732db3ce-d325-42da-8570-f2b2c57c9757",
   "metadata": {},
   "outputs": [
    {
     "data": {
      "text/html": [
       "<div>\n",
       "<style scoped>\n",
       "    .dataframe tbody tr th:only-of-type {\n",
       "        vertical-align: middle;\n",
       "    }\n",
       "\n",
       "    .dataframe tbody tr th {\n",
       "        vertical-align: top;\n",
       "    }\n",
       "\n",
       "    .dataframe thead th {\n",
       "        text-align: right;\n",
       "    }\n",
       "</style>\n",
       "<table border=\"1\" class=\"dataframe\">\n",
       "  <thead>\n",
       "    <tr style=\"text-align: right;\">\n",
       "      <th></th>\n",
       "      <th>Nome do filme</th>\n",
       "      <th>Ano_de_Lancamento</th>\n",
       "      <th>Duracao_min</th>\n",
       "      <th>Classificação etária</th>\n",
       "      <th>Gênero</th>\n",
       "      <th>Nota do IMDB</th>\n",
       "      <th>Overview do filme</th>\n",
       "      <th>Media_Ponderada_Criticas</th>\n",
       "      <th>Diretor</th>\n",
       "      <th>Ator/atriz #1</th>\n",
       "      <th>Ator/atriz #2</th>\n",
       "      <th>Ator/atriz #3</th>\n",
       "      <th>Ator/atriz #4</th>\n",
       "      <th>Número de votos</th>\n",
       "      <th>Faturamento_num</th>\n",
       "      <th>log_fat</th>\n",
       "      <th>genero_prim</th>\n",
       "      <th>class_std</th>\n",
       "    </tr>\n",
       "  </thead>\n",
       "  <tbody>\n",
       "    <tr>\n",
       "      <th>0</th>\n",
       "      <td>The Godfather</td>\n",
       "      <td>1972</td>\n",
       "      <td>175</td>\n",
       "      <td>A</td>\n",
       "      <td>Crime, Drama</td>\n",
       "      <td>9.2</td>\n",
       "      <td>An organized crime dynasty's aging patriarch t...</td>\n",
       "      <td>100.0</td>\n",
       "      <td>Francis Ford Coppola</td>\n",
       "      <td>Marlon Brando</td>\n",
       "      <td>Al Pacino</td>\n",
       "      <td>James Caan</td>\n",
       "      <td>Diane Keaton</td>\n",
       "      <td>1620367</td>\n",
       "      <td>134966411.0</td>\n",
       "      <td>18.720537</td>\n",
       "      <td>Crime</td>\n",
       "      <td>R</td>\n",
       "    </tr>\n",
       "    <tr>\n",
       "      <th>1</th>\n",
       "      <td>The Dark Knight</td>\n",
       "      <td>2008</td>\n",
       "      <td>152</td>\n",
       "      <td>UA</td>\n",
       "      <td>Action, Crime, Drama</td>\n",
       "      <td>9.0</td>\n",
       "      <td>When the menace known as the Joker wreaks havo...</td>\n",
       "      <td>84.0</td>\n",
       "      <td>Christopher Nolan</td>\n",
       "      <td>Christian Bale</td>\n",
       "      <td>Heath Ledger</td>\n",
       "      <td>Aaron Eckhart</td>\n",
       "      <td>Michael Caine</td>\n",
       "      <td>2303232</td>\n",
       "      <td>534858444.0</td>\n",
       "      <td>20.097513</td>\n",
       "      <td>Action</td>\n",
       "      <td>PG</td>\n",
       "    </tr>\n",
       "  </tbody>\n",
       "</table>\n",
       "</div>"
      ],
      "text/plain": [
       "     Nome do filme  Ano_de_Lancamento  Duracao_min Classificação etária  \\\n",
       "0    The Godfather               1972          175                    A   \n",
       "1  The Dark Knight               2008          152                   UA   \n",
       "\n",
       "                 Gênero  Nota do IMDB  \\\n",
       "0          Crime, Drama           9.2   \n",
       "1  Action, Crime, Drama           9.0   \n",
       "\n",
       "                                   Overview do filme  \\\n",
       "0  An organized crime dynasty's aging patriarch t...   \n",
       "1  When the menace known as the Joker wreaks havo...   \n",
       "\n",
       "   Media_Ponderada_Criticas               Diretor   Ator/atriz #1  \\\n",
       "0                     100.0  Francis Ford Coppola   Marlon Brando   \n",
       "1                      84.0     Christopher Nolan  Christian Bale   \n",
       "\n",
       "  Ator/atriz #2  Ator/atriz #3  Ator/atriz #4  Número de votos  \\\n",
       "0     Al Pacino     James Caan   Diane Keaton          1620367   \n",
       "1  Heath Ledger  Aaron Eckhart  Michael Caine          2303232   \n",
       "\n",
       "   Faturamento_num    log_fat genero_prim class_std  \n",
       "0      134966411.0  18.720537       Crime         R  \n",
       "1      534858444.0  20.097513      Action        PG  "
      ]
     },
     "execution_count": 371,
     "metadata": {},
     "output_type": "execute_result"
    }
   ],
   "source": [
    "df.head(2)"
   ]
  },
  {
   "cell_type": "code",
   "execution_count": null,
   "id": "c46ac47e-0f43-4aa5-83ef-eaaff057ddfa",
   "metadata": {},
   "outputs": [],
   "source": []
  },
  {
   "cell_type": "code",
   "execution_count": null,
   "id": "1e0a0969-bee1-452b-8502-0505a440c52b",
   "metadata": {},
   "outputs": [],
   "source": []
  },
  {
   "cell_type": "markdown",
   "id": "039a029e-2818-4f66-8ed1-0ffa7ed191bd",
   "metadata": {},
   "source": [
    "#### Preparar os dados (uma coluna de gênero “alvo” e o texto)"
   ]
  },
  {
   "cell_type": "code",
   "execution_count": 375,
   "id": "803867b7-182f-4a9c-aed3-a9bf4d8b7d57",
   "metadata": {},
   "outputs": [],
   "source": [
    "#Gênero primário (primeira palavra antes da vírgula)\n",
    "df[\"genero_prim\"] = (\n",
    "    df[\"Gênero\"].astype(str)\n",
    "      .str.split(\",\")\n",
    "      .str[0]\n",
    "      .str.strip()\n",
    ")"
   ]
  },
  {
   "cell_type": "code",
   "execution_count": 377,
   "id": "58096650-a3ca-4830-91e7-5946ebca631d",
   "metadata": {},
   "outputs": [],
   "source": [
    "#Texto da sinopse (preencher vazios com string vazia)\n",
    "df[\"overview_txt\"] = df[\"Overview do filme\"].fillna(\"\").astype(str)"
   ]
  },
  {
   "cell_type": "code",
   "execution_count": 379,
   "id": "7998ab01-1bda-4e0e-a5f4-814829827571",
   "metadata": {},
   "outputs": [
    {
     "data": {
      "text/html": [
       "<div>\n",
       "<style scoped>\n",
       "    .dataframe tbody tr th:only-of-type {\n",
       "        vertical-align: middle;\n",
       "    }\n",
       "\n",
       "    .dataframe tbody tr th {\n",
       "        vertical-align: top;\n",
       "    }\n",
       "\n",
       "    .dataframe thead th {\n",
       "        text-align: right;\n",
       "    }\n",
       "</style>\n",
       "<table border=\"1\" class=\"dataframe\">\n",
       "  <thead>\n",
       "    <tr style=\"text-align: right;\">\n",
       "      <th></th>\n",
       "      <th>Nome do filme</th>\n",
       "      <th>genero_prim</th>\n",
       "      <th>overview_txt</th>\n",
       "    </tr>\n",
       "  </thead>\n",
       "  <tbody>\n",
       "    <tr>\n",
       "      <th>0</th>\n",
       "      <td>The Godfather</td>\n",
       "      <td>Crime</td>\n",
       "      <td>An organized crime dynasty's aging patriarch t...</td>\n",
       "    </tr>\n",
       "    <tr>\n",
       "      <th>1</th>\n",
       "      <td>The Dark Knight</td>\n",
       "      <td>Action</td>\n",
       "      <td>When the menace known as the Joker wreaks havo...</td>\n",
       "    </tr>\n",
       "    <tr>\n",
       "      <th>2</th>\n",
       "      <td>The Godfather: Part II</td>\n",
       "      <td>Crime</td>\n",
       "      <td>The early life and career of Vito Corleone in ...</td>\n",
       "    </tr>\n",
       "  </tbody>\n",
       "</table>\n",
       "</div>"
      ],
      "text/plain": [
       "            Nome do filme genero_prim  \\\n",
       "0           The Godfather       Crime   \n",
       "1         The Dark Knight      Action   \n",
       "2  The Godfather: Part II       Crime   \n",
       "\n",
       "                                        overview_txt  \n",
       "0  An organized crime dynasty's aging patriarch t...  \n",
       "1  When the menace known as the Joker wreaks havo...  \n",
       "2  The early life and career of Vito Corleone in ...  "
      ]
     },
     "execution_count": 379,
     "metadata": {},
     "output_type": "execute_result"
    }
   ],
   "source": [
    "#(verificação rápida)\n",
    "df[[\"Nome do filme\",\"genero_prim\",\"overview_txt\"]].head(3)"
   ]
  },
  {
   "cell_type": "markdown",
   "id": "96203b41-a332-4e6c-a862-c8223987821b",
   "metadata": {},
   "source": [
    "- O que fiz foi criar genero_prim (alvo) e overview_txt (texto limpo)."
   ]
  },
  {
   "cell_type": "code",
   "execution_count": 383,
   "id": "8250b6ca-0ca0-4418-bd91-6aa27a8f0686",
   "metadata": {},
   "outputs": [],
   "source": [
    "# Tamanho da sinopse\n",
    "df[\"ovw_len_palavras\"] = df[\"overview_txt\"].str.split().str.len()\n",
    "df[\"ovw_len_chars\"]    = df[\"overview_txt\"].str.len()"
   ]
  },
  {
   "cell_type": "code",
   "execution_count": 385,
   "id": "8788e5bb-2de5-496a-a468-83d2b55f30bf",
   "metadata": {},
   "outputs": [
    {
     "name": "stdout",
     "output_type": "stream",
     "text": [
      "                  count        mean        std   min    25%    50%    75%  \\\n",
      "ovw_len_palavras  999.0   25.009009   7.751716   8.0   19.0   24.0   30.0   \n",
      "ovw_len_chars     999.0  146.304304  43.693727  40.0  114.0  142.0  172.0   \n",
      "\n",
      "                    max  \n",
      "ovw_len_palavras   56.0  \n",
      "ovw_len_chars     313.0  \n"
     ]
    }
   ],
   "source": [
    "# Estatísticas gerais\n",
    "print(df[[\"ovw_len_palavras\",\"ovw_len_chars\"]].describe().T)"
   ]
  },
  {
   "cell_type": "code",
   "execution_count": 387,
   "id": "3f6209e3-c8ed-44d7-a0b1-0c45bc1f4f84",
   "metadata": {},
   "outputs": [
    {
     "data": {
      "text/plain": [
       "genero_prim\n",
       "Action       27.0\n",
       "Animation    26.0\n",
       "Adventure    25.0\n",
       "Horror       25.0\n",
       "Biography    24.0\n",
       "Film-Noir    24.0\n",
       "Thriller     24.0\n",
       "Western      24.0\n",
       "Comedy       23.0\n",
       "Drama        23.0\n",
       "Name: ovw_len_palavras, dtype: float64"
      ]
     },
     "execution_count": 387,
     "metadata": {},
     "output_type": "execute_result"
    }
   ],
   "source": [
    "# Mediana de tamanho por gênero\n",
    "tam_mediano = (\n",
    "    df.groupby(\"genero_prim\")[\"ovw_len_palavras\"]\n",
    "      .median()\n",
    "      .sort_values(ascending=False)\n",
    ")\n",
    "tam_mediano.head(10)"
   ]
  },
  {
   "cell_type": "code",
   "execution_count": 389,
   "id": "2f4cb224-1b2b-4684-bfda-75135ad723f6",
   "metadata": {},
   "outputs": [],
   "source": [
    "# Termos característicos por gênero (TF-IDF + qui-quadrado)\n",
    "from sklearn.feature_extraction.text import TfidfVectorizer\n",
    "from sklearn.feature_selection import chi2"
   ]
  },
  {
   "cell_type": "code",
   "execution_count": 391,
   "id": "5ae360b1-9068-44fc-b9c8-12890d4ad5e9",
   "metadata": {},
   "outputs": [],
   "source": [
    "# Vetorizar sinopses: 1-gram e 2-grams; remove stopwords inglesas\n",
    "# (se muitas sinopses estiverem em PT, troque stop_words=None)\n",
    "vec = TfidfVectorizer(lowercase=True,\n",
    "                      stop_words=\"english\",\n",
    "                      ngram_range=(1,2),\n",
    "                      min_df=3, max_features=40000)\n",
    "\n",
    "X = vec.fit_transform(df[\"overview_txt\"])\n",
    "y = df[\"genero_prim\"]\n",
    "feat = np.array(vec.get_feature_names_out())"
   ]
  },
  {
   "cell_type": "code",
   "execution_count": 393,
   "id": "4fa5aa66-797d-4dcb-8efe-92e5bde257f6",
   "metadata": {},
   "outputs": [
    {
     "name": "stdout",
     "output_type": "stream",
     "text": [
      "\n",
      "Drama  (n=288) → termos característicos:\n",
      "decades, sex, accident, strict, mumbai, bureaucrat, meaning, psychologist, love, soviet, maintain, teacher, vietnam, couple, woman\n",
      "\n",
      "Action  (n=172) → termos característicos:\n",
      "weapon, arts, martial arts, task, officer, plans, oppression, sauron, mutant, puts, vengeance, assassin, martial, police officer, avengers\n",
      "\n",
      "Comedy  (n=155) → termos característicos:\n",
      "meets, spends, documentary, shop, wealthy, reporter, unlikely, night, comedy, reconcile, day, achieve, movies, hate, tramp\n",
      "\n",
      "Crime  (n=107) → termos característicos:\n",
      "southern, reluctant, tennis, perfect, rob, justice, era, investigator, plan, prohibition, police, detectives, investigate, crime, murder\n",
      "\n",
      "Biography  (n=88) → termos característicos:\n",
      "watergate, jimmy, sir, times, famous, boxer, old man, campaign, carl, inspired, true story, real life, george, story, claimed\n",
      "\n",
      "Animation  (n=82) → termos característicos:\n",
      "great, prince, place, old girl, dragon, wants, machine, girl, tokyo, bring, robot, woody, cursed, princess, toy\n",
      "\n",
      "Adventure  (n=72) → termos característicos:\n",
      "roman, ron, treasure, river, possession, astronaut, mountain, astronauts, harry, gold, ron hermione, hermione, magical, transport, encounters\n"
     ]
    }
   ],
   "source": [
    "# Para cada gênero com amostra razoável, pegar os Top-K termos mais discriminativos\n",
    "top_k = 15\n",
    "for g, n in y.value_counts().items():\n",
    "    if n < 15:   # pula classes muito pequenas (evita “ruído”)\n",
    "        continue\n",
    "    scores, _ = chi2(X, (y==g).values)           # g vs resto\n",
    "    termos = feat[np.argsort(scores)[-top_k:]]   # Top-K\n",
    "    print(f\"\\n{g}  (n={n}) → termos característicos:\")\n",
    "    print(\", \".join(termos))"
   ]
  },
  {
   "cell_type": "code",
   "execution_count": null,
   "id": "542e4a30-2375-4d4c-9187-6413b6404aae",
   "metadata": {},
   "outputs": [],
   "source": []
  },
  {
   "cell_type": "code",
   "execution_count": null,
   "id": "896bb76a-d718-482f-8dcd-ccad6dd9c71a",
   "metadata": {},
   "outputs": [],
   "source": []
  },
  {
   "cell_type": "markdown",
   "id": "e3f55fe7-396a-4d08-a61c-8f1ff2a794cd",
   "metadata": {},
   "source": [
    "#### Tamanho das sinopses (palavras e caracteres):\n",
    "- ovw_len_palavras: quantas palavras a sinopse tem.\n",
    "- ovw_len_chars: quantos caracteres a sinopse tem.\n",
    "- O describe() mostra estatísticas: média, desvio-padrão, min, quartis e mediana (50%).\n",
    "- Mesmo curtas, essas loglines carregam palavras-chave (herói, assassinato, princesa, guerra, etc.) que diferenciam gêneros.\n",
    "#### Mediana de tamanho por gênero:\n",
    "- Calculei a mediana de palavras por sinopse em cada genero_prim e ordenei do maior para o menor.\n",
    "- O que saiu nos meus prints (top 10): Action (27), Animation (26), Adventure (25), Horror (25), Biography (24), Film-Noir (24), Thriller (24), Western (24), Comedy (23), Drama (23).\n",
    "- Diferenças são pequenas, mas consistentes: Action/Animation/Adventure tendem a loglines um pouco mais longas; Drama/Comedy um pouco mais curtas.\n",
    "Isso reforça que há padrões de redação por gênero — já é um sinal de que a coluna Overview contém informação estruturada (não é um texto aleatório).\n",
    "#### Termos característicos por gênero:\n",
    "- Drama (n=288): termos como accident, bureaucrat, meaning, psychologist, love, couple, woman, vietnam, decades.\n",
    "\n",
    "Leitura: drama humano, relações, conflitos sociais/históricos, temas psicológicos.\n",
    "\n",
    "- Action (n=172): weapon, martial arts, officer, plans, assassination/assassin, police officer, avengers.\n",
    "\n",
    "Leitura: combate, forças de segurança, plano/missão, super-heróis.\n",
    "\n",
    "- Comedy (n=155): unlikely, night, reconcile, day, movies, hate, tramp, wealthy, shop.\n",
    "\n",
    "Leitura: situações improváveis, personagens caricatos, cotidiano humorístico.\n",
    "\n",
    "- Crime (n=107): police, detectives, investigate, crime, murder (e alguns termos de ruído).\n",
    "\n",
    "Leitura: investigação policial, assassinato, detetives — o núcleo do gênero aparece claro.\n",
    "\n",
    "- Biography (n=88): watergate, jimmy, sir, boxer, inspired, true story, real life.\n",
    "\n",
    "Leitura: pessoas reais, fatos históricos, “história verídica”.\n",
    "\n",
    "- Animation (n=82): dragon, princess, robot, toy, cursed, magical.\n",
    "\n",
    "Leitura: fantasia/infantil, criaturas, reinos, brinquedos — altíssimo sinal de gênero.\n",
    "\n",
    "- Adventure (n=72): treasure, river, mountain, astronauts, magical, encounters.\n",
    "\n",
    "Leitura: exploração, viagem, descobertas, elementos fantásticos ou de ficção científica.\n",
    "\n",
    "- Mesmo com sinopses curtas, cada gênero apresenta um “vocabulário” próprio. Os termos listados batem com a intuição do gênero.\n",
    "\n",
    "- Isso comprova que a coluna Overview é útil para inferir o gênero (textualmente há separação), ainda antes de treinar um classificador."
   ]
  },
  {
   "cell_type": "markdown",
   "id": "f53d08b1-e27d-4bcd-bd25-d926aa8343af",
   "metadata": {},
   "source": [
    "### Respondendo a segunda pergunta letra c:Quais insights podem ser tirados com a coluna Overview? É possível inferir o gênero do filme a partir dessa coluna?\n",
    "- a coluna Overview carrega informação estruturada sobre o filme (ela não é “texto aleatório”);\n",
    "- É possível inferir o gênero a partir dessa coluna, porque o vocabulário da sinopse varia de modo característico entre os gêneros.\n",
    "\n",
    "### Conclusão. \n",
    "- A coluna Overview contém informações suficientes para inferir o gênero de um filme. As sinopses apresentam padrões de tamanho por gênero e, principalmente, conjuntos de termos característicos (ex.: assassin/mission para Action; police/detective/murder para Crime; princess/dragon/robot para Animation). Esses padrões foram evidenciados com TF-IDF + teste qui-quadrado (χ²) e são consistentes com o senso comum. Logo, mesmo sem outros campos, é viável classificar o gênero a partir do texto da sinopse."
   ]
  },
  {
   "cell_type": "code",
   "execution_count": null,
   "id": "f775dc04-8ae3-47be-9fc6-300f7003b81d",
   "metadata": {},
   "outputs": [],
   "source": []
  },
  {
   "cell_type": "code",
   "execution_count": null,
   "id": "f2a9c340-a97c-4629-b44d-0a2f831bc2dc",
   "metadata": {},
   "outputs": [],
   "source": []
  },
  {
   "cell_type": "code",
   "execution_count": 410,
   "id": "6f0fcaeb-08f5-4f6f-9c56-cc0b92703153",
   "metadata": {},
   "outputs": [
    {
     "data": {
      "text/html": [
       "<div>\n",
       "<style scoped>\n",
       "    .dataframe tbody tr th:only-of-type {\n",
       "        vertical-align: middle;\n",
       "    }\n",
       "\n",
       "    .dataframe tbody tr th {\n",
       "        vertical-align: top;\n",
       "    }\n",
       "\n",
       "    .dataframe thead th {\n",
       "        text-align: right;\n",
       "    }\n",
       "</style>\n",
       "<table border=\"1\" class=\"dataframe\">\n",
       "  <thead>\n",
       "    <tr style=\"text-align: right;\">\n",
       "      <th></th>\n",
       "      <th>Nome do filme</th>\n",
       "      <th>Ano_de_Lancamento</th>\n",
       "      <th>Duracao_min</th>\n",
       "      <th>Classificação etária</th>\n",
       "      <th>Gênero</th>\n",
       "      <th>Nota do IMDB</th>\n",
       "      <th>Overview do filme</th>\n",
       "      <th>Media_Ponderada_Criticas</th>\n",
       "      <th>Diretor</th>\n",
       "      <th>Ator/atriz #1</th>\n",
       "      <th>Ator/atriz #2</th>\n",
       "      <th>Ator/atriz #3</th>\n",
       "      <th>Ator/atriz #4</th>\n",
       "      <th>Número de votos</th>\n",
       "      <th>Faturamento_num</th>\n",
       "      <th>log_fat</th>\n",
       "      <th>genero_prim</th>\n",
       "      <th>class_std</th>\n",
       "      <th>overview_txt</th>\n",
       "      <th>ovw_len_palavras</th>\n",
       "      <th>ovw_len_chars</th>\n",
       "    </tr>\n",
       "  </thead>\n",
       "  <tbody>\n",
       "    <tr>\n",
       "      <th>0</th>\n",
       "      <td>The Godfather</td>\n",
       "      <td>1972</td>\n",
       "      <td>175</td>\n",
       "      <td>A</td>\n",
       "      <td>Crime, Drama</td>\n",
       "      <td>9.2</td>\n",
       "      <td>An organized crime dynasty's aging patriarch t...</td>\n",
       "      <td>100.0</td>\n",
       "      <td>Francis Ford Coppola</td>\n",
       "      <td>Marlon Brando</td>\n",
       "      <td>Al Pacino</td>\n",
       "      <td>James Caan</td>\n",
       "      <td>Diane Keaton</td>\n",
       "      <td>1620367</td>\n",
       "      <td>134966411.0</td>\n",
       "      <td>18.720537</td>\n",
       "      <td>Crime</td>\n",
       "      <td>R</td>\n",
       "      <td>An organized crime dynasty's aging patriarch t...</td>\n",
       "      <td>16</td>\n",
       "      <td>110</td>\n",
       "    </tr>\n",
       "    <tr>\n",
       "      <th>1</th>\n",
       "      <td>The Dark Knight</td>\n",
       "      <td>2008</td>\n",
       "      <td>152</td>\n",
       "      <td>UA</td>\n",
       "      <td>Action, Crime, Drama</td>\n",
       "      <td>9.0</td>\n",
       "      <td>When the menace known as the Joker wreaks havo...</td>\n",
       "      <td>84.0</td>\n",
       "      <td>Christopher Nolan</td>\n",
       "      <td>Christian Bale</td>\n",
       "      <td>Heath Ledger</td>\n",
       "      <td>Aaron Eckhart</td>\n",
       "      <td>Michael Caine</td>\n",
       "      <td>2303232</td>\n",
       "      <td>534858444.0</td>\n",
       "      <td>20.097513</td>\n",
       "      <td>Action</td>\n",
       "      <td>PG</td>\n",
       "      <td>When the menace known as the Joker wreaks havo...</td>\n",
       "      <td>33</td>\n",
       "      <td>189</td>\n",
       "    </tr>\n",
       "  </tbody>\n",
       "</table>\n",
       "</div>"
      ],
      "text/plain": [
       "     Nome do filme  Ano_de_Lancamento  Duracao_min Classificação etária  \\\n",
       "0    The Godfather               1972          175                    A   \n",
       "1  The Dark Knight               2008          152                   UA   \n",
       "\n",
       "                 Gênero  Nota do IMDB  \\\n",
       "0          Crime, Drama           9.2   \n",
       "1  Action, Crime, Drama           9.0   \n",
       "\n",
       "                                   Overview do filme  \\\n",
       "0  An organized crime dynasty's aging patriarch t...   \n",
       "1  When the menace known as the Joker wreaks havo...   \n",
       "\n",
       "   Media_Ponderada_Criticas               Diretor   Ator/atriz #1  \\\n",
       "0                     100.0  Francis Ford Coppola   Marlon Brando   \n",
       "1                      84.0     Christopher Nolan  Christian Bale   \n",
       "\n",
       "  Ator/atriz #2  Ator/atriz #3  Ator/atriz #4  Número de votos  \\\n",
       "0     Al Pacino     James Caan   Diane Keaton          1620367   \n",
       "1  Heath Ledger  Aaron Eckhart  Michael Caine          2303232   \n",
       "\n",
       "   Faturamento_num    log_fat genero_prim class_std  \\\n",
       "0      134966411.0  18.720537       Crime         R   \n",
       "1      534858444.0  20.097513      Action        PG   \n",
       "\n",
       "                                        overview_txt  ovw_len_palavras  \\\n",
       "0  An organized crime dynasty's aging patriarch t...                16   \n",
       "1  When the menace known as the Joker wreaks havo...                33   \n",
       "\n",
       "   ovw_len_chars  \n",
       "0            110  \n",
       "1            189  "
      ]
     },
     "execution_count": 410,
     "metadata": {},
     "output_type": "execute_result"
    }
   ],
   "source": [
    "df.head(2)"
   ]
  },
  {
   "cell_type": "code",
   "execution_count": 412,
   "id": "952f9ddb-5be9-44dd-b1ed-998d401e8ccf",
   "metadata": {},
   "outputs": [
    {
     "name": "stdout",
     "output_type": "stream",
     "text": [
      "<class 'pandas.core.frame.DataFrame'>\n",
      "RangeIndex: 999 entries, 0 to 998\n",
      "Data columns (total 21 columns):\n",
      " #   Column                    Non-Null Count  Dtype  \n",
      "---  ------                    --------------  -----  \n",
      " 0   Nome do filme             999 non-null    object \n",
      " 1   Ano_de_Lancamento         998 non-null    Int64  \n",
      " 2   Duracao_min               999 non-null    Int64  \n",
      " 3   Classificação etária      999 non-null    object \n",
      " 4   Gênero                    999 non-null    object \n",
      " 5   Nota do IMDB              999 non-null    float64\n",
      " 6   Overview do filme         999 non-null    object \n",
      " 7   Media_Ponderada_Criticas  999 non-null    float64\n",
      " 8   Diretor                   999 non-null    object \n",
      " 9   Ator/atriz #1             999 non-null    object \n",
      " 10  Ator/atriz #2             999 non-null    object \n",
      " 11  Ator/atriz #3             999 non-null    object \n",
      " 12  Ator/atriz #4             999 non-null    object \n",
      " 13  Número de votos           999 non-null    int64  \n",
      " 14  Faturamento_num           999 non-null    float64\n",
      " 15  log_fat                   999 non-null    float64\n",
      " 16  genero_prim               999 non-null    object \n",
      " 17  class_std                 999 non-null    object \n",
      " 18  overview_txt              999 non-null    object \n",
      " 19  ovw_len_palavras          999 non-null    int64  \n",
      " 20  ovw_len_chars             999 non-null    int64  \n",
      "dtypes: Int64(2), float64(4), int64(3), object(12)\n",
      "memory usage: 166.0+ KB\n"
     ]
    }
   ],
   "source": [
    "df.info()"
   ]
  },
  {
   "cell_type": "code",
   "execution_count": 414,
   "id": "cbd73c84-4363-412a-bd5b-624b3100bd19",
   "metadata": {},
   "outputs": [],
   "source": [
    "#carregar variaveis númericas para plot\n",
    "variaveis_numericas = []\n",
    "for i in df.columns[0:24].tolist():\n",
    "        if df.dtypes[i] == 'int64' or df.dtypes[i] == 'float64':                        \n",
    "            variaveis_numericas.append(i)  "
   ]
  },
  {
   "cell_type": "code",
   "execution_count": 416,
   "id": "51330599-5d65-49bc-8d89-9465317de2a9",
   "metadata": {},
   "outputs": [],
   "source": [
    "#carregar variaveis categoricas para plot\n",
    "variaveis_categoricas = []\n",
    "for i in df.columns[0:24].tolist():\n",
    "        if df.dtypes[i] == 'object' or df.dtypes[i] == 'category':                        \n",
    "            variaveis_categoricas.append(i)  "
   ]
  },
  {
   "cell_type": "code",
   "execution_count": 418,
   "id": "a417cb2a-fb1e-4f0b-8908-de640f66d5c4",
   "metadata": {},
   "outputs": [
    {
     "name": "stdout",
     "output_type": "stream",
     "text": [
      "Quantidade de variáveis numéricas:  7\n",
      "Quantidade de variáveis categóricas:  12\n"
     ]
    }
   ],
   "source": [
    "# Quantidade das variaveis numéricas e categóricas\n",
    "print('Quantidade de variáveis numéricas: ', len(variaveis_numericas))\n",
    "print('Quantidade de variáveis categóricas: ', len(variaveis_categoricas))"
   ]
  },
  {
   "cell_type": "code",
   "execution_count": 420,
   "id": "13c17935-1fa0-47b6-879e-e0917af6ac49",
   "metadata": {},
   "outputs": [
    {
     "data": {
      "text/plain": [
       "['Nota do IMDB',\n",
       " 'Media_Ponderada_Criticas',\n",
       " 'Número de votos',\n",
       " 'Faturamento_num',\n",
       " 'log_fat',\n",
       " 'ovw_len_palavras',\n",
       " 'ovw_len_chars']"
      ]
     },
     "execution_count": 420,
     "metadata": {},
     "output_type": "execute_result"
    }
   ],
   "source": [
    "# Variáveis numéricas\n",
    "variaveis_numericas"
   ]
  },
  {
   "cell_type": "code",
   "execution_count": 422,
   "id": "e1c0a0ea-3206-4c0e-963d-5867adfdb25c",
   "metadata": {},
   "outputs": [
    {
     "data": {
      "text/plain": [
       "['Nome do filme',\n",
       " 'Classificação etária',\n",
       " 'Gênero',\n",
       " 'Overview do filme',\n",
       " 'Diretor',\n",
       " 'Ator/atriz #1',\n",
       " 'Ator/atriz #2',\n",
       " 'Ator/atriz #3',\n",
       " 'Ator/atriz #4',\n",
       " 'genero_prim',\n",
       " 'class_std',\n",
       " 'overview_txt']"
      ]
     },
     "execution_count": 422,
     "metadata": {},
     "output_type": "execute_result"
    }
   ],
   "source": [
    "# Variáveis categóricas\n",
    "variaveis_categoricas"
   ]
  },
  {
   "cell_type": "code",
   "execution_count": 424,
   "id": "1751892a-5bf9-4c1e-ae86-265cb14f220f",
   "metadata": {},
   "outputs": [
    {
     "name": "stdout",
     "output_type": "stream",
     "text": [
      "<class 'pandas.core.frame.DataFrame'>\n",
      "RangeIndex: 999 entries, 0 to 998\n",
      "Data columns (total 21 columns):\n",
      " #   Column                    Non-Null Count  Dtype  \n",
      "---  ------                    --------------  -----  \n",
      " 0   Nome do filme             999 non-null    object \n",
      " 1   Ano_de_Lancamento         998 non-null    Int64  \n",
      " 2   Duracao_min               999 non-null    Int64  \n",
      " 3   Classificação etária      999 non-null    object \n",
      " 4   Gênero                    999 non-null    object \n",
      " 5   Nota do IMDB              999 non-null    float64\n",
      " 6   Overview do filme         999 non-null    object \n",
      " 7   Media_Ponderada_Criticas  999 non-null    float64\n",
      " 8   Diretor                   999 non-null    object \n",
      " 9   Ator/atriz #1             999 non-null    object \n",
      " 10  Ator/atriz #2             999 non-null    object \n",
      " 11  Ator/atriz #3             999 non-null    object \n",
      " 12  Ator/atriz #4             999 non-null    object \n",
      " 13  Número de votos           999 non-null    int64  \n",
      " 14  Faturamento_num           999 non-null    float64\n",
      " 15  log_fat                   999 non-null    float64\n",
      " 16  genero_prim               999 non-null    object \n",
      " 17  class_std                 999 non-null    object \n",
      " 18  overview_txt              999 non-null    object \n",
      " 19  ovw_len_palavras          999 non-null    int64  \n",
      " 20  ovw_len_chars             999 non-null    int64  \n",
      "dtypes: Int64(2), float64(4), int64(3), object(12)\n",
      "memory usage: 166.0+ KB\n"
     ]
    }
   ],
   "source": [
    "df.info()"
   ]
  },
  {
   "cell_type": "code",
   "execution_count": 428,
   "id": "d3199e96-fc98-47cb-a2ff-c9c17bf3f7f3",
   "metadata": {},
   "outputs": [
    {
     "data": {
      "image/png": "[encoded data removed]",
      "text/plain": [
       "<Figure size 1400x2200 with 8 Axes>"
      ]
     },
     "metadata": {},
     "output_type": "display_data"
    }
   ],
   "source": [
    "# VOU analisar os boxplot novamente para poder avaliar se há \"possíveis outliers\"\n",
    "#Precisamos avaliar cada uma dessas variaveis dentro do contexto dos dados para saber se realmente iremos trata-las como outlier\n",
    "\n",
    "plt.rcParams[\"figure.figsize\"] = [14.00, 22.00]\n",
    "plt.rcParams[\"figure.autolayout\"] = True\n",
    "f, axes = plt.subplots(4, 2) #4 linhas e 2 colunas\n",
    "\n",
    "linha = 0\n",
    "coluna = 0\n",
    "for i in variaveis_numericas:\n",
    "    sns.boxplot(data = df, y=i, ax=axes[linha][coluna])\n",
    "    coluna += 1\n",
    "    if coluna == 2:\n",
    "        linha += 1\n",
    "        coluna = 0            \n",
    "\n",
    "plt.show()"
   ]
  },
  {
   "cell_type": "code",
   "execution_count": 430,
   "id": "edf6b920-c990-4818-8088-098a6ba3625e",
   "metadata": {},
   "outputs": [
    {
     "data": {
      "image/png": "[encoded data removed]",
      "text/plain": [
       "<Figure size 1400x2200 with 8 Axes>"
      ]
     },
     "metadata": {},
     "output_type": "display_data"
    }
   ],
   "source": [
    "# Vou avaliar o histograma para analisar como os dados estão distribuídos.\n",
    "\n",
    "plt.rcParams[\"figure.figsize\"] = [14.00, 22.00]\n",
    "plt.rcParams[\"figure.autolayout\"] = True\n",
    "f, axes = plt.subplots(4, 2) #4 linhas e 2 colunas\n",
    "\n",
    "linha = 0\n",
    "coluna = 0\n",
    "for i in variaveis_numericas:\n",
    "    sns.histplot(data = df, x=i, ax=axes[linha][coluna])\n",
    "    coluna += 1\n",
    "    if coluna == 2:\n",
    "        linha += 1\n",
    "        coluna = 0            \n",
    "\n",
    "plt.show()"
   ]
  },
  {
   "cell_type": "code",
   "execution_count": null,
   "id": "bb51fedd-39d4-447b-b6e1-04db3f0dff05",
   "metadata": {},
   "outputs": [],
   "source": []
  },
  {
   "cell_type": "markdown",
   "id": "a061dfc0-4394-4541-8ff1-68267ee318ad",
   "metadata": {},
   "source": [
    "### Respondendo a terceira pergunta:"
   ]
  },
  {
   "cell_type": "markdown",
   "id": "bfc679ab-40e8-4ae2-b8de-8a69de27301e",
   "metadata": {},
   "source": [
    "#### Cenário A (pré-lançamento, sem críticas/votos/faturamento)"
   ]
  },
  {
   "cell_type": "code",
   "execution_count": 439,
   "id": "c5eac55b-c73d-4776-a012-101315cf327a",
   "metadata": {},
   "outputs": [],
   "source": [
    "# alvo\n",
    "y = df[\"Nota do IMDB\"]"
   ]
  },
  {
   "cell_type": "code",
   "execution_count": 441,
   "id": "2f80ae39-61c6-4130-b72b-fdf9946ec5a1",
   "metadata": {},
   "outputs": [],
   "source": [
    "# criando \"idade do filme\" (mais informativo que o ano cru)\n",
    "df[\"idade_filme\"] = 2025 - df[\"Ano_de_Lancamento\"]"
   ]
  },
  {
   "cell_type": "code",
   "execution_count": 443,
   "id": "f3dfab6e-8d70-45b4-aa51-71094072d881",
   "metadata": {},
   "outputs": [
    {
     "data": {
      "text/html": [
       "<div>\n",
       "<style scoped>\n",
       "    .dataframe tbody tr th:only-of-type {\n",
       "        vertical-align: middle;\n",
       "    }\n",
       "\n",
       "    .dataframe tbody tr th {\n",
       "        vertical-align: top;\n",
       "    }\n",
       "\n",
       "    .dataframe thead th {\n",
       "        text-align: right;\n",
       "    }\n",
       "</style>\n",
       "<table border=\"1\" class=\"dataframe\">\n",
       "  <thead>\n",
       "    <tr style=\"text-align: right;\">\n",
       "      <th></th>\n",
       "      <th>Nome do filme</th>\n",
       "      <th>Ano_de_Lancamento</th>\n",
       "      <th>Duracao_min</th>\n",
       "      <th>Classificação etária</th>\n",
       "      <th>Gênero</th>\n",
       "      <th>Nota do IMDB</th>\n",
       "      <th>Overview do filme</th>\n",
       "      <th>Media_Ponderada_Criticas</th>\n",
       "      <th>Diretor</th>\n",
       "      <th>Ator/atriz #1</th>\n",
       "      <th>Ator/atriz #2</th>\n",
       "      <th>Ator/atriz #3</th>\n",
       "      <th>Ator/atriz #4</th>\n",
       "      <th>Número de votos</th>\n",
       "      <th>Faturamento_num</th>\n",
       "      <th>log_fat</th>\n",
       "      <th>genero_prim</th>\n",
       "      <th>class_std</th>\n",
       "      <th>overview_txt</th>\n",
       "      <th>ovw_len_palavras</th>\n",
       "      <th>ovw_len_chars</th>\n",
       "      <th>idade_filme</th>\n",
       "    </tr>\n",
       "  </thead>\n",
       "  <tbody>\n",
       "    <tr>\n",
       "      <th>0</th>\n",
       "      <td>The Godfather</td>\n",
       "      <td>1972</td>\n",
       "      <td>175</td>\n",
       "      <td>A</td>\n",
       "      <td>Crime, Drama</td>\n",
       "      <td>9.2</td>\n",
       "      <td>An organized crime dynasty's aging patriarch t...</td>\n",
       "      <td>100.0</td>\n",
       "      <td>Francis Ford Coppola</td>\n",
       "      <td>Marlon Brando</td>\n",
       "      <td>Al Pacino</td>\n",
       "      <td>James Caan</td>\n",
       "      <td>Diane Keaton</td>\n",
       "      <td>1620367</td>\n",
       "      <td>134966411.0</td>\n",
       "      <td>18.720537</td>\n",
       "      <td>Crime</td>\n",
       "      <td>R</td>\n",
       "      <td>An organized crime dynasty's aging patriarch t...</td>\n",
       "      <td>16</td>\n",
       "      <td>110</td>\n",
       "      <td>53</td>\n",
       "    </tr>\n",
       "  </tbody>\n",
       "</table>\n",
       "</div>"
      ],
      "text/plain": [
       "   Nome do filme  Ano_de_Lancamento  Duracao_min Classificação etária  \\\n",
       "0  The Godfather               1972          175                    A   \n",
       "\n",
       "         Gênero  Nota do IMDB  \\\n",
       "0  Crime, Drama           9.2   \n",
       "\n",
       "                                   Overview do filme  \\\n",
       "0  An organized crime dynasty's aging patriarch t...   \n",
       "\n",
       "   Media_Ponderada_Criticas               Diretor  Ator/atriz #1  \\\n",
       "0                     100.0  Francis Ford Coppola  Marlon Brando   \n",
       "\n",
       "  Ator/atriz #2 Ator/atriz #3 Ator/atriz #4  Número de votos  Faturamento_num  \\\n",
       "0     Al Pacino    James Caan  Diane Keaton          1620367      134966411.0   \n",
       "\n",
       "     log_fat genero_prim class_std  \\\n",
       "0  18.720537       Crime         R   \n",
       "\n",
       "                                        overview_txt  ovw_len_palavras  \\\n",
       "0  An organized crime dynasty's aging patriarch t...                16   \n",
       "\n",
       "   ovw_len_chars  idade_filme  \n",
       "0            110           53  "
      ]
     },
     "execution_count": 443,
     "metadata": {},
     "output_type": "execute_result"
    }
   ],
   "source": [
    "df.head(1)"
   ]
  },
  {
   "cell_type": "code",
   "execution_count": 445,
   "id": "cf6487fa-0446-4611-87c6-f10662314ff2",
   "metadata": {},
   "outputs": [],
   "source": [
    "# listas de colunas (Cenário A)\n",
    "num_cols = [\"Duracao_min\", \"idade_filme\", \"ovw_len_palavras\", \"ovw_len_chars\"]\n",
    "cat_cols = [\"genero_prim\", \"class_std\"]\n",
    "text_col = \"overview_txt\""
   ]
  },
  {
   "cell_type": "code",
   "execution_count": 447,
   "id": "e1804193-95e3-4660-b9f1-cb0d81f9b429",
   "metadata": {},
   "outputs": [],
   "source": [
    "# Pré-processamento \n",
    "num_pipe = Pipeline([\n",
    "    (\"imp\", SimpleImputer(strategy=\"median\")),  # preenche possíveis NaN\n",
    "    (\"sc\", StandardScaler())                    # bom para modelos lineares\n",
    "])\n",
    "\n",
    "cat_pipe = OneHotEncoder(handle_unknown=\"ignore\")\n",
    "\n",
    "tfidf = TfidfVectorizer(\n",
    "    lowercase=True,\n",
    "    stop_words=\"english\",     # a overview está em inglês\n",
    "    ngram_range=(1,2),        # 1-gram e 2-grams\n",
    "    min_df=3,                 # ignora termos muito raros\n",
    "    max_features=40000\n",
    ")\n",
    "\n",
    "preproc_linear = ColumnTransformer([\n",
    "    (\"num\", num_pipe, num_cols),\n",
    "    (\"cat\", cat_pipe, cat_cols),\n",
    "    (\"txt\", tfidf, text_col),\n",
    "], remainder=\"drop\")"
   ]
  },
  {
   "cell_type": "code",
   "execution_count": 451,
   "id": "d5e83bd2-f3f7-4650-bfac-43812456292c",
   "metadata": {},
   "outputs": [],
   "source": [
    "# Modelo \n",
    "from sklearn.linear_model import Ridge\n",
    "\n",
    "ridge = Ridge(alpha=5.0, random_state=42)  # alpha ajusta regularização\n",
    "\n",
    "pipe_ridge_A = Pipeline([\n",
    "    (\"pre\", preproc_linear),\n",
    "    (\"model\", ridge)\n",
    "])"
   ]
  },
  {
   "cell_type": "code",
   "execution_count": 457,
   "id": "a7b2605b-a5e8-46b0-ae6c-3dfddf57139a",
   "metadata": {},
   "outputs": [
    {
     "name": "stdout",
     "output_type": "stream",
     "text": [
      "[Cenário A | RIDGE] RMSE: 0.263 ± 0.018 | MAE: 0.209 | R²: 0.043\n"
     ]
    }
   ],
   "source": [
    "# Validação por CV \n",
    "from sklearn.model_selection import KFold, cross_validate\n",
    "\n",
    "cv = KFold(n_splits=5, shuffle=True, random_state=42)\n",
    "\n",
    "scores = cross_validate(\n",
    "    pipe_ridge_A, df, y,\n",
    "    cv=cv,\n",
    "    scoring=(\"neg_root_mean_squared_error\", \"neg_mean_absolute_error\", \"r2\"),\n",
    "    n_jobs=-1\n",
    ")\n",
    "\n",
    "rmse = -scores[\"test_neg_root_mean_squared_error\"]\n",
    "mae  = -scores[\"test_neg_mean_absolute_error\"]\n",
    "r2   =  scores[\"test_r2\"]\n",
    "\n",
    "print(f\"[Cenário A | RIDGE] RMSE: {rmse.mean():.3f} ± {rmse.std():.3f} | \"\n",
    "      f\"MAE: {mae.mean():.3f} | R²: {r2.mean():.3f}\")"
   ]
  },
  {
   "cell_type": "markdown",
   "id": "e2ffe27d-ad43-4221-8f44-d39f627a4275",
   "metadata": {},
   "source": [
    "- “Usei um pipeline com: imputação mediana e padronização nas numéricas, one-hot nas categóricas e TF-IDF (1-2 grams) na sinopse. O modelo foi Ridge Regression (linear com regularização L2), validado por KFold (5). Métrica principal: RMSE.”"
   ]
  },
  {
   "cell_type": "markdown",
   "id": "57118882-0642-4efa-89d9-ad011c4439cc",
   "metadata": {},
   "source": [
    "#### Cenário B (pós-lançamento, adicionando popularidade/receita/crítica)"
   ]
  },
  {
   "cell_type": "code",
   "execution_count": 464,
   "id": "b74ed232-0236-45bf-b69d-b4dcc8898fcc",
   "metadata": {},
   "outputs": [
    {
     "name": "stdout",
     "output_type": "stream",
     "text": [
      "[Cenário B | RIDGE] RMSE: 0.231 ± 0.010 | MAE: 0.183 | R²: 0.265\n"
     ]
    }
   ],
   "source": [
    "# criar colunas logadas (não sobrescrevo as originais)\n",
    "df[\"log_votos\"] = np.log1p(df[\"Número de votos\"])\n",
    "df[\"log_fat\"]   = np.log1p(df[\"Faturamento_num\"])\n",
    "\n",
    "num_cols_B = num_cols + [\"log_votos\", \"log_fat\", \"Media_Ponderada_Criticas\"]\n",
    "cat_cols_B = cat_cols\n",
    "text_col   = \"overview_txt\"\n",
    "\n",
    "preproc_linear_B = ColumnTransformer([\n",
    "    (\"num\", Pipeline([(\"imp\", SimpleImputer(strategy=\"median\")),\n",
    "                      (\"sc\", StandardScaler())]), num_cols_B),\n",
    "    (\"cat\", OneHotEncoder(handle_unknown=\"ignore\"), cat_cols_B),\n",
    "    (\"txt\", tfidf, text_col)\n",
    "], remainder=\"drop\")\n",
    "\n",
    "pipe_ridge_B = Pipeline([\n",
    "    (\"pre\", preproc_linear_B),\n",
    "    (\"model\", Ridge(alpha=5.0, random_state=42))\n",
    "])\n",
    "\n",
    "scoresB = cross_validate(\n",
    "    pipe_ridge_B, df, y,\n",
    "    cv=cv,\n",
    "    scoring=(\"neg_root_mean_squared_error\", \"neg_mean_absolute_error\", \"r2\"),\n",
    "    n_jobs=-1\n",
    ")\n",
    "\n",
    "rmseB = -scoresB[\"test_neg_root_mean_squared_error\"]\n",
    "maeB  = -scoresB[\"test_neg_mean_absolute_error\"]\n",
    "r2B   =  scoresB[\"test_r2\"]\n",
    "\n",
    "print(f\"[Cenário B | RIDGE] RMSE: {rmseB.mean():.3f} ± {rmseB.std():.3f} | \"\n",
    "      f\"MAE: {maeB.mean():.3f} | R²: {r2B.mean():.3f}\")"
   ]
  },
  {
   "cell_type": "code",
   "execution_count": null,
   "id": "45555a65-be6b-4b44-8b6d-2f63f229d749",
   "metadata": {},
   "outputs": [],
   "source": []
  },
  {
   "cell_type": "code",
   "execution_count": null,
   "id": "f7538b6a-0826-4189-a936-8ca84619a228",
   "metadata": {},
   "outputs": [],
   "source": []
  },
  {
   "cell_type": "markdown",
   "id": "7cb47e0b-85ce-4961-bd61-b5b6da4a3fa4",
   "metadata": {},
   "source": [
    "### Explique como você faria a previsão da nota do imdb a partir dos dados. Quais variáveis e/ou suas transformações você utilizou e por quê? \n",
    "#### Cenário A – pré-lançamento: \n",
    "- Objetivo: prever a nota quando só temos informações “de catálogo” (nada de votos/receita/crítica ainda).\n",
    "##### Alvo:\n",
    "- Nota do IMDB (contínua, ~6–9 para a maioria dos filmes).\n",
    "##### Numéricas:\n",
    "- Duracao_min – tempo de duração.\n",
    "- idade_filme = 2025 - Ano_de_Lancamento – mais informativa que o ano bruto\n",
    "- ovw_len_palavras e ovw_len_chars – tamanho da sinopse em palavras e caracteres (sinal simples de “riqueza” do texto).\n",
    "##### Categóricas:\n",
    "- genero_prim – 1ª palavra do campo “Gênero” (padronizada antes).\n",
    "- class_std – classificação etária padronizada para um conjunto curto (G / PG / PG-13 / R / NR).\n",
    "##### Pré-processamento (tudo dentro de ColumnTransformer):\n",
    "- Numéricas → SimpleImputer(strategy='median') + StandardScaler(). Por quê? Mediana é robusta a outliers; modelos lineares funcionam melhor com variáveis na mesma escala.\n",
    "- Categóricas → OneHotEncoder(handle_unknown='ignore')\n",
    "#### Cenário B – pós-lançamento:\n",
    "- Objetivo: prever a nota quando já existem sinais de popularidade/receita/crítica.\n",
    "Além de tudo do Cenário A, adicionei:\n",
    "- Sinais de popularidade e performance (transformados em log)\n",
    "- log_votos = log1p(Número de votos) – escala mais estável; reduz assimetria.\n",
    "- log_fat = log1p(Faturamento_num) – idem.\n",
    "- Media_Ponderada_Criticas – resumo numérico das críticas."
   ]
  },
  {
   "cell_type": "markdown",
   "id": "73d60424-65b3-4157-811d-9c7744912262",
   "metadata": {},
   "source": [
    "### Qual tipo de problema estamos resolvendo (regressão, classificação)? \n",
    "- Regressão (alvo contínuo). Estamos prevendo a nota do IMDB em escala aproximadamente contínua; não é uma classificação em classes discretas."
   ]
  },
  {
   "cell_type": "markdown",
   "id": "718abf99-ff3d-4447-99f4-44d2a3379a48",
   "metadata": {},
   "source": [
    "### Qual modelo melhor se aproxima dos dados e quais seus prós e contras?\n",
    "#### Modelo: Ridge Regression (alpha=5)\n",
    "- É regressão linear com regularização L2.\n",
    "##### Por que ele “casa” com os dados?\n",
    "- Temos muitas variáveis de alta dimensionalidade e esparsidade. Modelos lineares regularizados lidam muito bem com isso (evitam overfitting e são eficientes).\n",
    "- Há multicolinearidade (vários termos do texto correlacionados entre si). A L2 “encolhe” os coeficientes e estabiliza o ajuste.\n",
    "- É rápido e estável para validação cruzada e para re-treinar à medida que chegam novos filmes.\n",
    "#### Prós:\n",
    "- Ótimo para dados esparsos e de alta dimensão.\n",
    "- Treino e inferência rápidos.\n",
    "- Coeficientes interpretáveis (dá para inspecionar quais termos/variáveis puxam a nota para cima/baixo).\n",
    "- Regularização L2 reduz overfitting sem zerar coeficientes úteis.\n",
    "#### Contras:\n",
    "- Relações fortemente não lineares podem não ser capturadas (ex.: interações complexas entre termos ou entre variáveis numéricas e texto).\n",
    "- Se a distribuição da nota for muito comprimida (baixa variância), o ganho de R² tende a ser limitado (mesmo com RMSE baixo)."
   ]
  },
  {
   "cell_type": "markdown",
   "id": "b0656156-4c49-4af9-a59f-7317a4d0d0d1",
   "metadata": {},
   "source": [
    "### Qual medida de performance do modelo foi escolhida e por quê?\n",
    "#### Usei validação cruzada K-Fold (5 folds, embaralhada, reprodutível) e reportei:\n",
    "##### RMSE (Root Mean Squared Error) – métrica principal:\n",
    "- Por quê? Penaliza mais os erros grandes, que são os mais danosos do ponto de vista de produto (ex.: recomendar um filme com previsão muito distante da realidade). Além disso, RMSE está na mesma escala da nota (≈ 0–10), facilitando leitura (um RMSE de 0.23 significa erro médio quadrático raiz de ~0.23 ponto de nota).\n",
    "##### MAE (Mean Absolute Error):\n",
    "- Complementa o RMSE com uma visão “robusta” aos outliers.\n",
    "##### R²:\n",
    "- Explica a fração de variância do alvo capturada pelo modelo; útil para entender “capacidade explicativa” quando a variância da nota é pequena."
   ]
  },
  {
   "cell_type": "markdown",
   "id": "965ff130-41c3-4311-9a8f-c77817a0edcf",
   "metadata": {},
   "source": [
    "### Conlusão da resposta:\n",
    "- Antes do lançamento (Cenário A), já dá para prever a nota com erro típico de ~0.26 usando:\n",
    "metadados (gênero/classe etária), duração/idade e o texto da sinopse (TF-IDF).\n",
    "Isso é útil em decisões de curadoria e marketing antes de o filme ir ao ar.\n",
    "- Depois do lançamento (Cenário B), adicionar popularidade (log_votos), receita (log_fat) e crítica (Media_Ponderada_Criticas) melhora a previsão (RMSE ~0.23 e R² ~0.27).\n",
    "- Métrica principal: RMSE, pois é interpretável na escala da nota e pune mais os erros grandes; MAE e R² entram como métricas de apoio.\n",
    "- Modelo recomendado: Ridge Regression no pipeline descrito (simples, rápido, estável e forte para texto + categorias + numéricas)."
   ]
  },
  {
   "cell_type": "code",
   "execution_count": null,
   "id": "53d9c698-934c-4351-9c03-d54476fcdd91",
   "metadata": {},
   "outputs": [],
   "source": []
  },
  {
   "cell_type": "code",
   "execution_count": null,
   "id": "89663388-1271-46d2-8eb8-452afc91b1a5",
   "metadata": {},
   "outputs": [],
   "source": []
  },
  {
   "cell_type": "markdown",
   "id": "b723608f-bfab-4776-a6e4-7c4d1edb8f0b",
   "metadata": {},
   "source": [
    "### Respondendo a quarta pergunta:\n",
    "4.\tSupondo um filme com as seguintes características:\n",
    "\n",
    "{'Series_Title': 'The Shawshank Redemption',\n",
    " 'Released_Year': '1994',\n",
    " 'Certificate': 'A',\n",
    " 'Runtime': '142 min',\n",
    " 'Genre': 'Drama',\n",
    " 'Overview': 'Two imprisoned men bond over a number of years, finding solace and eventual redemption through acts of common decency.',\n",
    " 'Meta_score': 80.0,\n",
    " 'Director': 'Frank Darabont',\n",
    " 'Star1': 'Tim Robbins',\n",
    " 'Star2': 'Morgan Freeman',\n",
    " 'Star3': 'Bob Gunton',\n",
    " 'Star4': 'William Sadler',\n",
    " 'No_of_Votes': 2343110,\n",
    " 'Gross': '28,341,469'}\n",
    "\n",
    "\n",
    "Qual seria a nota do IMDB?"
   ]
  },
  {
   "cell_type": "code",
   "execution_count": 497,
   "id": "b8107cca-006a-4054-81da-0173cc324eb6",
   "metadata": {},
   "outputs": [],
   "source": [
    "# Registro bruto \n",
    "ex = {\n",
    "    \"Nome do filme\": \"The Shawshank Redemption\",\n",
    "    \"Ano_de_Lancamento\": 1994,\n",
    "    \"Classificação etária\": \"A\",\n",
    "    \"Duracao_min\": 142,\n",
    "    \"Gênero\": \"Drama\",\n",
    "    \"overview_txt\": (\"Two imprisoned men bond over a number of years, finding \"\n",
    "                     \"solace and eventual redemption through acts of common decency.\"),\n",
    "    \"Media_Ponderada_Criticas\": 80.0,\n",
    "    \"Número de votos\": 2343110,\n",
    "    \"Faturamento_num\": 28341469\n",
    "}\n",
    "X_one = pd.DataFrame([ex])\n",
    "\n",
    "# ---------- 2) Derivações idênticas às do treino ----------\n",
    "# (a) gênero primário (1ª palavra antes da vírgula)\n",
    "X_one[\"genero_prim\"] = X_one[\"Gênero\"].astype(str).str.split(\",\").str[0].str.strip()\n",
    "\n",
    "# (b) padronização de classificação etária -> class_std (mesmo mapa do notebook)\n",
    "mapa = {\n",
    "    \"U\":\"G\", \"G\":\"G\",\n",
    "    \"UA\":\"PG\", \"U/A\":\"PG\", \"PG\":\"PG\", \"TV-PG\":\"PG\", \"Passed\":\"PG\",\n",
    "    \"PG-13\":\"PG-13\", \"TV-14\":\"PG-13\", \"16\":\"PG-13\",\n",
    "    \"R\":\"R\", \"TV-MA\":\"R\", \"A\":\"R\",\n",
    "    \"Approved\":\"PG\", \"NR\":\"NR\", \"Unrated\":\"NR\", \"GP\":\"PG\"\n",
    "}\n",
    "X_one[\"class_std\"] = X_one[\"Classificação etária\"].astype(str).map(mapa).fillna(\"NR\")\n",
    "\n",
    "# (c) idade do filme (mesma referência de 2025 usada no estudo)\n",
    "X_one[\"idade_filme\"] = 2025 - X_one[\"Ano_de_Lancamento\"].astype(int)\n",
    "\n",
    "# (d) comprimentos de overview (mesmo que no treino)\n",
    "X_one[\"ovw_len_palavras\"] = X_one[\"overview_txt\"].astype(str).str.split().str.len()\n",
    "X_one[\"ovw_len_chars\"]    = X_one[\"overview_txt\"].astype(str).str.len()\n",
    "\n",
    "# (e) variáveis em log (cauda longa)\n",
    "X_one[\"log_votos\"] = np.log1p(X_one[\"Número de votos\"])\n",
    "X_one[\"log_fat\"]   = np.log1p(X_one[\"Faturamento_num\"])"
   ]
  },
  {
   "cell_type": "code",
   "execution_count": 493,
   "id": "d22140e7-d599-4175-b1e7-0f8881806c99",
   "metadata": {},
   "outputs": [
    {
     "name": "stdout",
     "output_type": "stream",
     "text": [
      "Nota prevista do IMDB: 8.31\n"
     ]
    }
   ],
   "source": [
    "# Treinar o pipeline nos dados completos (mesmo df, y do Cenário B)\n",
    "pipe_ridge_B.fit(df, y)          # <- essencial para evitar o NotFittedError\n",
    "\n",
    "# Prever a nota para o novo registro\n",
    "y_pred = pipe_ridge_B.predict(X_one)[0]\n",
    "print(f\"Nota prevista do IMDB: {y_pred:.2f}\")"
   ]
  },
  {
   "cell_type": "code",
   "execution_count": 495,
   "id": "ab211d26-867b-4fe1-8cc8-fa4b3ec81c03",
   "metadata": {},
   "outputs": [
    {
     "name": "stdout",
     "output_type": "stream",
     "text": [
      "Intervalo ~95%: [7.85, 8.77]\n"
     ]
    }
   ],
   "source": [
    "rmse_B = 0.231  # média que você obteve no CV\n",
    "low  = y_pred - 2*rmse_B\n",
    "high = y_pred + 2*rmse_B\n",
    "print(f\"Intervalo ~95%: [{low:.2f}, {high:.2f}]\")"
   ]
  },
  {
   "cell_type": "code",
   "execution_count": null,
   "id": "ae86af59-c81c-4ce3-8f4b-90e59ecd3a3b",
   "metadata": {},
   "outputs": [],
   "source": []
  },
  {
   "cell_type": "code",
   "execution_count": null,
   "id": "01c3f7ad-6a3b-4f44-a942-8d29ed8625e5",
   "metadata": {},
   "outputs": [],
   "source": []
  },
  {
   "cell_type": "markdown",
   "id": "5340df82-d87c-4e08-b013-b69c25b28a48",
   "metadata": {},
   "source": [
    "##### Usei o mesmo pipeline do Cenário B (pós-lançamento):\n",
    "- Esse cenário incorpora, além de informações “fixas” do filme, sinais de popularidade (votos), receita (bilheteria) e crítica (metascore).\n",
    "##### Transformei o registro de entrada como no treino:\n",
    "- Para o filme informado, foram criadas as mesmas colunas derivadas:\n",
    "- genero_prim = \"Drama\" (primeiro gênero).\n",
    "- class_std = \"R\" (a partir do certificado “A”, conforme o mapa padronizado usado no treino).\n",
    "- idade_filme = 2025 − 1994 = 31.\n",
    "- Comprimentos do overview: ovw_len_palavras e ovw_len_chars.\n",
    "- Sinais de escala/cauda longa: log_votos = log1p(2.343.110), log_fat = log1p(28.341.469).\n",
    "- Media_Ponderada_Criticas = 80.\n",
    "##### Ajuste e predição:\n",
    "- O pipeline (preprocessamento + Ridge) foi treinado nos dados completos do Cenário B e, em seguida, usado para prever a nota do registro acima.\n",
    "#### Resultado:\n",
    "- Nota IMDb prevista: 8,31\n",
    "- Intervalo aproximado de 95% (usando o RMSE de validação como referência de incerteza): [7,85 ; 8,77]\n",
    "\n",
    "\n",
    "#### Conclusão: — Pergunta 4 (nota do IMDb para o filme exemplo)\n",
    "\n",
    "- Resultado: aplicando o mesmo pipeline do Cenário B (o modelo que usa popularidade, receita, crítica, texto do overview e variáveis básicas), a nota prevista do IMDb para o filme informado é ≈ 8,31.\n",
    "Considerando a incerteza observada na validação (RMSE ≈ 0,23), um intervalo razoável é de 7,85 a 8,77.\n",
    "\n",
    "##### Por que esse valor faz sentido?\n",
    "\n",
    "- Muitos votos (2,34 milhões): indicam forte aceitação do público, o que costuma elevar a nota prevista.\n",
    "\n",
    "- Crítica positiva (Meta_score 80): reforça a expectativa de boa avaliação.\n",
    "\n",
    "- Texto do overview: termos e expressões associados a drama de alto impacto (“redemption”, “bond”, etc.) ajudam o modelo a “reconhecer” padrões de filmes bem avaliados.\n",
    "\n",
    "- Idade do filme e bilheteria entram normalizadas; no conjunto, seu efeito é mais moderado que o de votos e crítica, mas contribuem.\n",
    "\n",
    "##### Como chegamos lá, de forma simples:\n",
    "\n",
    "- Recriamos as mesmas transformações do treino (ex.: genero_prim, class_std, log_votos, log_fat, contagem do overview, TF-IDF do texto).\n",
    "\n",
    "- Passamos tudo pelo pipeline treinado (pré-processamento + Ridge Regression).\n",
    "\n",
    "- Obtivemos a previsão e usamos o RMSE para comunicar a faixa de incerteza.\n",
    "\n",
    "- Limites a considerar: é uma estimativa estatística baseada no conjunto disponível; fatores fora dos dados (campanhas, prêmios, contexto histórico) não são capturados. Ainda assim, o modelo é coerente e generaliza bem porque foi validado por cross-validation e usa regularização.\n",
    "\n",
    "- Em uma frase: para o filme descrito, nosso modelo prevê IMDb ≈ 8,31 (faixa 7,85–8,77), principalmente impulsionado por muitos votos, crítica forte e um overview típico de dramas muito bem avaliados."
   ]
  },
  {
   "cell_type": "code",
   "execution_count": null,
   "id": "2740da83-b4e5-49a5-a88b-25986eb2f133",
   "metadata": {},
   "outputs": [],
   "source": []
  },
  {
   "cell_type": "code",
   "execution_count": null,
   "id": "ddb4e911-e01c-4e44-b07c-3efc38136bad",
   "metadata": {},
   "outputs": [],
   "source": []
  },
  {
   "cell_type": "code",
   "execution_count": 502,
   "id": "f52161f1-234b-4be4-91ec-754a2af94eba",
   "metadata": {},
   "outputs": [
    {
     "name": "stdout",
     "output_type": "stream",
     "text": [
      "Pipeline ajustado em 100% dos dados (Cenário B).\n"
     ]
    }
   ],
   "source": [
    "# Treinar o pipeline final (Cenário B) em 100% do dataset\n",
    "# y: variável alvo (nota do IMDB) — \n",
    "y = df[\"Nota do IMDB\"]\n",
    "\n",
    "pipe_ridge_B.fit(df, y)   # <--- ESSENCIAL para salvar um objeto já \"fitted\"\n",
    "print(\"Pipeline ajustado em 100% dos dados (Cenário B).\")"
   ]
  },
  {
   "cell_type": "code",
   "execution_count": 504,
   "id": "da086956-9c1f-4ba2-b083-d4d833e1ae3a",
   "metadata": {},
   "outputs": [
    {
     "name": "stdout",
     "output_type": "stream",
     "text": [
      "Arquivo salvo: imdb_model_ridgeB.pkl\n"
     ]
    }
   ],
   "source": [
    "# Salvar o pipeline em .pkl com joblib\n",
    "\n",
    "import joblib, sklearn, sys, platform, time\n",
    "\n",
    "# Metadados úteis para rastreabilidade e reprodutibilidade\n",
    "meta = {\n",
    "    \"scenario\": \"B (pos-lancamento)\",\n",
    "    \"model\": \"Ridge(alpha=5.0, random_state=42)\",\n",
    "    \"created_at\": time.strftime(\"%Y-%m-%d %H:%M:%S\"),\n",
    "    \"sklearn_version\": sklearn.__version__,\n",
    "    \"python_version\": sys.version.split()[0],\n",
    "    \"platform\": platform.platform(),\n",
    "    # Quais colunas o pipeline espera (do jeito que você usou no notebook)\n",
    "    \"features_expected\": {\n",
    "        \"numeric\": [\n",
    "            \"Duracao_min\", \"idade_filme\",\n",
    "            \"ovw_len_palavras\", \"ovw_len_chars\",\n",
    "            \"log_votos\", \"log_fat\", \"Media_Ponderada_Criticas\"\n",
    "        ],\n",
    "        \"categorical\": [\"genero_prim\", \"class_std\"],\n",
    "        \"text\": \"overview_txt\"\n",
    "    },\n",
    "    \"target\": \"Nota do IMDB\",\n",
    "    \"cv_metrics\": {\"RMSE\": 0.231, \"R2\": 0.265}  # do seu KFold 5 do Cenário B\n",
    "}\n",
    "\n",
    "# Empacotei pipeline + metadados em um dicionário (bom para carregar depois)\n",
    "bundle = {\"pipeline\": pipe_ridge_B, \"meta\": meta}\n",
    "\n",
    "# Salva com compressão — 'xz' deixa pequeno sem demorar demais\n",
    "file_name = \"imdb_model_ridgeB.pkl\"\n",
    "joblib.dump(bundle, file_name, compress=(\"xz\", 3))\n",
    "print(f\"Arquivo salvo: {file_name}\")"
   ]
  },
  {
   "cell_type": "code",
   "execution_count": null,
   "id": "b231cf84-d2e8-40f1-a3bb-9a572600d18b",
   "metadata": {},
   "outputs": [],
   "source": []
  },
  {
   "cell_type": "code",
   "execution_count": 508,
   "id": "298716e5-1f45-4e42-9514-4fb948a24b8b",
   "metadata": {},
   "outputs": [
    {
     "name": "stdout",
     "output_type": "stream",
     "text": [
      "Meta carregado: {'scenario': 'B (pos-lancamento)', 'model': 'Ridge(alpha=5.0, random_state=42)', 'created_at': '2025-08-27 22:30:52', 'sklearn_version': '1.6.1', 'python_version': '3.12.3', 'platform': 'Windows-11-10.0.26100-SP0', 'features_expected': {'numeric': ['Duracao_min', 'idade_filme', 'ovw_len_palavras', 'ovw_len_chars', 'log_votos', 'log_fat', 'Media_Ponderada_Criticas'], 'categorical': ['genero_prim', 'class_std'], 'text': 'overview_txt'}, 'target': 'Nota do IMDB', 'cv_metrics': {'RMSE': 0.231, 'R2': 0.265}}\n",
      "Previsões de teste (3 primeiras linhas): [8.60875802 8.38675154 8.50176349]\n"
     ]
    }
   ],
   "source": [
    "\n",
    "# Teste rápido: carregar e prever para ver se está tudo OK\n",
    "\n",
    "loaded = joblib.load(\"imdb_model_ridgeB.pkl\")\n",
    "pipe_loaded = loaded[\"pipeline\"]\n",
    "print(\"Meta carregado:\", loaded[\"meta\"])\n",
    "\n",
    "\n",
    "pred_teste = pipe_loaded.predict(df.head(3))\n",
    "print(\"Previsões de teste (3 primeiras linhas):\", pred_teste)"
   ]
  },
  {
   "cell_type": "code",
   "execution_count": null,
   "id": "e3f5cca5-0ee6-4d35-92a3-d0b21ad34d5c",
   "metadata": {},
   "outputs": [],
   "source": []
  }
 ],
 "metadata": {
  "kernelspec": {
   "display_name": "Python [conda env:base] *",
   "language": "python",
   "name": "conda-base-py"
  },
  "language_info": {
   "codemirror_mode": {
    "name": "ipython",
    "version": 3
   },
   "file_extension": ".py",
   "mimetype": "text/x-python",
   "name": "python",
   "nbconvert_exporter": "python",
   "pygments_lexer": "ipython3",
   "version": "3.12.3"
  }
 },
 "nbformat": 4,
 "nbformat_minor": 5
}
